{
 "cells": [
  {
   "cell_type": "markdown",
   "metadata": {},
   "source": [
    "#### Imports"
   ]
  },
  {
   "cell_type": "code",
   "execution_count": 24,
   "metadata": {},
   "outputs": [],
   "source": [
    "import os"
   ]
  },
  {
   "cell_type": "markdown",
   "metadata": {},
   "source": [
    "### Small Movie Lens Dataset"
   ]
  },
  {
   "cell_type": "code",
   "execution_count": 25,
   "metadata": {},
   "outputs": [],
   "source": [
    "small_dataset_path = './../../Datasets/movieLenSmall'"
   ]
  },
  {
   "cell_type": "markdown",
   "metadata": {},
   "source": [
    "#### Ratings"
   ]
  },
  {
   "cell_type": "code",
   "execution_count": 26,
   "metadata": {},
   "outputs": [],
   "source": [
    "small_ratings_path = os.path.join(small_dataset_path, 'ratings.csv')\n",
    "small_ratings = sc.textFile(name=small_ratings_path)"
   ]
  },
  {
   "cell_type": "markdown",
   "metadata": {},
   "source": [
    "Remove the header line from the ratings"
   ]
  },
  {
   "cell_type": "code",
   "execution_count": 27,
   "metadata": {},
   "outputs": [],
   "source": [
    "small_ratings_header = small_ratings.take(1)[0]"
   ]
  },
  {
   "cell_type": "code",
   "execution_count": 28,
   "metadata": {},
   "outputs": [
    {
     "data": {
      "text/plain": [
       "'userId,movieId,rating,timestamp'"
      ]
     },
     "execution_count": 28,
     "metadata": {},
     "output_type": "execute_result"
    }
   ],
   "source": [
    "small_ratings_header"
   ]
  },
  {
   "cell_type": "code",
   "execution_count": 29,
   "metadata": {},
   "outputs": [],
   "source": [
    "small_ratings_data = small_ratings.filter(lambda line: line!=small_ratings_header)\\\n",
    "    .map(lambda line: line.split(\",\")).map(lambda tokens: (tokens[0],tokens[1],tokens[2])).cache()"
   ]
  },
  {
   "cell_type": "code",
   "execution_count": 30,
   "metadata": {},
   "outputs": [
    {
     "data": {
      "text/plain": [
       "[('1', '1', '4.0'), ('1', '3', '4.0'), ('1', '6', '4.0')]"
      ]
     },
     "execution_count": 30,
     "metadata": {},
     "output_type": "execute_result"
    }
   ],
   "source": [
    "small_ratings_data.take(3)"
   ]
  },
  {
   "cell_type": "markdown",
   "metadata": {},
   "source": [
    "#### Movies"
   ]
  },
  {
   "cell_type": "code",
   "execution_count": 31,
   "metadata": {},
   "outputs": [],
   "source": [
    "small_movies_path = os.path.join(small_dataset_path, 'movies.csv')\n",
    "small_movies = sc.textFile(name=small_movies_path)"
   ]
  },
  {
   "cell_type": "code",
   "execution_count": 32,
   "metadata": {},
   "outputs": [],
   "source": [
    "small_movies_header = small_movies.take(1)[0]"
   ]
  },
  {
   "cell_type": "code",
   "execution_count": 33,
   "metadata": {},
   "outputs": [
    {
     "data": {
      "text/plain": [
       "'movieId,title,genres'"
      ]
     },
     "execution_count": 33,
     "metadata": {},
     "output_type": "execute_result"
    }
   ],
   "source": [
    "small_movies_header"
   ]
  },
  {
   "cell_type": "code",
   "execution_count": 34,
   "metadata": {},
   "outputs": [],
   "source": [
    "small_movies_data = small_movies.filter(lambda line: line!=small_movies_header)\\\n",
    "    .map(lambda line: line.split(\",\")).map(lambda tokens: (tokens[0],tokens[1])).cache()"
   ]
  },
  {
   "cell_type": "code",
   "execution_count": 35,
   "metadata": {},
   "outputs": [
    {
     "data": {
      "text/plain": [
       "[('1', 'Toy Story (1995)'),\n",
       " ('2', 'Jumanji (1995)'),\n",
       " ('3', 'Grumpier Old Men (1995)')]"
      ]
     },
     "execution_count": 35,
     "metadata": {},
     "output_type": "execute_result"
    }
   ],
   "source": [
    "small_movies_data.take(3)"
   ]
  },
  {
   "cell_type": "markdown",
   "metadata": {},
   "source": [
    "#### Declare Datasets"
   ]
  },
  {
   "cell_type": "code",
   "execution_count": 36,
   "metadata": {},
   "outputs": [],
   "source": [
    "training_small_ratings, validation_small_ratings_temp, test_small_ratings_temp = small_ratings_data.randomSplit([6,2,2], seed= 400)"
   ]
  },
  {
   "cell_type": "code",
   "execution_count": 37,
   "metadata": {},
   "outputs": [],
   "source": [
    "validation_small_ratings = validation_small_ratings_temp.map(lambda x: (x[0], x[1]))"
   ]
  },
  {
   "cell_type": "code",
   "execution_count": 38,
   "metadata": {},
   "outputs": [],
   "source": [
    "test_small_ratings = test_small_ratings_temp.map(lambda x: (x[0], x[1]))"
   ]
  },
  {
   "cell_type": "code",
   "execution_count": 39,
   "metadata": {},
   "outputs": [
    {
     "data": {
      "text/plain": [
       "[('1', '47'), ('1', '50'), ('1', '110'), ('1', '333'), ('1', '362')]"
      ]
     },
     "execution_count": 39,
     "metadata": {},
     "output_type": "execute_result"
    }
   ],
   "source": [
    "validation_small_ratings.take(5)"
   ]
  },
  {
   "cell_type": "markdown",
   "metadata": {},
   "source": [
    "### Training a recommender with Aternarting Least Squares"
   ]
  },
  {
   "cell_type": "code",
   "execution_count": 40,
   "metadata": {},
   "outputs": [],
   "source": [
    "from pyspark.mllib.recommendation import ALS\n",
    "import math"
   ]
  },
  {
   "cell_type": "markdown",
   "metadata": {},
   "source": [
    "#### Setting the training parameters"
   ]
  },
  {
   "cell_type": "code",
   "execution_count": 22,
   "metadata": {},
   "outputs": [],
   "source": [
    "iterations = 10\n",
    "regularization_parameter = 0.1\n",
    "ranks = [4, 8, 12]\n",
    "errors = [0, 0, 0]\n",
    "err = 0"
   ]
  },
  {
   "cell_type": "code",
   "execution_count": 18,
   "metadata": {},
   "outputs": [],
   "source": [
    "min_error = 1e3\n",
    "best_rank = -1\n",
    "best_iteration = -1"
   ]
  },
  {
   "cell_type": "code",
   "execution_count": 19,
   "metadata": {},
   "outputs": [
    {
     "name": "stdout",
     "output_type": "stream",
     "text": [
      "For rank 4 the RMSE is 0.9004611692709928\n",
      "For rank 8 the RMSE is 0.9035024272363643\n",
      "For rank 12 the RMSE is 0.9068175717565644\n"
     ]
    }
   ],
   "source": [
    "for rank in ranks:\n",
    "    \n",
    "    model = ALS.train(training_small_ratings, rank, seed=0, iterations=iterations,\n",
    "                      lambda_=regularization_parameter)\n",
    "    predictions = model.predictAll(validation_small_ratings).map(lambda r: ((r[0], r[1]), r[2]))\n",
    "    rates_and_preds = validation_small_ratings_temp.map(lambda r: ((int(r[0]), int(r[1])), float(r[2]))).join(predictions)\n",
    "    error = math.sqrt(rates_and_preds.map(lambda r: (r[1][0] - r[1][1])**2).mean())\n",
    "    errors[err] = error\n",
    "    err += 1\n",
    "    print (f'For rank {rank} the RMSE is {error}')\n",
    "    if error < min_error:\n",
    "        min_error = error\n",
    "        best_rank = rank"
   ]
  },
  {
   "cell_type": "code",
   "execution_count": 20,
   "metadata": {},
   "outputs": [
    {
     "name": "stdout",
     "output_type": "stream",
     "text": [
      "The best model was derived from rank:4 with a minimum error of 0.9004611692709928\n"
     ]
    }
   ],
   "source": [
    "print(f'The best model was derived from rank:{best_rank} with a minimum error of {min_error}')"
   ]
  },
  {
   "cell_type": "code",
   "execution_count": 31,
   "metadata": {},
   "outputs": [
    {
     "data": {
      "text/plain": [
       "[((232, 45208), 1.4357010972030038),\n",
       " ((368, 3272), 3.131348041802032),\n",
       " ((610, 52328), 4.125442899653168)]"
      ]
     },
     "execution_count": 31,
     "metadata": {},
     "output_type": "execute_result"
    }
   ],
   "source": [
    "predictions.take(3)"
   ]
  },
  {
   "cell_type": "code",
   "execution_count": 32,
   "metadata": {},
   "outputs": [],
   "source": [
    "model = ALS.train(training_small_ratings, rank, seed=5, iterations=iterations,\n",
    "                  lambda_=regularization_parameter)\n",
    "predictions = model.predictAll(test_small_ratings).map(lambda r: ((r[0], r[1]), r[2]))\n",
    "rates_and_preds = test_small_ratings_temp.map(lambda r: ((int(r[0]), int(r[1])), float(r[2]))).join(predictions)\n",
    "error = math.sqrt(rates_and_preds.map(lambda r: (r[1][0] - r[1][1])**2).mean())"
   ]
  },
  {
   "cell_type": "code",
   "execution_count": 33,
   "metadata": {},
   "outputs": [
    {
     "name": "stdout",
     "output_type": "stream",
     "text": [
      "Test set RMSE error: 0.918218211778835\n"
     ]
    }
   ],
   "source": [
    "print(f'Test set RMSE error: {error}')"
   ]
  },
  {
   "cell_type": "markdown",
   "metadata": {},
   "source": [
    "#### Making predictions"
   ]
  },
  {
   "cell_type": "markdown",
   "metadata": {},
   "source": [
    "Loading the movies file:"
   ]
  },
  {
   "cell_type": "code",
   "execution_count": 41,
   "metadata": {},
   "outputs": [],
   "source": [
    "small_movies_file = os.path.join(small_dataset_path, 'movies.csv')\n",
    "small_movies = sc.textFile(small_movies_file)\n",
    "small_movies_header = small_movies.take(1)[0]"
   ]
  },
  {
   "cell_type": "code",
   "execution_count": 42,
   "metadata": {},
   "outputs": [],
   "source": [
    "small_movies_data = small_movies.filter(lambda line: line!=small_movies_header)\\\n",
    "    .map(lambda line: line.split(\",\")).map(lambda tokens: (int(tokens[0]),tokens[1],tokens[2])).cache()"
   ]
  },
  {
   "cell_type": "code",
   "execution_count": 43,
   "metadata": {},
   "outputs": [],
   "source": [
    "small_movies_titles = small_movies_data.map(lambda x: (int(x[0]),x[1]))"
   ]
  },
  {
   "cell_type": "code",
   "execution_count": 44,
   "metadata": {},
   "outputs": [
    {
     "data": {
      "text/plain": [
       "[(1, 'Toy Story (1995)'),\n",
       " (2, 'Jumanji (1995)'),\n",
       " (3, 'Grumpier Old Men (1995)'),\n",
       " (4, 'Waiting to Exhale (1995)'),\n",
       " (5, 'Father of the Bride Part II (1995)'),\n",
       " (6, 'Heat (1995)'),\n",
       " (7, 'Sabrina (1995)'),\n",
       " (8, 'Tom and Huck (1995)'),\n",
       " (9, 'Sudden Death (1995)'),\n",
       " (10, 'GoldenEye (1995)')]"
      ]
     },
     "execution_count": 44,
     "metadata": {},
     "output_type": "execute_result"
    }
   ],
   "source": [
    "small_movies_titles.take(10)"
   ]
  },
  {
   "cell_type": "code",
   "execution_count": 45,
   "metadata": {},
   "outputs": [],
   "source": [
    "def avg(lst):\n",
    "    \n",
    "    return sum(lst)/len(lst)\n",
    "\n",
    "small_movie_ID_with_ratings_RDD = (small_ratings_data.map(lambda x: (x[1], x[2])).groupByKey()).map(lambda x : (x[0], [float(elem) for elem in list(x[1])]))\n",
    "small_movie_rating_counts_RDD = small_movie_ID_with_ratings_RDD.map(lambda x: (int(x[0]), (avg(x[1]), len(x[1]))))"
   ]
  },
  {
   "cell_type": "code",
   "execution_count": 46,
   "metadata": {},
   "outputs": [
    {
     "data": {
      "text/plain": [
       "[(1, (3.9209302325581397, 215)),\n",
       " (50, (4.237745098039215, 204)),\n",
       " (70, (3.5090909090909093, 55))]"
      ]
     },
     "execution_count": 46,
     "metadata": {},
     "output_type": "execute_result"
    }
   ],
   "source": [
    "small_movie_rating_counts_RDD.take(3)"
   ]
  },
  {
   "cell_type": "markdown",
   "metadata": {},
   "source": [
    "Create a fake user with ID 0 and assign some ratings"
   ]
  },
  {
   "cell_type": "code",
   "execution_count": 148,
   "metadata": {},
   "outputs": [],
   "source": [
    "new_user_ID = 0\n",
    "\n",
    "# The format of each line is (userID, movieID, rating)\n",
    "new_user_ratings = [\n",
    "     (0,1,5), # Toy Story (1995)\n",
    "     (0,2,5), # Jumanji (1995)\n",
    "     (0,3,2), # Grumpier Old Men (1995)\n",
    "     (0,4,1), # Waiting to Exhale (1995)\n",
    "     (0,5,1), # Father of the Bride Part II (1995)\n",
    "     (0,6,3), # Heat (1995)\n",
    "     (0,7,1), # Sabrina (1995)\n",
    "     (0,8,2), # Tom and Huck (1995)\n",
    "     (0,9,3) , # Sudden Death (1995)\n",
    "     (0,10,4) # GoldenEye (1995)\n",
    "    ]\n",
    "new_user_ratings_RDD = sc.parallelize(new_user_ratings)"
   ]
  },
  {
   "cell_type": "code",
   "execution_count": 149,
   "metadata": {},
   "outputs": [],
   "source": [
    "complete_data_with_new_ratings_RDD = small_ratings_data.union(new_user_ratings_RDD)"
   ]
  },
  {
   "cell_type": "code",
   "execution_count": 129,
   "metadata": {},
   "outputs": [
    {
     "name": "stdout",
     "output_type": "stream",
     "text": [
      "Model trained in 1.9609730243682861 seconds\n"
     ]
    }
   ],
   "source": [
    "from time import time\n",
    "\n",
    "start = time()\n",
    "\n",
    "new_ratings_model = ALS.train(complete_data_with_new_ratings_RDD, best_rank, seed=0, \n",
    "                              iterations=iterations, lambda_=regularization_parameter)\n",
    "\n",
    "print(f'Model trained in {time() - start} seconds')"
   ]
  },
  {
   "cell_type": "code",
   "execution_count": 150,
   "metadata": {},
   "outputs": [],
   "source": [
    "new_user_ratings_ids = map(lambda x: x[1], new_user_ratings) # get just movie IDs\n",
    "new_user_unrated_movies_RDD = (small_movies_data.filter(lambda x: x[0] not in new_user_ratings_ids).map(lambda x: (new_user_ID, x[0])))\n",
    "\n",
    "# Use the input RDD, new_user_unrated_movies_RDD, with new_ratings_model.predictAll() to predict new ratings for the movies\n",
    "new_user_recommendations_RDD = new_ratings_model.predictAll(new_user_unrated_movies_RDD)"
   ]
  },
  {
   "cell_type": "markdown",
   "metadata": {},
   "source": [
    "Show the extracted recommendations"
   ]
  },
  {
   "cell_type": "code",
   "execution_count": 153,
   "metadata": {},
   "outputs": [
    {
     "data": {
      "text/plain": [
       "[(69720, ((3.845444347349426, 'Hood of Horror (2006)'), (4.5, 1))),\n",
       " (3240, ((3.0143997470382344, '\"Big Tease'), (3.25, 2)))]"
      ]
     },
     "execution_count": 153,
     "metadata": {},
     "output_type": "execute_result"
    }
   ],
   "source": [
    "new_user_recommendations_rating_title_and_count_RDD.take(2)"
   ]
  },
  {
   "cell_type": "code",
   "execution_count": 154,
   "metadata": {},
   "outputs": [
    {
     "data": {
      "text/plain": [
       "[(69720, ((3.845444347349426, 'Hood of Horror (2006)'), (4.5, 1))),\n",
       " (3240, ((3.0143997470382344, '\"Big Tease'), (3.25, 2))),\n",
       " (98160, ((1.2273797070898143, 'Nature Calls (2012)'), (1.5, 1))),\n",
       " (1320,\n",
       "  ((2.8746905379925787, 'Alien³ (a.k.a. Alien 3) (1992)'),\n",
       "   (3.148936170212766, 47))),\n",
       " (2040,\n",
       "  ((3.0644923806019424, '\"Computer Wore Tennis Shoes'),\n",
       "   (2.857142857142857, 7)))]"
      ]
     },
     "execution_count": 154,
     "metadata": {},
     "output_type": "execute_result"
    }
   ],
   "source": [
    "new_user_recommendations_rating_RDD = new_user_recommendations_RDD.map(lambda x: (x.product, x.rating))\n",
    "new_user_recommendations_rating_title_and_count_RDD = \\\n",
    "    new_user_recommendations_rating_RDD.join(small_movies_titles).join(small_movie_rating_counts_RDD)\n",
    "new_user_recommendations_rating_title_and_count_RDD.take(5) "
   ]
  },
  {
   "cell_type": "code",
   "execution_count": 155,
   "metadata": {},
   "outputs": [],
   "source": [
    "new_user_recommendations_rating_title_and_count_RDD = \\\n",
    "    new_user_recommendations_rating_title_and_count_RDD.map(lambda r: (r[1][0][1], r[1][0][0], r[1][1]))"
   ]
  },
  {
   "cell_type": "markdown",
   "metadata": {},
   "source": [
    "Take top recommendations with more than 20 reviews:"
   ]
  },
  {
   "cell_type": "code",
   "execution_count": 169,
   "metadata": {},
   "outputs": [],
   "source": [
    "top_movies = new_user_recommendations_rating_title_and_count_RDD.filter(lambda r: r[2][1]>=20).takeOrdered(10, key=lambda x: -x[1])"
   ]
  },
  {
   "cell_type": "code",
   "execution_count": 170,
   "metadata": {},
   "outputs": [
    {
     "name": "stdout",
     "output_type": "stream",
     "text": [
      "-----------\n",
      "Three Colors: Blue (Trois couleurs: Bleu) (1993), Rate 3.8958333333333335 from 24 users, with predicted review: 4.5125877441539695\n",
      "-----------\n",
      "The Lego Movie (2014), Rate 3.870967741935484 from 31 users, with predicted review: 4.465857609239915\n",
      "-----------\n",
      "Moonrise Kingdom (2012), Rate 3.7758620689655173 from 29 users, with predicted review: 4.430650711775922\n",
      "-----------\n",
      "\"Philadelphia Story, Rate 4.310344827586207 from 29 users, with predicted review: 4.420493800894658\n",
      "-----------\n",
      "Little Big Man (1970), Rate 4.145833333333333 from 24 users, with predicted review: 4.366707043305809\n",
      "-----------\n",
      "Thor: Ragnarok (2017), Rate 4.025 from 20 users, with predicted review: 4.358617201286712\n",
      "-----------\n",
      "Logan (2017), Rate 4.28 from 25 users, with predicted review: 4.350759028924431\n",
      "-----------\n",
      "Dr. Horrible's Sing-Along Blog (2008), Rate 3.9166666666666665 from 24 users, with predicted review: 4.350511012919956\n",
      "-----------\n",
      "Dogville (2003), Rate 4.025 from 20 users, with predicted review: 4.339796346544865\n",
      "-----------\n",
      "\"Killing Fields, Rate 4.017857142857143 from 28 users, with predicted review: 4.339306846793942\n"
     ]
    }
   ],
   "source": [
    "for elem in top_movies:\n",
    "    \n",
    "    print('-----------')\n",
    "    print(f'{elem[0]}, Rate {elem[2][0]} from {elem[2][1]} users, with predicted review: {elem[1]}')"
   ]
  },
  {
   "cell_type": "markdown",
   "metadata": {},
   "source": [
    "### MovieLens Big dataset "
   ]
  },
  {
   "cell_type": "code",
   "execution_count": 171,
   "metadata": {},
   "outputs": [],
   "source": [
    "full_dataset_path = './../../Datasets/MovieLensFull'\n",
    "ratings_path = os.path.join(full_dataset_path, 'ratings.csv')\n",
    "ratings = sc.textFile(name=ratings_path)"
   ]
  },
  {
   "cell_type": "code",
   "execution_count": null,
   "metadata": {},
   "outputs": [],
   "source": [
    "ratings_header = ratings.take(1)[0]\n",
    "ratings_data = ratings.filter(lambda line: line!=ratings_header)\\\n",
    "    .map(lambda line: line.split(\",\")).map(lambda tokens: (int(tokens[0]),int(tokens[1]),float(tokens[2]))).cache()"
   ]
  },
  {
   "cell_type": "code",
   "execution_count": 178,
   "metadata": {},
   "outputs": [],
   "source": [
    "movies_file = os.path.join(full_dataset_path, 'movies.csv')\n",
    "movies = sc.textFile(small_movies_file)\n",
    "movies_header = small_movies.take(1)[0]\n",
    "movies_data = movies.filter(lambda line: line!=movies_header)\\\n",
    "    .map(lambda line: line.split(\",\")).map(lambda tokens: (int(tokens[0]),tokens[1],tokens[2])).cache()"
   ]
  },
  {
   "cell_type": "code",
   "execution_count": 181,
   "metadata": {},
   "outputs": [],
   "source": [
    "movies_titles = movies_data.map(lambda x: (int(x[0]),x[1]))"
   ]
  },
  {
   "cell_type": "code",
   "execution_count": 182,
   "metadata": {},
   "outputs": [],
   "source": [
    "movie_ID_with_ratings_RDD = (ratings_data.map(lambda x: (x[1], x[2])).groupByKey()).map(lambda x : (x[0], [float(elem) for elem in list(x[1])]))\n",
    "movie_rating_counts_RDD = movie_ID_with_ratings_RDD.map(lambda x: (int(x[0]), (avg(x[1]), len(x[1]))))"
   ]
  },
  {
   "cell_type": "code",
   "execution_count": 183,
   "metadata": {},
   "outputs": [
    {
     "data": {
      "text/plain": [
       "[(1449, (3.918377748652978, 6867))]"
      ]
     },
     "execution_count": 183,
     "metadata": {},
     "output_type": "execute_result"
    }
   ],
   "source": [
    "movie_rating_counts_RDD.take(1)"
   ]
  },
  {
   "cell_type": "markdown",
   "metadata": {},
   "source": [
    "#### Create a user with reviews"
   ]
  },
  {
   "cell_type": "code",
   "execution_count": 205,
   "metadata": {},
   "outputs": [],
   "source": [
    "full_user_ID = 0\n",
    "\n",
    "# The format of each line is (userID, movieID, rating)\n",
    "full_new_user_ratings = [\n",
    "     (0,260,4), # Star Wars (1977)\n",
    "     (0,1,3), # Toy Story (1995)\n",
    "     (0,16,3), # Casino (1995)\n",
    "     (0,25,4), # Leaving Las Vegas (1995)\n",
    "     (0,32,4), # Twelve Monkeys (a.k.a. 12 Monkeys) (1995)\n",
    "     (0,335,1), # Flintstones, The (1994)\n",
    "     (0,379,1), # Timecop (1994)\n",
    "     (0,296,3), # Pulp Fiction (1994)\n",
    "     (0,858,5) , # Godfather, The (1972)\n",
    "     (0,50,4) # Usual Suspects, The (1995)\n",
    "    ]\n",
    "full_new_user_ratings_RDD = sc.parallelize(full_new_user_ratings)"
   ]
  },
  {
   "cell_type": "code",
   "execution_count": 201,
   "metadata": {},
   "outputs": [],
   "source": [
    "complete_ratings = ratings_data.union(full_new_user_ratings_RDD)"
   ]
  },
  {
   "cell_type": "markdown",
   "metadata": {},
   "source": [
    "#### Full model"
   ]
  },
  {
   "cell_type": "code",
   "execution_count": 202,
   "metadata": {},
   "outputs": [],
   "source": [
    "training_RDD, test_RDD = complete_ratings.randomSplit([7, 3])"
   ]
  },
  {
   "cell_type": "code",
   "execution_count": 203,
   "metadata": {},
   "outputs": [
    {
     "name": "stdout",
     "output_type": "stream",
     "text": [
      "Full model trained in 54.59347486495972 seconds\n"
     ]
    }
   ],
   "source": [
    "start = time()\n",
    "\n",
    "full_model = ALS.train(training_RDD, best_rank, seed=0, \n",
    "                              iterations=iterations, lambda_=regularization_parameter)\n",
    "\n",
    "print(f'Full model trained in {time() - start} seconds')"
   ]
  },
  {
   "cell_type": "code",
   "execution_count": 211,
   "metadata": {},
   "outputs": [],
   "source": [
    "full_user_ratings_ids = map(lambda x: x[1], full_new_user_ratings) # get just movie IDs\n",
    "full_user_unrated_movies_RDD = (movies_data.filter(lambda x: x[0] not in full_user_ratings_ids).map(lambda x: (full_user_ID, x[0])))\n",
    "\n",
    "# Use the input RDD, new_user_unrated_movies_RDD, with new_ratings_model.predictAll() to predict new ratings for the movies\n",
    "full_user_recommendations_RDD = full_model.predictAll(full_user_unrated_movies_RDD)"
   ]
  },
  {
   "cell_type": "code",
   "execution_count": null,
   "metadata": {},
   "outputs": [],
   "source": [
    "full_user_recommendations_rating_RDD = full_user_recommendations_RDD.map(lambda x: (x.product, x.rating))\n",
    "full_user_recommendations_rating_title_and_count_RDD = \\\n",
    "    full_user_recommendations_rating_RDD.join(small_movies_titles).join(movie_rating_counts_RDD)"
   ]
  },
  {
   "cell_type": "code",
   "execution_count": null,
   "metadata": {},
   "outputs": [],
   "source": [
    "full_user_recommendations_rating_title_and_count_RDD = \\\n",
    "    full_user_recommendations_rating_title_and_count_RDD.map(lambda r: (r[1][0][1], r[1][0][0], r[1][1]))"
   ]
  },
  {
   "cell_type": "markdown",
   "metadata": {},
   "source": [
    "#### Extract full dataset top recommendations"
   ]
  },
  {
   "cell_type": "code",
   "execution_count": null,
   "metadata": {},
   "outputs": [],
   "source": [
    "top_movies_full = full_user_recommendations_rating_title_and_count_RDD.filter(lambda r: r[2][1]>=20).takeOrdered(10, key=lambda x: -x[1])"
   ]
  },
  {
   "cell_type": "code",
   "execution_count": null,
   "metadata": {},
   "outputs": [],
   "source": [
    "for elem in top_movies_full:\n",
    "    \n",
    "    print('-----------')\n",
    "    print(f'{elem[0]}, Rate {elem[2][0]} from {elem[2][1]} users, with predicted review: {elem[1]}')"
   ]
  }
 ],
 "metadata": {
  "kernelspec": {
   "display_name": "Python 3",
   "language": "python",
   "name": "python3"
  },
  "language_info": {
   "codemirror_mode": {
    "name": "ipython",
    "version": 3
   },
   "file_extension": ".py",
   "mimetype": "text/x-python",
   "name": "python",
   "nbconvert_exporter": "python",
   "pygments_lexer": "ipython3",
   "version": "3.7.0"
  }
 },
 "nbformat": 4,
 "nbformat_minor": 2
}
