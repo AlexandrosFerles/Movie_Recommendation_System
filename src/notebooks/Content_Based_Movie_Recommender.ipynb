{
 "cells": [
  {
   "cell_type": "markdown",
   "metadata": {},
   "source": [
    "## Content Based Movie Recommendation System\n",
    "\n",
    "This notebook includes a Movie Recommendation system based on the Movie Summary Corpus Dataset."
   ]
  },
  {
   "cell_type": "markdown",
   "metadata": {},
   "source": [
    "#### Imports "
   ]
  },
  {
   "cell_type": "code",
   "execution_count": 1,
   "metadata": {},
   "outputs": [],
   "source": [
    "import os"
   ]
  },
  {
   "cell_type": "markdown",
   "metadata": {},
   "source": [
    "#### Load the dataset"
   ]
  },
  {
   "cell_type": "code",
   "execution_count": 2,
   "metadata": {},
   "outputs": [],
   "source": [
    "movie_summary_path = './../../Datasets/Movie_summary'"
   ]
  },
  {
   "cell_type": "code",
   "execution_count": 3,
   "metadata": {},
   "outputs": [
    {
     "name": "stdout",
     "output_type": "stream",
     "text": [
      "README.MD              movie.metadata.tsv     tvtropes.clusters.txt\r\n",
      "README.txt             name.clusters.txt\r\n",
      "character.metadata.tsv plot_summaries.txt\r\n"
     ]
    }
   ],
   "source": [
    "!ls ./../../Datasets/Movie_summary"
   ]
  },
  {
   "cell_type": "code",
   "execution_count": 4,
   "metadata": {},
   "outputs": [],
   "source": [
    "movies = sc.textFile(os.path.join(movie_summary_path, 'movie.metadata.tsv'))"
   ]
  },
  {
   "cell_type": "code",
   "execution_count": 5,
   "metadata": {},
   "outputs": [
    {
     "name": "stdout",
     "output_type": "stream",
     "text": [
      "There are 81741 in the Movie Summary dataset\n"
     ]
    }
   ],
   "source": [
    "print(f\"There are {movies.count()} in the Movie Summary dataset\")"
   ]
  },
  {
   "cell_type": "code",
   "execution_count": 6,
   "metadata": {},
   "outputs": [
    {
     "data": {
      "text/plain": [
       "['975900\\t/m/03vyhn\\tGhosts of Mars\\t2001-08-24\\t14010832\\t98.0\\t{\"/m/02h40lc\": \"English Language\"}\\t{\"/m/09c7w0\": \"United States of America\"}\\t{\"/m/01jfsb\": \"Thriller\", \"/m/06n90\": \"Science Fiction\", \"/m/03npn\": \"Horror\", \"/m/03k9fj\": \"Adventure\", \"/m/0fdjb\": \"Supernatural\", \"/m/02kdv5l\": \"Action\", \"/m/09zvmj\": \"Space western\"}',\n",
       " '3196793\\t/m/08yl5d\\tGetting Away with Murder: The JonBenét Ramsey Mystery\\t2000-02-16\\t\\t95.0\\t{\"/m/02h40lc\": \"English Language\"}\\t{\"/m/09c7w0\": \"United States of America\"}\\t{\"/m/02n4kr\": \"Mystery\", \"/m/03bxz7\": \"Biographical film\", \"/m/07s9rl0\": \"Drama\", \"/m/0hj3n01\": \"Crime Drama\"}',\n",
       " '28463795\\t/m/0crgdbh\\tBrun bitter\\t1988\\t\\t83.0\\t{\"/m/05f_3\": \"Norwegian Language\"}\\t{\"/m/05b4w\": \"Norway\"}\\t{\"/m/0lsxr\": \"Crime Fiction\", \"/m/07s9rl0\": \"Drama\"}',\n",
       " '9363483\\t/m/0285_cd\\tWhite Of The Eye\\t1987\\t\\t110.0\\t{\"/m/02h40lc\": \"English Language\"}\\t{\"/m/07ssc\": \"United Kingdom\"}\\t{\"/m/01jfsb\": \"Thriller\", \"/m/0glj9q\": \"Erotic thriller\", \"/m/09blyk\": \"Psychological thriller\"}',\n",
       " '261236\\t/m/01mrr1\\tA Woman in Flames\\t1983\\t\\t106.0\\t{\"/m/04306rv\": \"German Language\"}\\t{\"/m/0345h\": \"Germany\"}\\t{\"/m/07s9rl0\": \"Drama\"}']"
      ]
     },
     "execution_count": 6,
     "metadata": {},
     "output_type": "execute_result"
    }
   ],
   "source": [
    "movies.take(5)"
   ]
  },
  {
   "cell_type": "code",
   "execution_count": 7,
   "metadata": {},
   "outputs": [],
   "source": [
    "summaries = sc.textFile(os.path.join(movie_summary_path, 'plot_summaries.txt'))"
   ]
  },
  {
   "cell_type": "code",
   "execution_count": 8,
   "metadata": {},
   "outputs": [
    {
     "name": "stdout",
     "output_type": "stream",
     "text": [
      "There are 42306 summaries avaiable in the Movie Summary dataset\n"
     ]
    }
   ],
   "source": [
    "print(f\"There are {summaries.count()} summaries avaiable in the Movie Summary dataset\")"
   ]
  },
  {
   "cell_type": "code",
   "execution_count": 9,
   "metadata": {},
   "outputs": [
    {
     "data": {
      "text/plain": [
       "[\"23890098\\tShlykov, a hard-working taxi driver and Lyosha, a saxophonist, develop a bizarre love-hate relationship, and despite their prejudices, realize they aren't so different after all.\",\n",
       " '31186339\\tThe nation of Panem consists of a wealthy Capitol and twelve poorer districts. As punishment for a past rebellion, each district must provide a boy and girl  between the ages of 12 and 18 selected by lottery  for the annual Hunger Games. The tributes must fight to the death in an arena; the sole survivor is rewarded with fame and wealth. In her first Reaping, 12-year-old Primrose Everdeen is chosen from District 12. Her older sister Katniss volunteers to take her place. Peeta Mellark, a baker\\'s son who once gave Katniss bread when she was starving, is the other District 12 tribute. Katniss and Peeta are taken to the Capitol, accompanied by their frequently drunk mentor, past victor Haymitch Abernathy. He warns them about the \"Career\" tributes who train intensively at special academies and almost always win. During a TV interview with Caesar Flickerman, Peeta unexpectedly reveals his love for Katniss. She is outraged, believing it to be a ploy to gain audience support, as \"sponsors\" may provide in-Games gifts of food, medicine, and tools. However, she discovers Peeta meant what he said. The televised Games begin with half of the tributes killed in the first few minutes; Katniss barely survives ignoring Haymitch\\'s advice to run away from the melee over the tempting supplies and weapons strewn in front of a structure called the Cornucopia. Peeta forms an uneasy alliance with the four Careers. They later find Katniss and corner her up a tree. Rue, hiding in a nearby tree, draws her attention to a poisonous tracker jacker nest hanging from a branch. Katniss drops it on her sleeping besiegers. They all scatter, except for Glimmer, who is killed by the insects. Hallucinating due to tracker jacker venom, Katniss is warned to run away by Peeta. Rue cares for Katniss for a couple of days until she recovers. Meanwhile, the alliance has gathered all the supplies into a pile. Katniss has Rue draw them off, then destroys the stockpile by setting off the mines planted around it. Furious, Cato kills the boy assigned to guard it. As Katniss runs from the scene, she hears Rue calling her name. She finds Rue trapped and releases her. Marvel, a tribute from District 1, throws a spear at Katniss, but she dodges the spear, causing it to stab Rue in the stomach instead. Katniss shoots him dead with an arrow. She then comforts the dying Rue with a song. Afterward, she gathers and arranges flowers around Rue\\'s body. When this is televised, it sparks a riot in Rue\\'s District 11. President Snow summons Seneca Crane, the Gamemaker, to express his displeasure at the way the Games are turning out. Since Katniss and Peeta have been presented to the public as \"star-crossed lovers\", Haymitch is able to convince Crane to make a rule change to avoid inciting further riots. It is announced that tributes from the same district can win as a pair. Upon hearing this, Katniss searches for Peeta and finds him with an infected sword wound in the leg. She portrays herself as deeply in love with him and gains a sponsor\\'s gift of soup. An announcer proclaims a feast, where the thing each survivor needs most will be provided. Peeta begs her not to risk getting him medicine. Katniss promises not to go, but after he falls asleep, she heads to the feast. Clove ambushes her and pins her down. As Clove gloats, Thresh, the other District 11 tribute, kills Clove after overhearing her tormenting Katniss about killing Rue. He spares Katniss \"just this time...for Rue\". The medicine works, keeping Peeta mobile. Foxface, the girl from District 5, dies from eating nightlock berries she stole from Peeta; neither knew they are highly poisonous. Crane changes the time of day in the arena to late at night and unleashes a pack of hound-like creatures to speed things up. They kill Thresh and force Katniss and Peeta to flee to the roof of the Cornucopia, where they encounter Cato. After a battle, Katniss wounds Cato with an arrow and Peeta hurls him to the creatures below. Katniss shoots Cato to spare him a prolonged death. With Peeta and Katniss apparently victorious, the rule change allowing two winners is suddenly revoked. Peeta tells Katniss to shoot him. Instead, she gives him half of the nightlock. However, before they can commit suicide, they are hastily proclaimed the victors of the 74th Hunger Games. Haymitch warns Katniss that she has made powerful enemies after her display of defiance. She and Peeta return to District 12, while Crane is locked in a room with a bowl of nightlock berries, and President Snow considers the situation.',\n",
       " \"20663735\\tPoovalli Induchoodan  is sentenced for six years prison life for murdering his classmate. Induchoodan, the only son of Justice Maranchery Karunakara Menon  was framed in the case by Manapally Madhavan Nambiar  and his crony DYSP Sankaranarayanan  to take revenge on idealist judge Menon who had earlier given jail sentence to Manapally in a corruption case. Induchoodan, who had achieved top rank in Indian Civil Service loses the post and Manapally Sudheeran ([[Saikumar  enters the list of civil service trainees. We learn in flashback that it was Ramakrishnan  the son of Moopil Nair , who had actually killed his classmate. Six years passes by and Manapally Madhavan Nambiar, now a former state minister, is dead and Induchoodan, who is all rage at the gross injustice meted out to him - thus destroying his promising life, is released from prison. Induchoodan thwarts Manapally Pavithran  from performing the funeral rituals of Nambiar at Bharathapuzha. Many confrontations between Induchoodan and Manapally's henchmen follow. Induchoodan also falls in love with Anuradha ([[Aishwarya , the strong-willed and independent-minded daughter of Mooppil Nair. Justice Menon and his wife returns back to Kerala to stay with Induchoodan. There is an appearance of a girl named Indulekha ([[Kanaka , who claims to be the daughter of Justice Menon. Menon flatly refuses the claim and banishes her. Forced by circumstances and at the instigation and help of Manapally Pavithran, she reluctantly come out open with the claim. Induchoodan at first thrashes the protesters. But upon knowing the truth from Chandrabhanu his uncle, he accepts the task of her protection in the capacity as elder brother. Induchoodan decides to marry off Indulekha to his good friend Jayakrishnan . Induchoodan has a confrontation with his father and prods him to accept mistake and acknowledge the parentage of Indulekha. Menon ultimately regrets and goes on to confess to his daughter. The very next day, when Induchoodan returns to Poovally, Indulekha is found dead and Menon is accused of murdering her. The whole act was planned by Pavithran, who after killing Indulekha, forces Raman Nair  to testify against Menon in court. In court, Nandagopal Maarar , a close friend of Induchoodan and a famous supreme court lawyer, appears for Menon and manages to lay bare the murder plot and hidden intentions of other party . Menon is judged innocent of the crime by court. After confronting Pavithran and promising just retribution to the crime of killing Indulekha, Induchoodan returns to his father, who now shows remorse for all his actions including not believing in the innocence of his son. But while speaking to Induchoodan, Menon suffers a heart stroke and passes away. At Menon's funeral, Manapally Pavithran arrives to poke fun at Induchoodan and he also tries to carry out the postponed last rituals of his own father. Induchoodan interrupts the ritual and avenges for the death of his sister and father by severely injuring Pavithran. On his way back to peaceful life, Induchoodan accepts Anuradha as his life partner.\",\n",
       " '2231378\\tThe Lemon Drop Kid , a New York City swindler, is illegally touting horses at a Florida racetrack. After several successful hustles, the Kid comes across a beautiful, but gullible, woman intending to bet a lot of money. The Kid convinces her to switch her bet, employing a prefabricated con. Unfortunately for the Kid, the woman \"belongs\" to notorious gangster Moose Moran , as does the money. The Kid\\'s choice finishes dead last and a furious Moran demands the Kid provide him with $10,000  by Christmas Eve, or the Kid \"won\\'t make it to New Year\\'s.\" The Kid decides to return to New York to try to come up with the money. He first tries his on-again, off-again girlfriend Brainy Baxter . However, when talk of long-term commitment arises, the Kid quickly makes an escape. He next visits local crime boss \"Oxford\" Charley , with whom he has had past dealings. This falls through as Charley is in serious tax trouble and does not particularly care for the Kid anyway. As he leaves Charley\\'s establishment and is about to give up hope, the Kid notices a cornerside Santa Claus and his kettle. Thinking quickly, the Kid fashions himself a Santa suit and begins collecting donations. This fails as he is recognized by a passing policeman, who remembers his previous underhanded activity well. The Kid lands in court, where he is convicted of collecting for a charity without a license and sentenced to ten days in jail . However, while in court, the Kid learns where his scheme went wrong. After a short stay, Brainy arrives to bail him out. He then sets about restarting his Santa operation, this time with legitimate backing. To this end, he needs a charity to represent and a city license. The kid receives key inspiration when he remembers that Nellie Thursday , a kindly neighborhood resident, has been denied entry to a retirement home because of her jailed husband\\'s criminal past as a safecracker. Organizing other small-time New York swindlers and Brainy, who is both surprised and charmed at the Kid\\'s apparent goodwill, the Kid converts an abandoned casino  into the \"Nellie Thursday Home For Old Dolls\". A small group of elderly women and makeshift amenities complete the project. The Kid is able to receive the all-important city license. Now free to collect, the Kid and his compatriots dress as Santa Claus and position themselves throughout Manhattan. The others are unaware that the Kid plans to keep the money for himself to pay off Moran. The scheme is a huge success, netting $2,000 in only a few days. An overjoyed Brainy decides to leave her job as a dancer and look after the \"home\" full-time until after Christmas. Coincidentally, her employer is none other than \"Oxford\" Charley, whom Brainy cheerfully informs of the effort. Seeing a potential gold mine, Charley decides to muscle in on the operation. Reasoning that the Nellie Thursday home is \"wherever Nellie Thursday is\", Charley and his crew kidnap the home\\'s inhabitants  and move them to Charley\\'s mansion in Nyack. The Kid learns of this when he returns to the home after a late night to find the home deserted and money  gone. Clued in by oversized Oxford footprints in the snow, the Kid and his friends pay Charley a visit. Here, Charley reveals the true nature of the Kid\\'s scheme through a phone conversation with Moose Moran. The Kid\\'s accomplices are angry and move to confront him, but the Kid manages to slip away. However, Brainy tracks him down outside and voices her disgust at his actions. After a few days of stewing in self-pity , the Kid is surprised to meet Nellie, who has escaped Charley\\'s compound. He decides to recover the money, sneaking into Charley\\'s home in the guise of an elderly woman. He finds that Charley and his crew are again moving the women, this time to a more secure location. Using the heightened activity to his advantage, the Kid enters Charley\\'s office and confronts him. After a brief struggle, the Kid overpowers Charley and makes off with the money, narrowly avoiding the thugs Charley has sent after him. The ensuing chaos allows Brainy and the others to escape. Later that night, the Kid returns to the original Nellie Thursday home to meet with Moose Moran . The deal appears to be in jeopardy as Moran arrives with Charley. Charley demands that the Kid reimburse him, which would leave too little for Moran. However, the Kid turns the tables by hitting a switch, revealing hidden casino tables. All are occupied, mainly by the escaped old dolls. The Kid and his still-loyal friends hold off the gangsters as the police initiate a raid. Moran and Charley are arrested while the judge who sentenced the Kid earlier warns that he will be \"keeping an eye on him\". The Kid assures him that will not be necessary and his attention will lie on the home, which is going to become a reality. The night\\'s main event begins as Nellie\\'s husband Henry, free on parole, joyously reunites with his wife.',\n",
       " '595909\\tSeventh-day Adventist Church pastor Michael Chamberlain, his wife Lindy, their two sons, and their nine-week-old daughter Azaria are on a camping holiday in the Outback. With the baby sleeping in their tent, the family is enjoying a barbecue with their fellow campers when a cry is heard. Lindy returns to the tent to check on Azaria and is certain she sees a dingo with something in its mouth running off as she approaches. When she discovers the infant is missing, everyone joins forces to search for her, without success. It is assumed what Lindy saw was the animal carrying off the child, and a subsequent inquest rules her account of events is true. The tide of public opinion soon turns against the Chamberlains. For many, Lindy seems too stoic, too cold-hearted, and too accepting of the disaster that has befallen her. Gossip about her begins to swell and soon is accepted as statements of fact. The couple\\'s beliefs are not widely practised in the country, and when the media report a rumour that the name Azaria means \"sacrifice in the wilderness\" , the public is quick to believe they decapitated their baby with a pair of scissors as part of a bizarre religious rite. Law-enforcement officials find new witnesses, forensics experts, and a lot of circumstantial evidence—including a small wooden coffin Michael uses as a receptacle for his parishioners\\' packs of un-smoked cigarettes—and reopen the investigation, and eventually Lindy is charged with murder. Seven months pregnant, she ignores her attorneys\\' advice to play on the jury\\'s sympathy and appears emotionless on the stand, convincing onlookers she is guilty of the crime of which she is accused. As the trial progresses, Michael\\'s faith in his religion and his belief in his wife disintegrate, and he stumbles through his testimony, suggesting he is concealing the truth. In October 1982, Lindy is found guilty and sentenced to life imprisonment with hard labour, while Michael is found guilty as an accessory and given an 18-month suspended sentence. More than three years later, while searching for the body of an English tourist who fell from Uluru, police discover a small item of clothing that is identified as the jacket Lindy had insisted Azaria was wearing over her jumpsuit, which had been recovered early in the investigation. She is immediately released from prison, the case reopened and all convictions against the Chamberlains overturned.']"
      ]
     },
     "execution_count": 9,
     "metadata": {},
     "output_type": "execute_result"
    }
   ],
   "source": [
    "summaries.take(5)"
   ]
  },
  {
   "cell_type": "markdown",
   "metadata": {},
   "source": [
    "#### Spark transformations"
   ]
  },
  {
   "cell_type": "markdown",
   "metadata": {},
   "source": [
    "Extract movie ids and titles"
   ]
  },
  {
   "cell_type": "code",
   "execution_count": 10,
   "metadata": {},
   "outputs": [],
   "source": [
    "movie_ids_and_titles = movies.map(lambda elem: elem.split(\"\\t\")).map(lambda movie: (movie[0], movie[2]))"
   ]
  },
  {
   "cell_type": "code",
   "execution_count": 11,
   "metadata": {},
   "outputs": [
    {
     "data": {
      "text/plain": [
       "[('975900', 'Ghosts of Mars'),\n",
       " ('3196793', 'Getting Away with Murder: The JonBenét Ramsey Mystery'),\n",
       " ('28463795', 'Brun bitter'),\n",
       " ('9363483', 'White Of The Eye'),\n",
       " ('261236', 'A Woman in Flames')]"
      ]
     },
     "execution_count": 11,
     "metadata": {},
     "output_type": "execute_result"
    }
   ],
   "source": [
    "movie_ids_and_titles.take(5)"
   ]
  },
  {
   "cell_type": "markdown",
   "metadata": {},
   "source": [
    "Extract the movie ids and summaries"
   ]
  },
  {
   "cell_type": "code",
   "execution_count": 12,
   "metadata": {},
   "outputs": [],
   "source": [
    "ids_and_summaries = summaries.map(lambda elem: elem.split('\\t')).map(lambda summary: (summary[0], summary[1]))"
   ]
  },
  {
   "cell_type": "code",
   "execution_count": 13,
   "metadata": {},
   "outputs": [
    {
     "data": {
      "text/plain": [
       "[('23890098',\n",
       "  \"Shlykov, a hard-working taxi driver and Lyosha, a saxophonist, develop a bizarre love-hate relationship, and despite their prejudices, realize they aren't so different after all.\"),\n",
       " ('31186339',\n",
       "  'The nation of Panem consists of a wealthy Capitol and twelve poorer districts. As punishment for a past rebellion, each district must provide a boy and girl  between the ages of 12 and 18 selected by lottery  for the annual Hunger Games. The tributes must fight to the death in an arena; the sole survivor is rewarded with fame and wealth. In her first Reaping, 12-year-old Primrose Everdeen is chosen from District 12. Her older sister Katniss volunteers to take her place. Peeta Mellark, a baker\\'s son who once gave Katniss bread when she was starving, is the other District 12 tribute. Katniss and Peeta are taken to the Capitol, accompanied by their frequently drunk mentor, past victor Haymitch Abernathy. He warns them about the \"Career\" tributes who train intensively at special academies and almost always win. During a TV interview with Caesar Flickerman, Peeta unexpectedly reveals his love for Katniss. She is outraged, believing it to be a ploy to gain audience support, as \"sponsors\" may provide in-Games gifts of food, medicine, and tools. However, she discovers Peeta meant what he said. The televised Games begin with half of the tributes killed in the first few minutes; Katniss barely survives ignoring Haymitch\\'s advice to run away from the melee over the tempting supplies and weapons strewn in front of a structure called the Cornucopia. Peeta forms an uneasy alliance with the four Careers. They later find Katniss and corner her up a tree. Rue, hiding in a nearby tree, draws her attention to a poisonous tracker jacker nest hanging from a branch. Katniss drops it on her sleeping besiegers. They all scatter, except for Glimmer, who is killed by the insects. Hallucinating due to tracker jacker venom, Katniss is warned to run away by Peeta. Rue cares for Katniss for a couple of days until she recovers. Meanwhile, the alliance has gathered all the supplies into a pile. Katniss has Rue draw them off, then destroys the stockpile by setting off the mines planted around it. Furious, Cato kills the boy assigned to guard it. As Katniss runs from the scene, she hears Rue calling her name. She finds Rue trapped and releases her. Marvel, a tribute from District 1, throws a spear at Katniss, but she dodges the spear, causing it to stab Rue in the stomach instead. Katniss shoots him dead with an arrow. She then comforts the dying Rue with a song. Afterward, she gathers and arranges flowers around Rue\\'s body. When this is televised, it sparks a riot in Rue\\'s District 11. President Snow summons Seneca Crane, the Gamemaker, to express his displeasure at the way the Games are turning out. Since Katniss and Peeta have been presented to the public as \"star-crossed lovers\", Haymitch is able to convince Crane to make a rule change to avoid inciting further riots. It is announced that tributes from the same district can win as a pair. Upon hearing this, Katniss searches for Peeta and finds him with an infected sword wound in the leg. She portrays herself as deeply in love with him and gains a sponsor\\'s gift of soup. An announcer proclaims a feast, where the thing each survivor needs most will be provided. Peeta begs her not to risk getting him medicine. Katniss promises not to go, but after he falls asleep, she heads to the feast. Clove ambushes her and pins her down. As Clove gloats, Thresh, the other District 11 tribute, kills Clove after overhearing her tormenting Katniss about killing Rue. He spares Katniss \"just this time...for Rue\". The medicine works, keeping Peeta mobile. Foxface, the girl from District 5, dies from eating nightlock berries she stole from Peeta; neither knew they are highly poisonous. Crane changes the time of day in the arena to late at night and unleashes a pack of hound-like creatures to speed things up. They kill Thresh and force Katniss and Peeta to flee to the roof of the Cornucopia, where they encounter Cato. After a battle, Katniss wounds Cato with an arrow and Peeta hurls him to the creatures below. Katniss shoots Cato to spare him a prolonged death. With Peeta and Katniss apparently victorious, the rule change allowing two winners is suddenly revoked. Peeta tells Katniss to shoot him. Instead, she gives him half of the nightlock. However, before they can commit suicide, they are hastily proclaimed the victors of the 74th Hunger Games. Haymitch warns Katniss that she has made powerful enemies after her display of defiance. She and Peeta return to District 12, while Crane is locked in a room with a bowl of nightlock berries, and President Snow considers the situation.'),\n",
       " ('20663735',\n",
       "  \"Poovalli Induchoodan  is sentenced for six years prison life for murdering his classmate. Induchoodan, the only son of Justice Maranchery Karunakara Menon  was framed in the case by Manapally Madhavan Nambiar  and his crony DYSP Sankaranarayanan  to take revenge on idealist judge Menon who had earlier given jail sentence to Manapally in a corruption case. Induchoodan, who had achieved top rank in Indian Civil Service loses the post and Manapally Sudheeran ([[Saikumar  enters the list of civil service trainees. We learn in flashback that it was Ramakrishnan  the son of Moopil Nair , who had actually killed his classmate. Six years passes by and Manapally Madhavan Nambiar, now a former state minister, is dead and Induchoodan, who is all rage at the gross injustice meted out to him - thus destroying his promising life, is released from prison. Induchoodan thwarts Manapally Pavithran  from performing the funeral rituals of Nambiar at Bharathapuzha. Many confrontations between Induchoodan and Manapally's henchmen follow. Induchoodan also falls in love with Anuradha ([[Aishwarya , the strong-willed and independent-minded daughter of Mooppil Nair. Justice Menon and his wife returns back to Kerala to stay with Induchoodan. There is an appearance of a girl named Indulekha ([[Kanaka , who claims to be the daughter of Justice Menon. Menon flatly refuses the claim and banishes her. Forced by circumstances and at the instigation and help of Manapally Pavithran, she reluctantly come out open with the claim. Induchoodan at first thrashes the protesters. But upon knowing the truth from Chandrabhanu his uncle, he accepts the task of her protection in the capacity as elder brother. Induchoodan decides to marry off Indulekha to his good friend Jayakrishnan . Induchoodan has a confrontation with his father and prods him to accept mistake and acknowledge the parentage of Indulekha. Menon ultimately regrets and goes on to confess to his daughter. The very next day, when Induchoodan returns to Poovally, Indulekha is found dead and Menon is accused of murdering her. The whole act was planned by Pavithran, who after killing Indulekha, forces Raman Nair  to testify against Menon in court. In court, Nandagopal Maarar , a close friend of Induchoodan and a famous supreme court lawyer, appears for Menon and manages to lay bare the murder plot and hidden intentions of other party . Menon is judged innocent of the crime by court. After confronting Pavithran and promising just retribution to the crime of killing Indulekha, Induchoodan returns to his father, who now shows remorse for all his actions including not believing in the innocence of his son. But while speaking to Induchoodan, Menon suffers a heart stroke and passes away. At Menon's funeral, Manapally Pavithran arrives to poke fun at Induchoodan and he also tries to carry out the postponed last rituals of his own father. Induchoodan interrupts the ritual and avenges for the death of his sister and father by severely injuring Pavithran. On his way back to peaceful life, Induchoodan accepts Anuradha as his life partner.\"),\n",
       " ('2231378',\n",
       "  'The Lemon Drop Kid , a New York City swindler, is illegally touting horses at a Florida racetrack. After several successful hustles, the Kid comes across a beautiful, but gullible, woman intending to bet a lot of money. The Kid convinces her to switch her bet, employing a prefabricated con. Unfortunately for the Kid, the woman \"belongs\" to notorious gangster Moose Moran , as does the money. The Kid\\'s choice finishes dead last and a furious Moran demands the Kid provide him with $10,000  by Christmas Eve, or the Kid \"won\\'t make it to New Year\\'s.\" The Kid decides to return to New York to try to come up with the money. He first tries his on-again, off-again girlfriend Brainy Baxter . However, when talk of long-term commitment arises, the Kid quickly makes an escape. He next visits local crime boss \"Oxford\" Charley , with whom he has had past dealings. This falls through as Charley is in serious tax trouble and does not particularly care for the Kid anyway. As he leaves Charley\\'s establishment and is about to give up hope, the Kid notices a cornerside Santa Claus and his kettle. Thinking quickly, the Kid fashions himself a Santa suit and begins collecting donations. This fails as he is recognized by a passing policeman, who remembers his previous underhanded activity well. The Kid lands in court, where he is convicted of collecting for a charity without a license and sentenced to ten days in jail . However, while in court, the Kid learns where his scheme went wrong. After a short stay, Brainy arrives to bail him out. He then sets about restarting his Santa operation, this time with legitimate backing. To this end, he needs a charity to represent and a city license. The kid receives key inspiration when he remembers that Nellie Thursday , a kindly neighborhood resident, has been denied entry to a retirement home because of her jailed husband\\'s criminal past as a safecracker. Organizing other small-time New York swindlers and Brainy, who is both surprised and charmed at the Kid\\'s apparent goodwill, the Kid converts an abandoned casino  into the \"Nellie Thursday Home For Old Dolls\". A small group of elderly women and makeshift amenities complete the project. The Kid is able to receive the all-important city license. Now free to collect, the Kid and his compatriots dress as Santa Claus and position themselves throughout Manhattan. The others are unaware that the Kid plans to keep the money for himself to pay off Moran. The scheme is a huge success, netting $2,000 in only a few days. An overjoyed Brainy decides to leave her job as a dancer and look after the \"home\" full-time until after Christmas. Coincidentally, her employer is none other than \"Oxford\" Charley, whom Brainy cheerfully informs of the effort. Seeing a potential gold mine, Charley decides to muscle in on the operation. Reasoning that the Nellie Thursday home is \"wherever Nellie Thursday is\", Charley and his crew kidnap the home\\'s inhabitants  and move them to Charley\\'s mansion in Nyack. The Kid learns of this when he returns to the home after a late night to find the home deserted and money  gone. Clued in by oversized Oxford footprints in the snow, the Kid and his friends pay Charley a visit. Here, Charley reveals the true nature of the Kid\\'s scheme through a phone conversation with Moose Moran. The Kid\\'s accomplices are angry and move to confront him, but the Kid manages to slip away. However, Brainy tracks him down outside and voices her disgust at his actions. After a few days of stewing in self-pity , the Kid is surprised to meet Nellie, who has escaped Charley\\'s compound. He decides to recover the money, sneaking into Charley\\'s home in the guise of an elderly woman. He finds that Charley and his crew are again moving the women, this time to a more secure location. Using the heightened activity to his advantage, the Kid enters Charley\\'s office and confronts him. After a brief struggle, the Kid overpowers Charley and makes off with the money, narrowly avoiding the thugs Charley has sent after him. The ensuing chaos allows Brainy and the others to escape. Later that night, the Kid returns to the original Nellie Thursday home to meet with Moose Moran . The deal appears to be in jeopardy as Moran arrives with Charley. Charley demands that the Kid reimburse him, which would leave too little for Moran. However, the Kid turns the tables by hitting a switch, revealing hidden casino tables. All are occupied, mainly by the escaped old dolls. The Kid and his still-loyal friends hold off the gangsters as the police initiate a raid. Moran and Charley are arrested while the judge who sentenced the Kid earlier warns that he will be \"keeping an eye on him\". The Kid assures him that will not be necessary and his attention will lie on the home, which is going to become a reality. The night\\'s main event begins as Nellie\\'s husband Henry, free on parole, joyously reunites with his wife.'),\n",
       " ('595909',\n",
       "  'Seventh-day Adventist Church pastor Michael Chamberlain, his wife Lindy, their two sons, and their nine-week-old daughter Azaria are on a camping holiday in the Outback. With the baby sleeping in their tent, the family is enjoying a barbecue with their fellow campers when a cry is heard. Lindy returns to the tent to check on Azaria and is certain she sees a dingo with something in its mouth running off as she approaches. When she discovers the infant is missing, everyone joins forces to search for her, without success. It is assumed what Lindy saw was the animal carrying off the child, and a subsequent inquest rules her account of events is true. The tide of public opinion soon turns against the Chamberlains. For many, Lindy seems too stoic, too cold-hearted, and too accepting of the disaster that has befallen her. Gossip about her begins to swell and soon is accepted as statements of fact. The couple\\'s beliefs are not widely practised in the country, and when the media report a rumour that the name Azaria means \"sacrifice in the wilderness\" , the public is quick to believe they decapitated their baby with a pair of scissors as part of a bizarre religious rite. Law-enforcement officials find new witnesses, forensics experts, and a lot of circumstantial evidence—including a small wooden coffin Michael uses as a receptacle for his parishioners\\' packs of un-smoked cigarettes—and reopen the investigation, and eventually Lindy is charged with murder. Seven months pregnant, she ignores her attorneys\\' advice to play on the jury\\'s sympathy and appears emotionless on the stand, convincing onlookers she is guilty of the crime of which she is accused. As the trial progresses, Michael\\'s faith in his religion and his belief in his wife disintegrate, and he stumbles through his testimony, suggesting he is concealing the truth. In October 1982, Lindy is found guilty and sentenced to life imprisonment with hard labour, while Michael is found guilty as an accessory and given an 18-month suspended sentence. More than three years later, while searching for the body of an English tourist who fell from Uluru, police discover a small item of clothing that is identified as the jacket Lindy had insisted Azaria was wearing over her jumpsuit, which had been recovered early in the investigation. She is immediately released from prison, the case reopened and all convictions against the Chamberlains overturned.')]"
      ]
     },
     "execution_count": 13,
     "metadata": {},
     "output_type": "execute_result"
    }
   ],
   "source": [
    "ids_and_summaries.take(5)"
   ]
  },
  {
   "cell_type": "markdown",
   "metadata": {},
   "source": [
    "Get only the ids of summaries"
   ]
  },
  {
   "cell_type": "code",
   "execution_count": 14,
   "metadata": {},
   "outputs": [],
   "source": [
    "ids_of_summaries = ids_and_summaries.map(lambda elem: elem[0]).collect()"
   ]
  },
  {
   "cell_type": "code",
   "execution_count": 15,
   "metadata": {},
   "outputs": [
    {
     "data": {
      "text/plain": [
       "['23890098', '31186339', '20663735', '2231378', '595909']"
      ]
     },
     "execution_count": 15,
     "metadata": {},
     "output_type": "execute_result"
    }
   ],
   "source": [
    "ids_of_summaries[:5]"
   ]
  },
  {
   "cell_type": "markdown",
   "metadata": {},
   "source": [
    "Keep only the movies for which you have summaries"
   ]
  },
  {
   "cell_type": "code",
   "execution_count": 16,
   "metadata": {},
   "outputs": [],
   "source": [
    "kept_movies = movie_ids_and_titles.filter(lambda elem: elem[0] in ids_of_summaries)"
   ]
  },
  {
   "cell_type": "code",
   "execution_count": 17,
   "metadata": {},
   "outputs": [
    {
     "data": {
      "text/plain": [
       "42207"
      ]
     },
     "execution_count": 17,
     "metadata": {},
     "output_type": "execute_result"
    }
   ],
   "source": [
    "kept_movies.count()"
   ]
  },
  {
   "cell_type": "markdown",
   "metadata": {},
   "source": [
    "We found that some summaries where not available, but we can proceed with the 42207 movies."
   ]
  },
  {
   "cell_type": "code",
   "execution_count": 18,
   "metadata": {},
   "outputs": [
    {
     "data": {
      "text/plain": [
       "[('975900', 'Ghosts of Mars'),\n",
       " ('9363483', 'White Of The Eye'),\n",
       " ('261236', 'A Woman in Flames'),\n",
       " ('18998739', \"The Sorcerer's Apprentice\"),\n",
       " ('6631279', 'Little city')]"
      ]
     },
     "execution_count": 18,
     "metadata": {},
     "output_type": "execute_result"
    }
   ],
   "source": [
    "kept_movies.take(5)"
   ]
  },
  {
   "cell_type": "markdown",
   "metadata": {},
   "source": [
    "Now we need to join the movie titles with their summaries"
   ]
  },
  {
   "cell_type": "code",
   "execution_count": 19,
   "metadata": {},
   "outputs": [],
   "source": [
    "joint_rdd = kept_movies.join(ids_and_summaries).cache()"
   ]
  },
  {
   "cell_type": "code",
   "execution_count": 20,
   "metadata": {},
   "outputs": [
    {
     "data": {
      "text/plain": [
       "42207"
      ]
     },
     "execution_count": 20,
     "metadata": {},
     "output_type": "execute_result"
    }
   ],
   "source": [
    "joint_rdd.count()"
   ]
  },
  {
   "cell_type": "code",
   "execution_count": 21,
   "metadata": {},
   "outputs": [
    {
     "data": {
      "text/plain": [
       "[('156558',\n",
       "  ('Baby Boy',\n",
       "   'A young 20-year-old named Jody  lives with his mother Juanita ,{{amg movie}} in South Central Los Angeles. He spends most of his time with his unemployed best friend P , and does not seem interested in becoming a responsible adult. However, he is forced to mature as a result of an ex-con named Melvin , who moves into their home. Another factor is his children - a son with his girlfriend Yvette  and a daughter with a girl named Peanut, who also lives with her mother. At the beginning of the movie Yvette has an abortion that Jody forced her to have. Yvette constantly asks Jody if he will ever come live with her and their son, but Jody avoids the subject and comes and goes as he pleases. Jody also continues seeing and having sex with other women, including Peanut. This becomes an issue between him and Yvette as well, especially since Yvette and Peanut do not get along. When she discovers his cheating they get in a heated argument which results to Jody slapping Yvette in the face. After this, Yvette changes the locks on the door. This infuriates Jody and they get into an argument. Their son comes out of his room and runs to the door. Yvette grabs him and cradles him while he yells, \"I wanna see my daddy.\" Eventually, Yvette\\'s gangster ex-boyfriend Rodney  is released from San Quentin State Prison, and returns to the neighborhood to move in with Yvette, much to her dismay. Rodney doesn\\'t care for Yvette and Jody\\'s son and wants to impregnate Yvette himself. Rodney attempts to rape Yvette in front of her son. She tells him, \"So you\\'re really gonna rape me in front of my son\". Rodney pauses for a minute then pushes her son out of the way and walks out of the room. Jody Jr. aka JoJo then says, \"I want my daddy.\" Yvette then cradles her son and replies, \"I know baby, I do too.\" For the next couple of days Yvette lives in fear and disgust of Rodney being there and misses Jody. Rodney, who realizes this, steals the money from her wallet and takes off in her car to go and find Jody. Rodney tries to kill Jody in a drive-by shooting; however, he is unsuccessful with both efforts. After this Yvette kicks Rodney and his friends out of her apartment. While at Sweetpea\\'s house playing cards, Yvette and Sweetpea\\'s girlfriend Kim step outside. Yvette then goes and sits beside Jody. When Jody ignores her she throws the chair back and runs off. Jody goes after her. She then tells Jody about everything she has been going through, even about Rodney trying rape her. Jody then hugs Yvette and says that he\\'s been missing her. Jody and Sweetpea confront Rodney, and as he attempts to escape, Jody shoots him in the ankle. Sweetpea urges Jody to kill Rodney, but he refuses, at which point Sweetpea kills Rodney himself. Feeling guilty for Rodney\\'s death, Jody prepares to commit suicide by shooting himself in the head, but Melvin catches him and takes the gun. After reflecting on the death of Rodney and how he put Yvette and his son in danger by not being around consistently, Jody finally moves out of his mom\\'s house and in with Yvette. They move into a motel after the killing. Jody has now become a mature man, realizing that his mom\\'s relationship with Melvin is a stable one and that he has a family of his own that he needs to protect and take care of. Afterwards, Jody and Yvette get married and she becomes pregnant with Jody\\'s third child and her second child with him. Sweetpea decides to turn over a new life and gets baptized, putting his old life as a street thug behind him.')),\n",
       " ('9633533',\n",
       "  ('Vandanam',\n",
       "   \"Professor Kurian Fernandez , a convict escapes from jail, along with Raghu , his cell mate. After a failed attempt to chase and nab the duo, the officials draws out several plans to capture both. Police authorities strongly feel that Fernandez will land up in Banglore and may try to meet up with his only daughter. Unnikrishnan  and K.Purushothaman Nair , two inspectors from Kerala police are sent to Bangalore to follow the activities of Gadha , daughter of Fernandez. Upon reaching Bangalore, Unnikrishnan meets Peter ([[Mukesh , his college mate, who is also now an inspector with Karnataka police. Unnikrishnan and Peter makes up a team and sidelines Purushothaman Nair, who struggles hard to cope up with Kannada language. The police team stays at a room just opposite to where Gadha stays as a paying guests. Gadha, working at an advertisement agency as a copy writer is staying along with Maggie Aunty , who is constantly in fight with her son . Unnikrishnan and Peter, who are born flirts, are more interested in drinking and playing cards than investigation. K.P.Nair tries to report this to the authorities, but fails in getting both in control. Unnikrishnan slowly develops a crush towards Gadha, which gets transformed into a full fledged passion, but Gadha never accepts it. Unni befriends with Maggie aunty and tries all ways to woo Gadha. Meanwhile Unni and Peter finds out that Fernandez is in the city and is constantly in touch with Gadha. The police commissioner  is in all efforts to nab Fernandez. Unnikrishnan decides to use Gadha to reach out Fernandez. Gadha reveals to Unni about the past of Fernandez, when he was a college professor, who was loved and cared by the students. The sincere professor questioned the college authorities on many administration malpractices, which made him a dust in their eyes. The son of the police commissioner was punished by professor, which led to serious fracas in college and authorities were forced to take action on him under severe protests from students. In retaliation, he attacked professor while traveling with a female student. The girl got raped and killed and professor was falsely convicted in the case. Now, professor is out of jail to avenge on it. Unnikrishnan tries to convince professor with the help of Gadha, but he fails to give up. Meanwhile, an old man, who is a client of the ad agency, where Gadha works, likes her and asks her to join him as his secretary abroad. Gadha, who had by then developed a soft feeling towards Unni lets him to bring his mother  to see her. At the same time, Professor succeeds in killing the son of the commissioner. He orders a shoot at sight at Fernandez. Professor goes berserk and looses mental stability and decides to plant a bomb at the city stadium, which might kill hundreds of civilians. Unnikrishnan asks Gadha to make him give up this heinous plan, but he refuses. That evening, Fernandez plants a bomb, but police team under Unnikrishnan corners him and takes him to the tower. Professor, despite repeated requests denies to explain how defuse the bomb. But Unnikrishnan successfully defuses the bomb, thereby saving the lives of hundreds. But Gadha, who actually wanted to join with Unni, couldn't join with him and decides to go with the old man to London. The film ends with both the cars with Gadha and Unni stopping at a junction, when the signal turns green, they move to opposite roads.\")),\n",
       " ('25960460',\n",
       "  ('Daddy and Them',\n",
       "   \"Ruby and Claude Montgomery are a very insecure and jealous couple, who must help when Claude's Uncle Hazel is jailed for attempted murder. An Arkansan family reunites as they travel with Ruby's older sister Rose, with whom Claude had a previous relationship, and Ruby and Rose's mother Jewel, who continuously talks about Rose and Claude's past relationship, which irritates Ruby.\")),\n",
       " ('12008535',\n",
       "  ('Rudo y Cursi',\n",
       "   \"In the fictional farming village of Tlachtlán, in the Cihuatlán Valley of Jalisco, Mexico, young men dream of escaping the drudgery of the banana plantations. Two of them, a pair of half-brothers, play in local soccer matches. Tato  is the star striker and Beto  is the eccentric goalkeeper. During one match they are spotted by a talent scout  and he offers one of them the opportunity to go to Mexico City with him and try out for one of the country's big teams. As the scout's roster is already full, he says he can only take one of the brothers and they decide to settle it on a penalty shot. Tato scores the penalty against his brother therefore earning the right to head to the capital. After a slow start Tato finally makes it big and earns the nickname 'Cursi' . His brother soon follows and joins a rival team where he is given the nickname 'Rudo' . Cursi becomes a national hero and starts dating Maya Vega , a famous model, whilst his brother struggles with life in the city and misses his family back home. Things start to go worse for the brothers. Tato loses both his woman and his goal scoring touch while his brother gets lured into a world of cocaine and gambling. It becomes clear that the drug cartels own everything. Their sister back home marries the local drug lord, Don Casimiro, whose far-reaching tentacles eventually affect the whole family. Everything finally depends upon one match as the two brothers come face to face. Cursi is threatened with demotion to Division 2 if he fails to score in this match; Rudo must throw the match in order to pay off his gambling debts or he will be killed. In the last minute Rudo saves a penalty from Tato and the match finishes goalless. Cursi quits football and returns home, and Rudo is shot, losing a leg and ending his career. They both end up back in Tlachtlán with their family where the simpler lifestyle seems to better suit them.\")),\n",
       " ('4951456',\n",
       "  ('Kinjite: Forbidden Subjects',\n",
       "   'A Japanese businessman sees a woman being groped in a crowded Tokyo subway. He is interested to see how she would rather moan silently, involuntary orgasm than let people know she is being groped. When he is transferred to Los Angeles, the Japanese businessman tries to imitate what he saw by groping who happens to be Lt. Crowe \\'s daughter. But unlike in Japan, the American woman raises a commotion and makes him run away in embarrassment. Meanwhile, the daughter of the same Japanese businessman is kidnapped into a child prostitution ring led by the infamous \\'Pimp-King\\' Duke. Lt. Crowe, who claims the Japanese are in the process of buying Los Angeles, is recruited to find the daughter. Lt. Crowe and his partner indeed find the daughter, and Lt. Crowe changes his opinions about the Japanese when the Japanese businessman and his wife visit his house bearing gifts. Lt. Crowe\\'s daughter recognizes the Japanese businessman but says nothing. Back at home, the Japanese businessman\\'s daughter cannot cope with what happened to her back in the ring, and commits suicide by an overdose. Lt. Crowe and his partner thus go to find Duke by any means necessary. In the ensuing fight, Duke manages to kill Lt. Crowe\\'s partner, but &ndash; not knowing how to swim &ndash; almost drowns in the process of the fight. Lt. Crowe does answer his calls for help, but arranges for the small, long haired pimp to serve his prison sentence in a particularly harsh environment with multiple muscular, threatening inmates, all of whom make clear their desire to rape him. Lt. Crowe personally escorts the Duke to his cell, then walks away smiling. As Duke screams after him in petrified rage, Crowe looks back and says, \"Now that\\'s justice.\"'))]"
      ]
     },
     "execution_count": 21,
     "metadata": {},
     "output_type": "execute_result"
    }
   ],
   "source": [
    "joint_rdd.take(5)"
   ]
  },
  {
   "cell_type": "markdown",
   "metadata": {},
   "source": [
    "## Using a doc2vec model on the available data"
   ]
  },
  {
   "cell_type": "markdown",
   "metadata": {},
   "source": [
    "Based on the idea found on this [this link](http://sujitpal.blogspot.com/2016/04/predicting-movie-tags-from-plots-using.html) we wish to use a document_2_vector model so that we can vectorize the content of the summaries to vectors, and that we can use them in order to find movies similar to the interest of a user based on the cosine similarity of the extracted documents."
   ]
  },
  {
   "cell_type": "code",
   "execution_count": 53,
   "metadata": {},
   "outputs": [],
   "source": [
    "from gensim.models.doc2vec import TaggedDocument\n",
    "from gensim.models import Doc2Vec\n",
    "from random import shuffle\n",
    "from sklearn.model_selection import train_test_split\n",
    "import nltk\n",
    "import numpy as np"
   ]
  },
  {
   "cell_type": "code",
   "execution_count": 48,
   "metadata": {},
   "outputs": [
    {
     "name": "stdout",
     "output_type": "stream",
     "text": [
      "[nltk_data] Downloading package punkt to\n",
      "[nltk_data]     /Users/alexandros.ferles/nltk_data...\n",
      "[nltk_data]   Unzipping tokenizers/punkt.zip.\n"
     ]
    },
    {
     "data": {
      "text/plain": [
       "True"
      ]
     },
     "execution_count": 48,
     "metadata": {},
     "output_type": "execute_result"
    }
   ],
   "source": [
    "nltk.download('punkt')"
   ]
  },
  {
   "cell_type": "code",
   "execution_count": 23,
   "metadata": {},
   "outputs": [],
   "source": [
    "model = Doc2Vec(dm=0, vector_size=100, negative=5, hs=0, min_count=2)"
   ]
  },
  {
   "cell_type": "code",
   "execution_count": 45,
   "metadata": {},
   "outputs": [],
   "source": [
    "only_summaries = joint_rdd.map(lambda elem: elem[1][1]).collect()"
   ]
  },
  {
   "cell_type": "code",
   "execution_count": 61,
   "metadata": {},
   "outputs": [],
   "source": [
    "sentences = [TaggedDocument(doc, [i]) for i, doc in enumerate(only_summaries)]"
   ]
  },
  {
   "cell_type": "code",
   "execution_count": 74,
   "metadata": {},
   "outputs": [],
   "source": [
    "model = Doc2Vec(documents, vector_size=100, negative=5, hs=0, min_count=2)"
   ]
  },
  {
   "cell_type": "markdown",
   "metadata": {},
   "source": [
    "Train the doc2Vec model"
   ]
  },
  {
   "cell_type": "code",
   "execution_count": 82,
   "metadata": {},
   "outputs": [],
   "source": [
    "from tqdm import tqdm"
   ]
  },
  {
   "cell_type": "code",
   "execution_count": 83,
   "metadata": {},
   "outputs": [
    {
     "name": "stderr",
     "output_type": "stream",
     "text": [
      "100%|██████████| 20/20 [04:23<00:00, 12.98s/it]\n"
     ]
    }
   ],
   "source": [
    "alpha = 0.025\n",
    "min_alpha = 0.001\n",
    "num_epochs = 20\n",
    "alpha_delta = (alpha - min_alpha) / num_epochs\n",
    "\n",
    "for epoch in tqdm(range(num_epochs)):\n",
    "    shuffle(sentences)\n",
    "    model.alpha = alpha\n",
    "    model.min_alpha = alpha\n",
    "    model.train(sentences, total_examples=model.corpus_count, epochs=1)\n",
    "    alpha -= alpha_delta"
   ]
  },
  {
   "cell_type": "markdown",
   "metadata": {},
   "source": [
    "We can see that the trained model infers vectors form text, as expected"
   ]
  },
  {
   "cell_type": "code",
   "execution_count": 86,
   "metadata": {},
   "outputs": [
    {
     "data": {
      "text/plain": [
       "array([ 3.35745700e-02,  6.84581045e-03, -8.33332837e-02,  5.95750324e-02,\n",
       "        2.94893458e-02, -4.44047116e-02,  9.32905525e-02, -6.17083684e-02,\n",
       "        9.08117965e-02, -2.30221674e-02, -4.95272763e-02,  2.69503519e-03,\n",
       "        2.32944768e-02, -4.41004559e-02, -1.17280625e-01, -3.69116594e-03,\n",
       "        6.42675674e-03, -2.95317061e-02,  6.27793670e-02, -9.50667355e-03,\n",
       "        1.71459317e-01, -9.37651172e-02,  4.02137451e-02, -2.54107174e-03,\n",
       "        1.86351165e-01, -8.39546844e-02,  1.42284231e-02, -2.95529608e-02,\n",
       "       -4.00071740e-02,  5.61882891e-02, -5.88813685e-02,  3.18345875e-02,\n",
       "       -4.92487708e-03,  9.68242437e-02, -6.64590523e-02, -1.77101403e-01,\n",
       "       -3.58027667e-02,  6.84229238e-03, -3.82050276e-02, -1.06377356e-01,\n",
       "        5.75787723e-02, -4.21793684e-02,  1.21596217e-01,  4.07193415e-02,\n",
       "       -5.78942103e-03, -2.61177234e-02, -1.15547791e-01,  9.75271910e-02,\n",
       "        2.47938503e-02, -4.07442264e-02, -3.79833542e-02, -2.93961391e-02,\n",
       "        2.84741689e-02, -5.28286211e-03,  4.92030829e-02, -1.09722838e-01,\n",
       "       -4.24966812e-02, -1.38351411e-01, -7.38756498e-05,  2.37428583e-02,\n",
       "        5.28419502e-02, -2.90737804e-02, -4.26949076e-02, -5.16210757e-02,\n",
       "       -9.95184705e-02,  6.79818029e-03,  2.52160919e-03, -3.71106118e-02,\n",
       "       -1.26429960e-01,  2.20195763e-02, -4.08501327e-02, -2.78081056e-02,\n",
       "       -3.95794958e-02, -3.29566933e-02, -3.18852589e-02, -5.34014814e-02,\n",
       "       -1.04824819e-01, -3.82606797e-02,  4.81809415e-02,  2.10902374e-02,\n",
       "       -1.18360341e-01, -1.38596222e-02, -6.22109585e-02, -1.15120552e-01,\n",
       "        7.95555487e-02, -9.32253897e-03,  3.48407105e-02, -3.77022885e-02,\n",
       "        9.99932140e-02, -4.53096814e-03, -5.59669994e-02,  9.13612768e-02,\n",
       "        4.07281220e-02,  4.38889079e-02,  1.08932398e-01,  7.80802295e-02,\n",
       "        8.84780847e-03,  2.29861997e-02, -4.86917852e-04, -1.84179544e-02],\n",
       "      dtype=float32)"
      ]
     },
     "execution_count": 86,
     "metadata": {},
     "output_type": "execute_result"
    }
   ],
   "source": [
    "model.infer_vector(only_summaries[0])"
   ]
  },
  {
   "cell_type": "markdown",
   "metadata": {},
   "source": [
    "Now we create a new rdd that contains the vector representations of each summary"
   ]
  },
  {
   "cell_type": "code",
   "execution_count": 94,
   "metadata": {},
   "outputs": [
    {
     "data": {
      "text/plain": [
       "[('156558',\n",
       "  ('Baby Boy',\n",
       "   'A young 20-year-old named Jody  lives with his mother Juanita ,{{amg movie}} in South Central Los Angeles. He spends most of his time with his unemployed best friend P , and does not seem interested in becoming a responsible adult. However, he is forced to mature as a result of an ex-con named Melvin , who moves into their home. Another factor is his children - a son with his girlfriend Yvette  and a daughter with a girl named Peanut, who also lives with her mother. At the beginning of the movie Yvette has an abortion that Jody forced her to have. Yvette constantly asks Jody if he will ever come live with her and their son, but Jody avoids the subject and comes and goes as he pleases. Jody also continues seeing and having sex with other women, including Peanut. This becomes an issue between him and Yvette as well, especially since Yvette and Peanut do not get along. When she discovers his cheating they get in a heated argument which results to Jody slapping Yvette in the face. After this, Yvette changes the locks on the door. This infuriates Jody and they get into an argument. Their son comes out of his room and runs to the door. Yvette grabs him and cradles him while he yells, \"I wanna see my daddy.\" Eventually, Yvette\\'s gangster ex-boyfriend Rodney  is released from San Quentin State Prison, and returns to the neighborhood to move in with Yvette, much to her dismay. Rodney doesn\\'t care for Yvette and Jody\\'s son and wants to impregnate Yvette himself. Rodney attempts to rape Yvette in front of her son. She tells him, \"So you\\'re really gonna rape me in front of my son\". Rodney pauses for a minute then pushes her son out of the way and walks out of the room. Jody Jr. aka JoJo then says, \"I want my daddy.\" Yvette then cradles her son and replies, \"I know baby, I do too.\" For the next couple of days Yvette lives in fear and disgust of Rodney being there and misses Jody. Rodney, who realizes this, steals the money from her wallet and takes off in her car to go and find Jody. Rodney tries to kill Jody in a drive-by shooting; however, he is unsuccessful with both efforts. After this Yvette kicks Rodney and his friends out of her apartment. While at Sweetpea\\'s house playing cards, Yvette and Sweetpea\\'s girlfriend Kim step outside. Yvette then goes and sits beside Jody. When Jody ignores her she throws the chair back and runs off. Jody goes after her. She then tells Jody about everything she has been going through, even about Rodney trying rape her. Jody then hugs Yvette and says that he\\'s been missing her. Jody and Sweetpea confront Rodney, and as he attempts to escape, Jody shoots him in the ankle. Sweetpea urges Jody to kill Rodney, but he refuses, at which point Sweetpea kills Rodney himself. Feeling guilty for Rodney\\'s death, Jody prepares to commit suicide by shooting himself in the head, but Melvin catches him and takes the gun. After reflecting on the death of Rodney and how he put Yvette and his son in danger by not being around consistently, Jody finally moves out of his mom\\'s house and in with Yvette. They move into a motel after the killing. Jody has now become a mature man, realizing that his mom\\'s relationship with Melvin is a stable one and that he has a family of his own that he needs to protect and take care of. Afterwards, Jody and Yvette get married and she becomes pregnant with Jody\\'s third child and her second child with him. Sweetpea decides to turn over a new life and gets baptized, putting his old life as a street thug behind him.')),\n",
       " ('9633533',\n",
       "  ('Vandanam',\n",
       "   \"Professor Kurian Fernandez , a convict escapes from jail, along with Raghu , his cell mate. After a failed attempt to chase and nab the duo, the officials draws out several plans to capture both. Police authorities strongly feel that Fernandez will land up in Banglore and may try to meet up with his only daughter. Unnikrishnan  and K.Purushothaman Nair , two inspectors from Kerala police are sent to Bangalore to follow the activities of Gadha , daughter of Fernandez. Upon reaching Bangalore, Unnikrishnan meets Peter ([[Mukesh , his college mate, who is also now an inspector with Karnataka police. Unnikrishnan and Peter makes up a team and sidelines Purushothaman Nair, who struggles hard to cope up with Kannada language. The police team stays at a room just opposite to where Gadha stays as a paying guests. Gadha, working at an advertisement agency as a copy writer is staying along with Maggie Aunty , who is constantly in fight with her son . Unnikrishnan and Peter, who are born flirts, are more interested in drinking and playing cards than investigation. K.P.Nair tries to report this to the authorities, but fails in getting both in control. Unnikrishnan slowly develops a crush towards Gadha, which gets transformed into a full fledged passion, but Gadha never accepts it. Unni befriends with Maggie aunty and tries all ways to woo Gadha. Meanwhile Unni and Peter finds out that Fernandez is in the city and is constantly in touch with Gadha. The police commissioner  is in all efforts to nab Fernandez. Unnikrishnan decides to use Gadha to reach out Fernandez. Gadha reveals to Unni about the past of Fernandez, when he was a college professor, who was loved and cared by the students. The sincere professor questioned the college authorities on many administration malpractices, which made him a dust in their eyes. The son of the police commissioner was punished by professor, which led to serious fracas in college and authorities were forced to take action on him under severe protests from students. In retaliation, he attacked professor while traveling with a female student. The girl got raped and killed and professor was falsely convicted in the case. Now, professor is out of jail to avenge on it. Unnikrishnan tries to convince professor with the help of Gadha, but he fails to give up. Meanwhile, an old man, who is a client of the ad agency, where Gadha works, likes her and asks her to join him as his secretary abroad. Gadha, who had by then developed a soft feeling towards Unni lets him to bring his mother  to see her. At the same time, Professor succeeds in killing the son of the commissioner. He orders a shoot at sight at Fernandez. Professor goes berserk and looses mental stability and decides to plant a bomb at the city stadium, which might kill hundreds of civilians. Unnikrishnan asks Gadha to make him give up this heinous plan, but he refuses. That evening, Fernandez plants a bomb, but police team under Unnikrishnan corners him and takes him to the tower. Professor, despite repeated requests denies to explain how defuse the bomb. But Unnikrishnan successfully defuses the bomb, thereby saving the lives of hundreds. But Gadha, who actually wanted to join with Unni, couldn't join with him and decides to go with the old man to London. The film ends with both the cars with Gadha and Unni stopping at a junction, when the signal turns green, they move to opposite roads.\")),\n",
       " ('25960460',\n",
       "  ('Daddy and Them',\n",
       "   \"Ruby and Claude Montgomery are a very insecure and jealous couple, who must help when Claude's Uncle Hazel is jailed for attempted murder. An Arkansan family reunites as they travel with Ruby's older sister Rose, with whom Claude had a previous relationship, and Ruby and Rose's mother Jewel, who continuously talks about Rose and Claude's past relationship, which irritates Ruby.\")),\n",
       " ('12008535',\n",
       "  ('Rudo y Cursi',\n",
       "   \"In the fictional farming village of Tlachtlán, in the Cihuatlán Valley of Jalisco, Mexico, young men dream of escaping the drudgery of the banana plantations. Two of them, a pair of half-brothers, play in local soccer matches. Tato  is the star striker and Beto  is the eccentric goalkeeper. During one match they are spotted by a talent scout  and he offers one of them the opportunity to go to Mexico City with him and try out for one of the country's big teams. As the scout's roster is already full, he says he can only take one of the brothers and they decide to settle it on a penalty shot. Tato scores the penalty against his brother therefore earning the right to head to the capital. After a slow start Tato finally makes it big and earns the nickname 'Cursi' . His brother soon follows and joins a rival team where he is given the nickname 'Rudo' . Cursi becomes a national hero and starts dating Maya Vega , a famous model, whilst his brother struggles with life in the city and misses his family back home. Things start to go worse for the brothers. Tato loses both his woman and his goal scoring touch while his brother gets lured into a world of cocaine and gambling. It becomes clear that the drug cartels own everything. Their sister back home marries the local drug lord, Don Casimiro, whose far-reaching tentacles eventually affect the whole family. Everything finally depends upon one match as the two brothers come face to face. Cursi is threatened with demotion to Division 2 if he fails to score in this match; Rudo must throw the match in order to pay off his gambling debts or he will be killed. In the last minute Rudo saves a penalty from Tato and the match finishes goalless. Cursi quits football and returns home, and Rudo is shot, losing a leg and ending his career. They both end up back in Tlachtlán with their family where the simpler lifestyle seems to better suit them.\")),\n",
       " ('4951456',\n",
       "  ('Kinjite: Forbidden Subjects',\n",
       "   'A Japanese businessman sees a woman being groped in a crowded Tokyo subway. He is interested to see how she would rather moan silently, involuntary orgasm than let people know she is being groped. When he is transferred to Los Angeles, the Japanese businessman tries to imitate what he saw by groping who happens to be Lt. Crowe \\'s daughter. But unlike in Japan, the American woman raises a commotion and makes him run away in embarrassment. Meanwhile, the daughter of the same Japanese businessman is kidnapped into a child prostitution ring led by the infamous \\'Pimp-King\\' Duke. Lt. Crowe, who claims the Japanese are in the process of buying Los Angeles, is recruited to find the daughter. Lt. Crowe and his partner indeed find the daughter, and Lt. Crowe changes his opinions about the Japanese when the Japanese businessman and his wife visit his house bearing gifts. Lt. Crowe\\'s daughter recognizes the Japanese businessman but says nothing. Back at home, the Japanese businessman\\'s daughter cannot cope with what happened to her back in the ring, and commits suicide by an overdose. Lt. Crowe and his partner thus go to find Duke by any means necessary. In the ensuing fight, Duke manages to kill Lt. Crowe\\'s partner, but &ndash; not knowing how to swim &ndash; almost drowns in the process of the fight. Lt. Crowe does answer his calls for help, but arranges for the small, long haired pimp to serve his prison sentence in a particularly harsh environment with multiple muscular, threatening inmates, all of whom make clear their desire to rape him. Lt. Crowe personally escorts the Duke to his cell, then walks away smiling. As Duke screams after him in petrified rage, Crowe looks back and says, \"Now that\\'s justice.\"'))]"
      ]
     },
     "execution_count": 94,
     "metadata": {},
     "output_type": "execute_result"
    }
   ],
   "source": [
    "joint_rdd.take(5)"
   ]
  },
  {
   "cell_type": "code",
   "execution_count": 107,
   "metadata": {},
   "outputs": [],
   "source": [
    "vectorized_summaries = [model.infer_vector(summary) for summary in only_summaries]"
   ]
  },
  {
   "cell_type": "code",
   "execution_count": 117,
   "metadata": {},
   "outputs": [],
   "source": [
    "indexed_movies = joint_rdd.zipWithIndex()"
   ]
  },
  {
   "cell_type": "code",
   "execution_count": 149,
   "metadata": {},
   "outputs": [],
   "source": [
    "vectorized_rdd = \\\n",
    "indexed_movies.map(lambda movie: (movie[0][0], movie[0][1][0], movie[0][1][1], vectorized_summaries[movie[1]] ) ).cache()"
   ]
  },
  {
   "cell_type": "code",
   "execution_count": 152,
   "metadata": {},
   "outputs": [
    {
     "data": {
      "text/plain": [
       "42207"
      ]
     },
     "execution_count": 152,
     "metadata": {},
     "output_type": "execute_result"
    }
   ],
   "source": [
    "vectorized_rdd.count()"
   ]
  },
  {
   "cell_type": "code",
   "execution_count": 155,
   "metadata": {},
   "outputs": [
    {
     "data": {
      "text/plain": [
       "[('156558',\n",
       "  'Baby Boy',\n",
       "  'A young 20-year-old named Jody  lives with his mother Juanita ,{{amg movie}} in South Central Los Angeles. He spends most of his time with his unemployed best friend P , and does not seem interested in becoming a responsible adult. However, he is forced to mature as a result of an ex-con named Melvin , who moves into their home. Another factor is his children - a son with his girlfriend Yvette  and a daughter with a girl named Peanut, who also lives with her mother. At the beginning of the movie Yvette has an abortion that Jody forced her to have. Yvette constantly asks Jody if he will ever come live with her and their son, but Jody avoids the subject and comes and goes as he pleases. Jody also continues seeing and having sex with other women, including Peanut. This becomes an issue between him and Yvette as well, especially since Yvette and Peanut do not get along. When she discovers his cheating they get in a heated argument which results to Jody slapping Yvette in the face. After this, Yvette changes the locks on the door. This infuriates Jody and they get into an argument. Their son comes out of his room and runs to the door. Yvette grabs him and cradles him while he yells, \"I wanna see my daddy.\" Eventually, Yvette\\'s gangster ex-boyfriend Rodney  is released from San Quentin State Prison, and returns to the neighborhood to move in with Yvette, much to her dismay. Rodney doesn\\'t care for Yvette and Jody\\'s son and wants to impregnate Yvette himself. Rodney attempts to rape Yvette in front of her son. She tells him, \"So you\\'re really gonna rape me in front of my son\". Rodney pauses for a minute then pushes her son out of the way and walks out of the room. Jody Jr. aka JoJo then says, \"I want my daddy.\" Yvette then cradles her son and replies, \"I know baby, I do too.\" For the next couple of days Yvette lives in fear and disgust of Rodney being there and misses Jody. Rodney, who realizes this, steals the money from her wallet and takes off in her car to go and find Jody. Rodney tries to kill Jody in a drive-by shooting; however, he is unsuccessful with both efforts. After this Yvette kicks Rodney and his friends out of her apartment. While at Sweetpea\\'s house playing cards, Yvette and Sweetpea\\'s girlfriend Kim step outside. Yvette then goes and sits beside Jody. When Jody ignores her she throws the chair back and runs off. Jody goes after her. She then tells Jody about everything she has been going through, even about Rodney trying rape her. Jody then hugs Yvette and says that he\\'s been missing her. Jody and Sweetpea confront Rodney, and as he attempts to escape, Jody shoots him in the ankle. Sweetpea urges Jody to kill Rodney, but he refuses, at which point Sweetpea kills Rodney himself. Feeling guilty for Rodney\\'s death, Jody prepares to commit suicide by shooting himself in the head, but Melvin catches him and takes the gun. After reflecting on the death of Rodney and how he put Yvette and his son in danger by not being around consistently, Jody finally moves out of his mom\\'s house and in with Yvette. They move into a motel after the killing. Jody has now become a mature man, realizing that his mom\\'s relationship with Melvin is a stable one and that he has a family of his own that he needs to protect and take care of. Afterwards, Jody and Yvette get married and she becomes pregnant with Jody\\'s third child and her second child with him. Sweetpea decides to turn over a new life and gets baptized, putting his old life as a street thug behind him.',\n",
       "  array([ 0.03493118,  0.0024255 , -0.07585545,  0.07593532,  0.00973486,\n",
       "         -0.02822236,  0.08688055, -0.04694621,  0.05601304, -0.02056799,\n",
       "         -0.03894438,  0.03195091,  0.01295165, -0.05155864, -0.08274098,\n",
       "          0.00179202,  0.01904204, -0.03623366,  0.01765041,  0.01788238,\n",
       "          0.19245096, -0.09034593,  0.06161799, -0.0306563 ,  0.17162104,\n",
       "         -0.0664319 ,  0.01949177, -0.01352419, -0.05622266,  0.05447122,\n",
       "         -0.09739755,  0.01105353, -0.02197399,  0.10928689, -0.05525309,\n",
       "         -0.15715018, -0.047334  ,  0.01255453, -0.04529143, -0.09322759,\n",
       "          0.02726479, -0.05156685,  0.10998905,  0.03636669,  0.02788997,\n",
       "         -0.05294462, -0.11772917,  0.07919305,  0.03753272, -0.03957717,\n",
       "         -0.03116622, -0.00937195,  0.01876195,  0.01345354,  0.02679248,\n",
       "         -0.09882563, -0.0272477 , -0.14847195, -0.00108018,  0.00384209,\n",
       "          0.08568077, -0.01574506, -0.0422837 , -0.02098795, -0.10470106,\n",
       "          0.02810247,  0.01008967, -0.02956106, -0.09585615,  0.00075066,\n",
       "         -0.02414826, -0.01211352, -0.03403334, -0.04803717, -0.03638   ,\n",
       "         -0.0461432 , -0.09014872, -0.04126376,  0.01189039,  0.03074446,\n",
       "         -0.08066149, -0.00611803, -0.03730403, -0.10696089,  0.08669177,\n",
       "         -0.00682956,  0.0129878 , -0.03960079,  0.09694098, -0.03032134,\n",
       "         -0.04275062,  0.08511019,  0.02255949,  0.06787299,  0.06986747,\n",
       "          0.06617267,  0.00804362,  0.01009324,  0.00269286, -0.01251494],\n",
       "        dtype=float32)),\n",
       " ('9633533',\n",
       "  'Vandanam',\n",
       "  \"Professor Kurian Fernandez , a convict escapes from jail, along with Raghu , his cell mate. After a failed attempt to chase and nab the duo, the officials draws out several plans to capture both. Police authorities strongly feel that Fernandez will land up in Banglore and may try to meet up with his only daughter. Unnikrishnan  and K.Purushothaman Nair , two inspectors from Kerala police are sent to Bangalore to follow the activities of Gadha , daughter of Fernandez. Upon reaching Bangalore, Unnikrishnan meets Peter ([[Mukesh , his college mate, who is also now an inspector with Karnataka police. Unnikrishnan and Peter makes up a team and sidelines Purushothaman Nair, who struggles hard to cope up with Kannada language. The police team stays at a room just opposite to where Gadha stays as a paying guests. Gadha, working at an advertisement agency as a copy writer is staying along with Maggie Aunty , who is constantly in fight with her son . Unnikrishnan and Peter, who are born flirts, are more interested in drinking and playing cards than investigation. K.P.Nair tries to report this to the authorities, but fails in getting both in control. Unnikrishnan slowly develops a crush towards Gadha, which gets transformed into a full fledged passion, but Gadha never accepts it. Unni befriends with Maggie aunty and tries all ways to woo Gadha. Meanwhile Unni and Peter finds out that Fernandez is in the city and is constantly in touch with Gadha. The police commissioner  is in all efforts to nab Fernandez. Unnikrishnan decides to use Gadha to reach out Fernandez. Gadha reveals to Unni about the past of Fernandez, when he was a college professor, who was loved and cared by the students. The sincere professor questioned the college authorities on many administration malpractices, which made him a dust in their eyes. The son of the police commissioner was punished by professor, which led to serious fracas in college and authorities were forced to take action on him under severe protests from students. In retaliation, he attacked professor while traveling with a female student. The girl got raped and killed and professor was falsely convicted in the case. Now, professor is out of jail to avenge on it. Unnikrishnan tries to convince professor with the help of Gadha, but he fails to give up. Meanwhile, an old man, who is a client of the ad agency, where Gadha works, likes her and asks her to join him as his secretary abroad. Gadha, who had by then developed a soft feeling towards Unni lets him to bring his mother  to see her. At the same time, Professor succeeds in killing the son of the commissioner. He orders a shoot at sight at Fernandez. Professor goes berserk and looses mental stability and decides to plant a bomb at the city stadium, which might kill hundreds of civilians. Unnikrishnan asks Gadha to make him give up this heinous plan, but he refuses. That evening, Fernandez plants a bomb, but police team under Unnikrishnan corners him and takes him to the tower. Professor, despite repeated requests denies to explain how defuse the bomb. But Unnikrishnan successfully defuses the bomb, thereby saving the lives of hundreds. But Gadha, who actually wanted to join with Unni, couldn't join with him and decides to go with the old man to London. The film ends with both the cars with Gadha and Unni stopping at a junction, when the signal turns green, they move to opposite roads.\",\n",
       "  array([-0.04726648, -0.02809558,  0.07174449, -0.05095659, -0.03493668,\n",
       "          0.03926298,  0.0471835 ,  0.00897737,  0.05803437,  0.05710977,\n",
       "         -0.05290569,  0.03693657,  0.06492589, -0.0797533 , -0.03441636,\n",
       "         -0.02098535, -0.05673064,  0.03913379,  0.10155144, -0.05426844,\n",
       "          0.05610133, -0.0725209 ,  0.07342311, -0.0354545 ,  0.17494078,\n",
       "         -0.07837703,  0.01448262,  0.01384658, -0.03959214, -0.00957845,\n",
       "         -0.01965298,  0.0431997 , -0.01322041,  0.02866713,  0.02902798,\n",
       "         -0.08702497, -0.01056843, -0.04877633,  0.0130379 , -0.12543967,\n",
       "          0.03027292,  0.00756685,  0.03974633,  0.05404717, -0.02989511,\n",
       "         -0.05796307, -0.08905668,  0.06441887,  0.06965417, -0.00635521,\n",
       "         -0.05227411,  0.07400668,  0.00878584,  0.05966461,  0.04704895,\n",
       "          0.00383776,  0.01460253, -0.11979041, -0.03901848,  0.08188676,\n",
       "          0.0275148 ,  0.02057735,  0.01485534, -0.05347748, -0.04415369,\n",
       "          0.00935164, -0.00209171, -0.0427908 , -0.1001794 ,  0.0062596 ,\n",
       "         -0.04310052, -0.02443705, -0.00629651, -0.0067889 , -0.04961576,\n",
       "         -0.03184086,  0.03788008, -0.07096107, -0.08095508, -0.02407226,\n",
       "         -0.08418086,  0.0340248 , -0.05499917, -0.15278092,  0.04428357,\n",
       "         -0.05280261, -0.05194675,  0.01868561,  0.03498353, -0.02329126,\n",
       "          0.06635043,  0.10707685,  0.00324439,  0.00221896,  0.07814144,\n",
       "          0.06397377,  0.07373198,  0.03099116,  0.00477907, -0.0026006 ],\n",
       "        dtype=float32)),\n",
       " ('25960460',\n",
       "  'Daddy and Them',\n",
       "  \"Ruby and Claude Montgomery are a very insecure and jealous couple, who must help when Claude's Uncle Hazel is jailed for attempted murder. An Arkansan family reunites as they travel with Ruby's older sister Rose, with whom Claude had a previous relationship, and Ruby and Rose's mother Jewel, who continuously talks about Rose and Claude's past relationship, which irritates Ruby.\",\n",
       "  array([ 0.00837483,  0.00264993,  0.00724521, -0.02275982, -0.01218862,\n",
       "          0.01150195,  0.02044066, -0.00592461,  0.03108163,  0.00849553,\n",
       "         -0.01598288, -0.00454558,  0.02036162, -0.01201636, -0.02164603,\n",
       "          0.01744415, -0.00918192,  0.0098167 ,  0.01857702, -0.00538323,\n",
       "          0.02138236, -0.0342941 ,  0.01709642,  0.00185591,  0.02649187,\n",
       "         -0.01969207,  0.00697359, -0.00704205, -0.00272431,  0.00144073,\n",
       "         -0.00947428,  0.01539203, -0.00532592,  0.01285683,  0.0098934 ,\n",
       "         -0.02160523, -0.01567025, -0.01705948,  0.00196096, -0.02585706,\n",
       "          0.018894  , -0.00376473,  0.00801832,  0.00799977,  0.01614752,\n",
       "         -0.00643492, -0.03873323,  0.01235828,  0.01864629, -0.00436336,\n",
       "         -0.00641439,  0.00086991,  0.00187217,  0.00993897,  0.02881861,\n",
       "         -0.00458856, -0.00808161, -0.04584258, -0.00172549,  0.01799904,\n",
       "          0.01692611,  0.00933872, -0.00119887, -0.02246802, -0.02013344,\n",
       "          0.01166825, -0.00228909, -0.00938013, -0.02168183, -0.0180334 ,\n",
       "         -0.01248135, -0.00378081, -0.01153809, -0.00701169, -0.00828927,\n",
       "         -0.01573341, -0.00523081, -0.02192855,  0.00128467,  0.00685728,\n",
       "         -0.02659767,  0.00934549, -0.02294978, -0.02318315,  0.01459167,\n",
       "         -0.0086499 , -0.01198174,  0.00083935,  0.02090984, -0.0077048 ,\n",
       "          0.01294162,  0.01941744,  0.00364905, -0.0026352 ,  0.023526  ,\n",
       "          0.01348033,  0.02599908,  0.00604565, -0.00666377, -0.0083124 ],\n",
       "        dtype=float32)),\n",
       " ('12008535',\n",
       "  'Rudo y Cursi',\n",
       "  \"In the fictional farming village of Tlachtlán, in the Cihuatlán Valley of Jalisco, Mexico, young men dream of escaping the drudgery of the banana plantations. Two of them, a pair of half-brothers, play in local soccer matches. Tato  is the star striker and Beto  is the eccentric goalkeeper. During one match they are spotted by a talent scout  and he offers one of them the opportunity to go to Mexico City with him and try out for one of the country's big teams. As the scout's roster is already full, he says he can only take one of the brothers and they decide to settle it on a penalty shot. Tato scores the penalty against his brother therefore earning the right to head to the capital. After a slow start Tato finally makes it big and earns the nickname 'Cursi' . His brother soon follows and joins a rival team where he is given the nickname 'Rudo' . Cursi becomes a national hero and starts dating Maya Vega , a famous model, whilst his brother struggles with life in the city and misses his family back home. Things start to go worse for the brothers. Tato loses both his woman and his goal scoring touch while his brother gets lured into a world of cocaine and gambling. It becomes clear that the drug cartels own everything. Their sister back home marries the local drug lord, Don Casimiro, whose far-reaching tentacles eventually affect the whole family. Everything finally depends upon one match as the two brothers come face to face. Cursi is threatened with demotion to Division 2 if he fails to score in this match; Rudo must throw the match in order to pay off his gambling debts or he will be killed. In the last minute Rudo saves a penalty from Tato and the match finishes goalless. Cursi quits football and returns home, and Rudo is shot, losing a leg and ending his career. They both end up back in Tlachtlán with their family where the simpler lifestyle seems to better suit them.\",\n",
       "  array([-0.01696566, -0.00656945,  0.04548899, -0.04024262, -0.0160837 ,\n",
       "          0.02163244,  0.02680736, -0.0180768 ,  0.09466273, -0.0259993 ,\n",
       "         -0.02302662,  0.0188982 ,  0.0277327 , -0.02822664, -0.01703328,\n",
       "          0.02714751, -0.03904742,  0.04479533,  0.05119569, -0.02011411,\n",
       "          0.0517718 , -0.06762718,  0.01777124,  0.00395834,  0.10245977,\n",
       "         -0.05704993,  0.02275074,  0.00923722,  0.04535373,  0.03763027,\n",
       "          0.00969988,  0.01413328,  0.00030034,  0.0361926 ,  0.00483783,\n",
       "         -0.07852346, -0.04381211, -0.01366532,  0.01123411, -0.04867543,\n",
       "         -0.00198147, -0.01422257,  0.0521847 , -0.01305832,  0.00039334,\n",
       "         -0.00287902, -0.09051247,  0.0248697 ,  0.02336168, -0.00015424,\n",
       "         -0.03819768,  0.03330951,  0.02923211,  0.02165583,  0.03507139,\n",
       "         -0.02252962, -0.03412698, -0.10801613, -0.03502085,  0.03165389,\n",
       "          0.01973534,  0.02330008, -0.01052831, -0.04829207, -0.05374255,\n",
       "          0.02440049,  0.02045169, -0.01975231, -0.08456791, -0.00452728,\n",
       "         -0.04588168, -0.02772307, -0.03280117,  0.00313815, -0.0196294 ,\n",
       "         -0.03616608, -0.02515206, -0.06939425,  0.01815886,  0.00646751,\n",
       "         -0.06762443,  0.0191378 , -0.01272715, -0.05329041,  0.01403433,\n",
       "          0.00937674, -0.02391566, -0.00206849,  0.05890441, -0.0026072 ,\n",
       "          0.01048253,  0.04976714,  0.02878169, -0.00603314,  0.07732344,\n",
       "          0.02391735,  0.03735487,  0.04036984,  0.0220304 , -0.00153848],\n",
       "        dtype=float32)),\n",
       " ('4951456',\n",
       "  'Kinjite: Forbidden Subjects',\n",
       "  'A Japanese businessman sees a woman being groped in a crowded Tokyo subway. He is interested to see how she would rather moan silently, involuntary orgasm than let people know she is being groped. When he is transferred to Los Angeles, the Japanese businessman tries to imitate what he saw by groping who happens to be Lt. Crowe \\'s daughter. But unlike in Japan, the American woman raises a commotion and makes him run away in embarrassment. Meanwhile, the daughter of the same Japanese businessman is kidnapped into a child prostitution ring led by the infamous \\'Pimp-King\\' Duke. Lt. Crowe, who claims the Japanese are in the process of buying Los Angeles, is recruited to find the daughter. Lt. Crowe and his partner indeed find the daughter, and Lt. Crowe changes his opinions about the Japanese when the Japanese businessman and his wife visit his house bearing gifts. Lt. Crowe\\'s daughter recognizes the Japanese businessman but says nothing. Back at home, the Japanese businessman\\'s daughter cannot cope with what happened to her back in the ring, and commits suicide by an overdose. Lt. Crowe and his partner thus go to find Duke by any means necessary. In the ensuing fight, Duke manages to kill Lt. Crowe\\'s partner, but &ndash; not knowing how to swim &ndash; almost drowns in the process of the fight. Lt. Crowe does answer his calls for help, but arranges for the small, long haired pimp to serve his prison sentence in a particularly harsh environment with multiple muscular, threatening inmates, all of whom make clear their desire to rape him. Lt. Crowe personally escorts the Duke to his cell, then walks away smiling. As Duke screams after him in petrified rage, Crowe looks back and says, \"Now that\\'s justice.\"',\n",
       "  array([-5.8280570e-03, -2.9443614e-02,  4.2903405e-02, -8.8679053e-02,\n",
       "          7.8405580e-03,  7.8088185e-03, -1.0895053e-02, -1.0705106e-02,\n",
       "          1.0117556e-01, -3.1380299e-02, -3.4745008e-02, -7.1777347e-03,\n",
       "          4.3708041e-02, -3.4053288e-02, -4.6886701e-02,  7.8065633e-03,\n",
       "         -3.3892773e-02,  3.6425240e-02,  3.7735760e-02, -2.7577261e-02,\n",
       "          5.1225618e-02, -8.8190876e-02,  3.2232840e-02, -1.6596181e-02,\n",
       "          1.1614904e-01, -1.0504692e-01,  1.1319278e-02, -1.8163005e-02,\n",
       "          2.1930473e-02,  2.6098369e-02, -2.8958118e-03,  2.6150133e-02,\n",
       "          2.5012067e-03,  2.4282699e-02, -4.6553211e-03, -8.0276504e-02,\n",
       "         -3.5729956e-02, -3.2857977e-02, -3.3041625e-03, -6.8112291e-02,\n",
       "          1.9783312e-02,  3.7824912e-03,  3.3726066e-02,  1.0090580e-02,\n",
       "         -1.7649837e-02, -1.4607158e-02, -1.0312668e-01,  4.4681530e-02,\n",
       "          1.9208463e-02,  1.6040877e-03, -1.4466031e-02,  2.6347894e-02,\n",
       "          2.6917676e-02,  1.7787764e-02,  3.8558125e-02, -3.8323462e-02,\n",
       "         -3.4394927e-02, -1.0539870e-01, -2.2674162e-02,  3.0828100e-02,\n",
       "          3.9930020e-02,  1.9019030e-02,  6.2454254e-03, -4.1749883e-02,\n",
       "         -8.0444381e-02,  4.9526703e-02,  2.1845421e-02, -4.1766804e-02,\n",
       "         -7.3118046e-02,  1.5057908e-02, -3.5014044e-02, -4.1479263e-02,\n",
       "         -4.0446837e-02, -1.9047074e-02, -2.2029227e-02, -2.9025260e-02,\n",
       "         -3.4240838e-02, -4.0172368e-02,  6.7822938e-03, -4.7397143e-03,\n",
       "         -7.5525127e-02,  3.8516548e-02, -1.6727913e-02, -4.6394307e-02,\n",
       "          1.7634835e-02,  1.3218628e-02,  1.1373507e-02,  2.5680924e-02,\n",
       "          1.1688730e-01,  1.6006568e-02, -2.7207250e-05,  8.2449138e-02,\n",
       "          2.5949225e-02, -2.1835798e-02,  7.7107966e-02,  1.9512115e-02,\n",
       "          4.5121033e-02,  9.1796573e-03, -1.1778289e-02, -2.4735207e-02],\n",
       "        dtype=float32))]"
      ]
     },
     "execution_count": 155,
     "metadata": {},
     "output_type": "execute_result"
    }
   ],
   "source": [
    "vectorized_rdd.take(5)"
   ]
  },
  {
   "cell_type": "markdown",
   "metadata": {},
   "source": [
    "So we have created an RDD that contains the representations of each movie in a document vector. \n",
    "\n",
    "In order to complete the recommender, we need to get the reviews of each user and and form them in a document vector that represents them appropriately. \n",
    "\n",
    "The advantage of these methods is that we do not need to take reviews for the given database! We just need to form a document vector that represents a movie and find which of the available(vectorized) movies are mmore similar to this movie. \n",
    "\n",
    "For a single user, we need to create a weighted average of her ratings (based on her reviews, movie rated with more stars are expected to have greater importance in her future selections) and use this weighted average to suggest new movies to watch.\n",
    "\n",
    "Our metric of similarity is the cosine similarity."
   ]
  },
  {
   "cell_type": "markdown",
   "metadata": {},
   "source": [
    "#### Implementing a content-based recommender"
   ]
  },
  {
   "cell_type": "markdown",
   "metadata": {},
   "source": [
    "Firs of all, we no longer need the movie ids"
   ]
  },
  {
   "cell_type": "code",
   "execution_count": 161,
   "metadata": {},
   "outputs": [],
   "source": [
    "titles_summaries_and_vectors = vectorized_rdd.map(lambda movie: (movie[1], movie[2], movie[3]))"
   ]
  },
  {
   "cell_type": "code",
   "execution_count": 162,
   "metadata": {},
   "outputs": [
    {
     "data": {
      "text/plain": [
       "42207"
      ]
     },
     "execution_count": 162,
     "metadata": {},
     "output_type": "execute_result"
    }
   ],
   "source": [
    "titles_summaries_and_vectors.count()"
   ]
  },
  {
   "cell_type": "code",
   "execution_count": 164,
   "metadata": {},
   "outputs": [
    {
     "data": {
      "text/plain": [
       "[('Baby Boy',\n",
       "  'A young 20-year-old named Jody  lives with his mother Juanita ,{{amg movie}} in South Central Los Angeles. He spends most of his time with his unemployed best friend P , and does not seem interested in becoming a responsible adult. However, he is forced to mature as a result of an ex-con named Melvin , who moves into their home. Another factor is his children - a son with his girlfriend Yvette  and a daughter with a girl named Peanut, who also lives with her mother. At the beginning of the movie Yvette has an abortion that Jody forced her to have. Yvette constantly asks Jody if he will ever come live with her and their son, but Jody avoids the subject and comes and goes as he pleases. Jody also continues seeing and having sex with other women, including Peanut. This becomes an issue between him and Yvette as well, especially since Yvette and Peanut do not get along. When she discovers his cheating they get in a heated argument which results to Jody slapping Yvette in the face. After this, Yvette changes the locks on the door. This infuriates Jody and they get into an argument. Their son comes out of his room and runs to the door. Yvette grabs him and cradles him while he yells, \"I wanna see my daddy.\" Eventually, Yvette\\'s gangster ex-boyfriend Rodney  is released from San Quentin State Prison, and returns to the neighborhood to move in with Yvette, much to her dismay. Rodney doesn\\'t care for Yvette and Jody\\'s son and wants to impregnate Yvette himself. Rodney attempts to rape Yvette in front of her son. She tells him, \"So you\\'re really gonna rape me in front of my son\". Rodney pauses for a minute then pushes her son out of the way and walks out of the room. Jody Jr. aka JoJo then says, \"I want my daddy.\" Yvette then cradles her son and replies, \"I know baby, I do too.\" For the next couple of days Yvette lives in fear and disgust of Rodney being there and misses Jody. Rodney, who realizes this, steals the money from her wallet and takes off in her car to go and find Jody. Rodney tries to kill Jody in a drive-by shooting; however, he is unsuccessful with both efforts. After this Yvette kicks Rodney and his friends out of her apartment. While at Sweetpea\\'s house playing cards, Yvette and Sweetpea\\'s girlfriend Kim step outside. Yvette then goes and sits beside Jody. When Jody ignores her she throws the chair back and runs off. Jody goes after her. She then tells Jody about everything she has been going through, even about Rodney trying rape her. Jody then hugs Yvette and says that he\\'s been missing her. Jody and Sweetpea confront Rodney, and as he attempts to escape, Jody shoots him in the ankle. Sweetpea urges Jody to kill Rodney, but he refuses, at which point Sweetpea kills Rodney himself. Feeling guilty for Rodney\\'s death, Jody prepares to commit suicide by shooting himself in the head, but Melvin catches him and takes the gun. After reflecting on the death of Rodney and how he put Yvette and his son in danger by not being around consistently, Jody finally moves out of his mom\\'s house and in with Yvette. They move into a motel after the killing. Jody has now become a mature man, realizing that his mom\\'s relationship with Melvin is a stable one and that he has a family of his own that he needs to protect and take care of. Afterwards, Jody and Yvette get married and she becomes pregnant with Jody\\'s third child and her second child with him. Sweetpea decides to turn over a new life and gets baptized, putting his old life as a street thug behind him.',\n",
       "  array([ 0.03493118,  0.0024255 , -0.07585545,  0.07593532,  0.00973486,\n",
       "         -0.02822236,  0.08688055, -0.04694621,  0.05601304, -0.02056799,\n",
       "         -0.03894438,  0.03195091,  0.01295165, -0.05155864, -0.08274098,\n",
       "          0.00179202,  0.01904204, -0.03623366,  0.01765041,  0.01788238,\n",
       "          0.19245096, -0.09034593,  0.06161799, -0.0306563 ,  0.17162104,\n",
       "         -0.0664319 ,  0.01949177, -0.01352419, -0.05622266,  0.05447122,\n",
       "         -0.09739755,  0.01105353, -0.02197399,  0.10928689, -0.05525309,\n",
       "         -0.15715018, -0.047334  ,  0.01255453, -0.04529143, -0.09322759,\n",
       "          0.02726479, -0.05156685,  0.10998905,  0.03636669,  0.02788997,\n",
       "         -0.05294462, -0.11772917,  0.07919305,  0.03753272, -0.03957717,\n",
       "         -0.03116622, -0.00937195,  0.01876195,  0.01345354,  0.02679248,\n",
       "         -0.09882563, -0.0272477 , -0.14847195, -0.00108018,  0.00384209,\n",
       "          0.08568077, -0.01574506, -0.0422837 , -0.02098795, -0.10470106,\n",
       "          0.02810247,  0.01008967, -0.02956106, -0.09585615,  0.00075066,\n",
       "         -0.02414826, -0.01211352, -0.03403334, -0.04803717, -0.03638   ,\n",
       "         -0.0461432 , -0.09014872, -0.04126376,  0.01189039,  0.03074446,\n",
       "         -0.08066149, -0.00611803, -0.03730403, -0.10696089,  0.08669177,\n",
       "         -0.00682956,  0.0129878 , -0.03960079,  0.09694098, -0.03032134,\n",
       "         -0.04275062,  0.08511019,  0.02255949,  0.06787299,  0.06986747,\n",
       "          0.06617267,  0.00804362,  0.01009324,  0.00269286, -0.01251494],\n",
       "        dtype=float32))]"
      ]
     },
     "execution_count": 164,
     "metadata": {},
     "output_type": "execute_result"
    }
   ],
   "source": [
    "titles_summaries_and_vectors.take(1)"
   ]
  },
  {
   "cell_type": "markdown",
   "metadata": {},
   "source": [
    "Now let's create a new user based on some rates we have received:"
   ]
  },
  {
   "cell_type": "markdown",
   "metadata": {},
   "source": [
    "#### User 1:"
   ]
  },
  {
   "cell_type": "code",
   "execution_count": 237,
   "metadata": {},
   "outputs": [],
   "source": [
    "import pandas as pd"
   ]
  },
  {
   "cell_type": "code",
   "execution_count": 325,
   "metadata": {},
   "outputs": [],
   "source": [
    "d = {\n",
    "    'Movie title' :  [\n",
    "        'Deadpool 2', \n",
    "        'Fantastic beasts and where to find them', \n",
    "        'Harry Potter and the goblet of fire',\n",
    "        'The perks of being a wallflower',\n",
    "        'American Animals',\n",
    "        'Imitation game',\n",
    "        'Perfume the story of a murderer',\n",
    "        'The greatest showman',\n",
    "        'Pirates of the Caribbean:Dead men Tell no Tales',\n",
    "        'Logan',\n",
    "        'Hacksaw Ridge',\n",
    "        'Doctor Strange',\n",
    "        'Deepwater Horizon',\n",
    "        'Frozen',\n",
    "        'Me before you',\n",
    "        'Now you see me',\n",
    "        'The hunger games:Mockingjay – Part 2',\n",
    "        'The pianist',\n",
    "        'The Hateful 8',\n",
    "        'The intern'],\n",
    "\n",
    "    'Rating' : [3, 4, 3, 4, 2.5, 5, 1, 4, 1.5, 2.5, 4.5, 4, 3, 4.5, 3.5, 3.5, 4.5, 2, 4, 4],\n",
    "\n",
    "    'Summary' : [\"After successfully working as the mercenary Deadpool for two years, Wade Wilson fails to kill one of his targets on his anniversary with his girlfriend Vanessa. That night, after the pair decides to start a family together, the target tracks them down and kills Vanessa. Wilson kills the man in revenge. He blames himself for her death and attempts to commit suicide six weeks later by blowing himself up. Wilson has a vision of Vanessa in the afterlife, but the pieces of his body remain alive and are put back together by Colossus. Wilson is left with only a Skee-Ball token, an anniversary gift, as a final memento of Vanessa.Recovering at the X-Mansion, Wilson agrees to join the X-Men as a form of healing. He, Colossus, and Negasonic Teenage Warhead respond to a standoff between authorities and the unstable young mutant Russell Collins Firefist at an orphanage, labeled a 'Mutant Reeducation Center'. Wilson realizes that Collins has been abused by the orphanage staff, and kills one of the staff members. Colossus stops him from killing anyone else, and both Wilson and Collins are arrested. Restrained with collars that suppress their powers, they are taken to the 'Ice Box', an isolated prison for mutant criminals. Meanwhile, a cybernetic soldier from the future, Cable, whose family is murdered by an older Collins, travels back in time to kill the boy before Collins ever becomes a killer.Cable breaks into the Ice Box and attacks Collins. Wilson, whose collar has broken in the melee, attempts to defend Collins. After Cable takes Vanessa's token, Wilson forces himself and Cable out of the prison, but not before Collins overhears Wilson deny that he cares for the young mutant. Near death again, Wilson has another vision of Vanessa in which she convinces him to help Collins. Wilson organizes a team called X-Force to break Collins out of a prison-transfer convoy and defend him from Cable. The team launches its assault on the convoy by parachuting from a plane, but all of the members die during the landing except for Wilson and the lucky Domino. While they fight Cable, Collins frees fellow inmate Juggernaut, who agrees to help Collins kill the abusive orphanage headmaster. Juggernaut destroys the convoy, allowing himself and Collins to escape.Cable offers to work with Wilson and Domino to stop Collins' first murder, which will lead to more, and agrees to give Wilson a chance to talk Collins down. At the orphanage they are overpowered by Juggernaut while Collins attacks the headmaster, until Colossus-who had at first refused to help Wilson due to Wilson's murderous ways-arrives to distract Juggernaut. When Wilson fails to talk down Collins, Cable shoots at the young mutant. Wilson leaps in front of the bullet while wearing the Ice Box collar and dies, reuniting with Vanessa in the afterlife. Seeing this sacrifice, Collins does not kill the headmaster; this changes the future so that Cable's family now survives. Cable uses the last charge on his time-traveling device, which he needed for returning to his family, to go back several minutes and strap Vanessa's token in front of Wilson's heart. Now when Wilson takes the bullet for Collins, it is stopped by the token and he survives. Collins still has his change of heart, and afterwards the headmaster is run over by Wilson's taxi-driver friend Dopinder.In a mid-credits sequence, Negasonic Teenage Warhead and her girlfriend Yukio repair Cable's time-traveling device for Wilson. He uses it to save the lives of Vanessa and X-Force member Peter; kill X-Men Origins: Wolverine's version of Deadpool; and kill actor Ryan Reynolds while he is considering starring in the film Green Lantern.\",\n",
    "                \"In 1926, British wizard and 'magizoologist' Newt Scamander arrives by ship to New York en route to Arizona. He encounters Mary Lou Barebone, a non-magical woman ('No-Maj' or 'Muggle') who heads the New Salem Philanthropic Society. As Newt listens to her speech about how witches and wizards are real and dangerous, a Niffler escapes from Newt's magically expanded suitcase, which houses various magical creatures. As Newt attempts to capture the Niffler, he meets No-Maj cannery worker and aspiring baker Jacob Kowalski, and they unwittingly swap suitcases. Demoted Auror (hunter of dark wizards) Tina Goldstein arrests Newt for the chaos caused by the Niffler and takes him to the Magical Congress of the United States of America (MACUSA) headquarters, hoping to regain her former position. However, as Jacob's suitcase contains only baked goods, Newt is released. At Jacob's tenement apartment, several creatures escape from Newt's suitcase.After Tina and Newt find Jacob and the suitcase, Tina takes them to her apartment and introduces them to Queenie, her Legilimens sister. Jacob and Queenie are mutually attracted, though American wizards are forbidden to marry or even meet No-Majs. Newt takes Jacob inside his magically expanded suitcase, where Jacob encounters a contained Obscurus, a parasite that develops inside magically gifted children if they suppress their magical abilities. Newt extracted it from a young girl who died, those afflicted rarely living past the age of ten. Newt persuades Jacob to help search for the missing creatures. After re-capturing two of the three escaped beasts, Tina returns the suitcase to MACUSA. Officials arrest them, believing one of Newt's beasts to be responsible for killing Senator Henry Shaw, Jr. Director of Magical Security Percival Graves accuses Newt of conspiring with the infamous dark wizard Gellert Grindelwald, and decides to destroy Newt's suitcase and erase Jacob's recent memories of magic. Newt and Tina are sentenced to immediate death in secret, but Queenie and Jacob rescue them, and they escape after retrieving Newt's suitcase. Following a tip from Tina's old goblin informant Gnarlack, the foursome find and re-capture the last of the escaped creatures.Meanwhile, Graves approaches Mary Lou's adopted son Credence and offers to free him from his abusive mother. In exchange, Graves wants Credence to find an Obscurus, which he believes has caused the mysterious destructive incidents around the city. Credence finds a wand under his adopted sister Modesty's bed. Mary Lou assumes it is Credence's wand, but Modesty says it is hers. When Modesty is about to be punished, the Obscurus kills Mary Lou and her eldest daughter Chastity. Graves arrives, and after Credence leads him to Modesty, whom he assumes is the Obscurus's host, he dismisses Credence as being a Squib and refuses to teach him magic. Credence reveals he is the real host, having lived longer than any other host due to the intensity of his magic. In a fit of rage, Credence transforms and attacks the city.Newt finds Credence hiding in a subway tunnel, but he is attacked by Graves. Tina, who knows Credence, arrives and attempts to calm him, while Graves tries to convince Credence to listen to him. As Credence begins to settle back into human form, Aurors arrive and apparently disintegrate him to protect the magical society; however, a tiny Obscurus fragment escapes. Graves admits to unleashing the Obscurus to expose the magical community to the No-Majs and framing Newt for it, and angrily claims that MACUSA protects the No-Majs more than themselves. As the president orders the aurors to apprehend Graves, he attacks and begins to defeat all of them. After being subdued by one of Newt's beasts, he is revealed as Grindelwald in disguise and is taken into custody.MACUSA fears their secret world has been exposed, but Newt releases his Thunderbird, Frank, to disperse a potion as rainfall over the city that erases all New Yorkers' recent memories as MACUSA wizards repair the destruction. Queenie kisses Jacob goodbye as the rain erases his memories. Newt departs for Europe, but promises to return and visit Tina when his book is finished; he also anonymously leaves Jacob a case of silver Occamy eggshells to fund his bakery. His breads and pastries are subconsciously inspired by Newt's creatures, and Queenie visits him in his shop.\",\n",
    "                \"Harry Potter awakens from a nightmare wherein a man named Frank Bryce is killed after overhearing Lord Voldemort conspiring with Peter Pettigrew and another man. While Harry attends the Quidditch World Cup between Ireland and Bulgaria with the Weasleys and Hermione Granger. Death Eaters terrorise the camp, and the man who appeared in Harry's dream summons the Dark Mark.At Hogwarts, Albus Dumbledore introduces ex-Auror Alastor 'Mad-Eye' Moody as the new Defense Against the Dark Arts teacher. He also announces that the school will host the legendary event known as the Triwizard Tournament, in which three magical schools compete across three dangerous challenges. The Goblet of Fire selects 'champions' to take part in the competition: Cedric Diggory of Hufflepuff representing Hogwarts, Viktor Krum representing the Durmstrang Institute from Central Europe, and Fleur Delacour representing Beauxbatons Academy of Magic from France. The Goblet then unexpectedly selects Harry as a fourth champion. Dumbledore is unable to pull the underage Harry out of the tournament, as Ministry official Barty Crouch Sr. insists that the champions are bound by a contract after being selected.For the first task, each champion must retrieve a golden egg guarded by the dragon they pick. Harry succeeds in retrieving the egg, which contains information about the second challenge. Shortly after, a formal dance event known as the Yule Ball takes place; Harry's crush Cho Chang attends with Cedric, and Hermione attends with Viktor, making Ron jealous. During the second task, the champions must dive underwater to rescue their mates. Harry finishes third, but is promoted to second behind Cedric due to his moral fibre, after saving Fleur's sister Gabrielle as well as Ron. Afterwards, Harry discovers the corpse of Crouch Sr. in the forest. Later, while waiting for Dumbledore in his office, Harry discovers a Pensieve, which holds Dumbledore's memories. Harry witnesses a trial in which Igor confesses to the Ministry of Magic names of other Death Eaters, after Voldemort's defeat. When he names Severus Snape as one, Dumbledore vouches for Snape's innocence; Snape turned spy against Voldemort before the latter's downfall. After Karkaroff names Barty Crouch Jr., a devastated Crouch Sr. imprisons his son in Azkaban. Exiting the Pensieve, Harry realizes that Crouch Jr. is the man he saw in his dream.For the final task, the champions must reach the Triwizard Cup, located in a hedge maze. Viktor, under the influence of the Imperius Curse, accidentally incapacitates Fleur. After Harry saves Cedric when the maze attacks him, the two claim a draw and together grab the cup, which turns out to be a Portkey and transports them to a graveyard where Pettigrew and Voldemort are waiting. Pettigrew kills Cedric with the Killing Curse, and performs a ritual that rejuvenates Voldemort, who then summons the Death Eaters. Voldemort releases Harry in order to beat him in a duel and prove he is the better wizard. Unable to defend himself, Harry tries the Expelliarmus charm at the same moment that Voldemort attempts the Killing Curse. The beams from their wands entwine, and Voldemort's wand disgorges the last spells it performed. The spirits of the people he murdered materialize in the graveyard, including Harry's parents and Cedric. This distracts Voldemort and his Death Eaters, allowing Harry to escape with Cedric's body by grabbing the Portkey.Harry tells Dumbledore that Voldemort returned and killed Cedric. Moody takes Harry back to his office to interrogate him about Voldemort, but inadvertently blows his cover by asking Harry whether there were 'others in the graveyard', despite Harry not mentioning a graveyard. Moody reveals that he submitted Harry's name to the Goblet of Fire and manipulated Harry throughout the tournament to ensure he would win. Moody attempts to attack Harry, but Dumbledore, Snape, and Minerva McGonagall intervene and subdue him. The teachers force Moody to drink Veritaserum, a truth-telling potion, and he reveals that the real Moody is imprisoned in a magical trunk. The impostor's Polyjuice Potion wears off, revealing him as Crouch Jr., who is then returned to Azkaban.Dumbledore reveals to the students that Voldemort killed Cedric, although the Ministry of Magic opposes the revelation. Later, Dumbledore visits Harry in his dormitory, apologizing to him for the dangers he endured. Harry reveals that he saw his parents in the graveyard; Dumbledore names this effect as 'Priori Incantatem'. Soon after Hogwarts, Durmstrang, and Beauxbatons bid farewell to each other.\",\n",
    "                \"Set in 1992, the film is set against the background of a young student, Charlie (Logan Lerman), who has been suffering from clinical depression from childhood setbacks and has recently been discharged from a mental health care institution to begin his adaptation to a normal lifestyle as a young high school student. Charlie is uneasy about beginning his freshman year of high school; he is shy and finds difficulty in making friends, but he connects with his English teacher, Mr. Anderson (Paul Rudd).When he sits with two seniors, Sam (Emma Watson) and her stepbrother Patrick (Ezra Miller), at a football game, they invite him to join them to several social activities. At a party, Charlie unwittingly eats a cannabis brownie, gets high and discloses to Sam that the year before, his best friend committed suicide. He also walks in on Patrick and Brad (Johnny Simmons), a popular athlete, kissing. Sam realizes that Charlie has no other friends so she and Patrick make a special effort to bring Charlie into their group. Sam needs to improve her SAT scores to be accepted to Pennsylvania State University, so Charlie offers to tutor her. On the way home from the party, when the three hear a song with which they are unfamiliar, Sam instructs Patrick to drive through a tunnel so she can stand up in the back of the pickup while the music blasts.At Christmas, Sam gives Charlie a vintage typewriter to help his aspirations of being a writer. The two discuss relationships, and Charlie reveals he has never been kissed. Sam, though already involved with someone else, tells Charlie she wants his first kiss to be from someone who loves him, and kisses him. Charlie, in love with Sam, begins to try to find ways to show her how he feels.At a regular Rocky Horror Picture Show performance, Charlie is asked to fill in for Sam's boyfriend Craig, who is unavailable. Their friend Mary Elizabeth (Mae Whitman) is impressed and asks Charlie to the Sadie Hawkins dance. The two enter into a desultory relationship. Finally, at a party, when Charlie is dared to kiss the most beautiful girl in the room, he chooses Sam, upsetting both her and Mary Elizabeth. Patrick recommends Charlie stay away from the group for a while, and the isolation causes him to sink back into depression. He experiences flashbacks of his Aunt Helen (Melanie Lynskey), who died in a car accident when he was seven years old.When Brad shows up at school with a black eye having been caught by his father having sex with Patrick, he lies, saying that he was jumped and beaten up. Brad distances himself from Patrick, calling him a faggot. Brad's friends begin beating Patrick, but Charlie forcefully intervenes, then blacks out. He recovers to find he has bruised knuckles and Brad's friends are on the floor, incapacitated. Charlie threatens, Touch my friends again, and I'll blind you, then leaves. Sam and Patrick express their gratitude to Charlie, and the three become friends again.Sam is accepted into Penn State, and breaks up with Craig on prom night after learning he has been cheating on her. The night before she departs, she brings Charlie to her room and asks him 'Why do I and everyone I love pick people who treat us like we are nothing to which he repeats advice he received from Mr. Anderson\",\n",
    "                \"The storytelling frequently jumps between interviews with the real people portrayed in the movie and the events themselves performed by actors.In 2003 in Lexington, Kentucky, Spencer Reinhard (Barry Keoghan) is an art student who feels his life has no meaning, that he needs something exciting, even if tragic, to happen in his life to inspire greater artistry. Warren Lipka (Evan Peters) is a rebellious student on an athletic scholarship, though he does not care much for sports and is only pursuing the education to please his family.After Spencer is given a tour of Transylvania University's library's rare book collection, the two friends begin to plan to steal an extremely valuable edition of John James Audubon's The Birds of America and other rare books. Warren travels to Amsterdam to meet some black market buyers who express interest in buying the books. Upon returning to the US, he informs Spencer that they could make millions of dollars, much to their excitement.Realizing that pulling off the heist will require more people, they enlist the help of childhood friends Erik Borsuk (Jared Abrahamson), who helps provide the logistics of the operation, and Chas Allen (Blake Jenner), who will be the getaway driver. They all take time to prepare, learning that the only person guarding the books is the special collections librarian, Betty Jean Gooch (Ann Dowd).On the day of the robbery, they disguise themselves as elderly businessmen, and enter the library. After noticing that there are too many people in the special collections library, they quickly abort the heist and retreat. Three of the conspirators want to end the attempt altogether, but Warren calls the library asking for a private appointment the next day.They decide to drop the elaborate old-age disguises. While Spencer acts as a lookout outside the building, Warren and Eric enter the library dressed as young businessmen. Warren clumsily tases the special collections librarian and makes Eric help tie her up and gag her. They take the rare books and blunder to an exit. In a panic, they drop and have to leave behind the biggest prizes, two enormous Audubon books comprising 'The Birds of America.' All four manage to escape with two of the rarer books.They take the books to Christie's auction house in New York to get the authentication of value that Warren had said the Dutch buyers required. Spencer is told he has to come back sometime the next day and leaves his cell phone number with an auction assistant. In the van outside, Chas berates everyone for their stupidity, and they return to Lexington with the books. Shortly after, Spencer realizes that the police will be able to trace them from emails they used in setting up the heist as well as his cell phone number.The thieves show signs of great stress as they try to lie low: Warren attempts to shoplift from a convenience store; Spencer gets into a car accident; and Eric starts a bar fight. Inevitably, the FBI raid all four of their homes and arrest them. Movie titles show they each serve over 7 years in federal prison.After prison, the real-life robbers express their regret for attempting the heist, noting how much pain they have put their families through. It is also revealed that Warren may have lied about going to Amsterdam, fabricating the story to get the others to agree to the heist. However, this is not confirmed.An epilogue describes their lives after prison. Eric lives in Los Angeles as a writer, and Chas has become a fitness coach in Southern California. Warren has re-enrolled in college and studies filmmaking in Philadelphia. Spencer still lives in Lexington making a living as an artist, specializing in birds. Betty Jean Gooch, the librarian, still works at Transylvania University as a special collections librarian.\",\n",
    "                \"In 1951, two policemen, Nock and Staehl, investigate the mathematician Alan Turing after an apparent break-in at his home. During his interrogation by Nock, Turing tells of his time working at Bletchley Park during the Second World War. In 1927, the young Turing is unhappy and bullied at boarding school. He develops a friendship with Christopher Morcom, who sparks his interest in cryptography. Turing develops romantic feelings for him, but Christopher soon dies from tuberculosis. When Britain declares war on Germany in 1939, Turing travels to Bletchley Park. Under the direction of Commander Alastair Denniston, he joins the cryptography team of Hugh Alexander, John Cairncross, Peter Hilton, Keith Furman and Charles Richards. The team are trying to decrypt the Enigma machine, which the Nazis use to send coded messages. Turing is difficult to work with, and considers his colleagues inferior; he works alone to design a machine to decipher Enigma. After Denniston refuses to fund construction of the machine, Turing writes to Prime Minister Winston Churchill, who puts Turing in charge of the team and funds the machine. Turing fires Furman and Richards and places a difficult crossword in newspapers to find replacements. Joan Clarke, a Cambridge graduate, passes Turing’s test but her parents will not allow her to work with the male cryptographers. Turing arranges for her to live and work with the female clerks who intercept the messages, and shares his plans with her. With Clarke's help, Turing warms to the other colleagues, who begin to respect him. Turing’s machine, which he names Christopher, is constructed, but cannot determine the Enigma settings before the Germans reset the Enigma encryption each day. Denniston orders it destroyed and Turing fired, but the other cryptographers threaten to leave if Turing goes. After Clarke plans to leave on the wishes of her parents, Turing proposes marriage, which she accepts. During their reception, Turing confirms his homosexuality to Cairncross, who warns him to keep it secret. After overhearing a conversation with a female clerk about messages she receives, Turing has an epiphany, realising he can program the machine to decode words he already knows exist in certain messages. After he recalibrates the machine, it quickly decodes a message and the cryptographers celebrate. Turing realises they cannot act on every decoded message or the Germans will realise Enigma has been broken. Turing discovers that Cairncross is a Soviet spy. When Turing confronts him, Cairncross argues that the Soviets are allies working for the same goals, and threatens to retaliate by disclosing Turing’s sexuality. When the MI6 agent Stewart Menzies appears to threaten Clarke, Turing reveals that Cairncross is a spy. Menzies reveals he knew this already and planted Cairncross to leak messages to the Soviets for British benefit. Fearing for her safety, Turing tells Clarke to leave Bletchley Park, revealing that he is gay. Heartbroken, Clarke states she always suspected but insists they would have been happy together anyway. After the war, Menzies tells the cryptographers to destroy their work and that they can never see one another again or share what they have done. In the 1950s, Turing is convicted of gross indecency and, in lieu of a jail sentence, undergoes chemical castration so he can continue his work. Clarke visits him in his home and witnesses his physical and mental deterioration. She comforts him by saying that his work saved millions of lives.\",\n",
    "                \"The film begins with the sentencing of Jean-Baptiste Grenouille (Ben Whishaw), a notorious murderer. Between the reading of the sentence and the execution, the story of his life is told in flashback, beginning with his abandonment at birth in a French fish market. Raised in an orphanage, Grenouille grows into a strangely detached boy with a superhuman sense of smell. After growing to maturity as a tanner's apprentice, he makes his first delivery to Paris, where he revels in all the new scents. He focuses on a redheaded girl (Karoline Herfurth) selling yellow plums, following her and repeatedly attempting to sniff her, but startles her with his behavior. To prevent her from crying out, he covers the girl's mouth and unintentionally suffocates her. After realizing that she is dead, he strips her body naked and smells her all over, becoming distraught when her scent fades. Afterwards, Grenouille is haunted by the desire to recreate the girl's aroma.After making a delivery to a perfume shop, Grenouille amazes the Italian owner, Giuseppe Baldini (Dustin Hoffman), with his ability to identify and create fragrances. He revitalizes the perfumer's career with new formulas, demanding only that Baldini teach him how to preserve scents. Baldini explains that all perfumes are harmonies of twelve individual scents, and may contain a theoretical thirteenth scent. Grenouille continues working for Baldini but is saddened when he learns that Baldini's method of distillation will not capture the scents of all objects. Baldini informs Grenouille of another method that can be learned in Grasse and agrees to help him by providing the journeyman papers he requires in exchange for 100 new perfume formulas. Right after Grenouille departs, Baldini dies when the shaky building, along with his studio, collapses. En route to Grasse, Grenouille decides to exile himself from society, taking refuge in a cave. During this time, he discovers that he lacks any personal scent himself, and believes this is why he is perceived as strange or disturbing by others. Deciding to continue his quest, he leaves his cave and continues to Grasse.Upon arrival in Grasse, Grenouille catches the scent of Laura Richis (Rachel Hurd-Wood), the beautiful, redheaded daughter of the wealthy Antoine Richis (Alan Rickman) and decides that she will be his 'thirteenth scent', the linchpin of his perfume. Grenouille finds a job in Grasse under Madame Arnulfi (Corinna Harfouch) and learns the method of enfleurage. He kills a young lavender picker and attempts to extract her scent using the method of hot enfleurage, which fails. After this, he attempts the method of cold enfleurage on a prostitute he hired, but she becomes alarmed and tries to throw him out. He murders her and successfully preserves the scent of the woman. Grenouille embarks on a killing spree, targeting beautiful young women and capturing their scents using his perfected method. He dumps the women's naked corpses around the city, creating panic. After preserving the first twelve scents, Grenouille plans his attack on Laura. During a church sermon denouncing and excommunicating the murderer, it is announced that a man has confessed to the murders. Richis remains unconvinced and secretly flees the city with his daughter, telling no one their destination. Grenouille tracks her scent to a roadside inn and sneaks into her room that night, murdering her.Soldiers capture Grenouille moments after he finishes preparing his perfume. On the day of his execution, he applies the perfume on himself, forcing the jailers to release him. The executioner and the crowd in attendance are speechless at the beauty of the perfume; they declare Grenouille innocent before falling into a massive orgy. Richis, still convinced of Grenouille's guilt, threatens him with his sword, but he is then overwhelmed by the scent and embraces Grenouille as his 'son'. Walking out of Grasse unscathed, Grenouille has enough perfume to rule the world, but has discovered that it will not allow him to love or be loved like a normal person. Disenchanted by his aimless quest, he returns to the Parisian fish market where he was born and pours the remaining perfume over his head. Overcome by the scent and in the belief that Grenouille is an angel, the nearby crowd devours him. The next morning, all that is left are his clothes and the empty bottle, from which one final drop of perfume falls.\", \n",
    "                 \"Orphaned, penniless but ambitious and with a mind crammed with imagination and fresh ideas, the American Phineas Taylor Barnum will always be remembered as the man with the gift to effortlessly blur the line between reality and fiction. Thirsty for innovation and hungry for success, the son of a tailor will manage to open a wax museum but will soon shift focus to the unique and peculiar, introducing extraordinary, never-seen-before live acts on the circus stage. Some will call Barnum's wide collection of oddities, a freak show; however, when the obsessed showman gambles everything on the opera singer Jenny Lind to appeal to a high-brow audience, he will somehow lose sight of the most important aspect of his life: his family. Will Barnum risk it all to be accepted?\", \n",
    "                 \"Jack's luck has run out. Captain Salazar has released the most deadly ghost pirates of the sea from the devil's Triangle. Captain Salazar is the oldest villain of Jack Sparrow. The ghost pirates hunt on every single pirate on sea, including Jack Sparrow. The only hope to survive this adventure is to collect the legendary Trident of Poseidon. This weapon is the most powerful weapon and the owner gets control of all seas. Is Jack going to collect this powerful weapon and can he ensure he is not going to get killed by Captain Salazar and his pirate ghosts?\",\n",
    "                 \"In 2029 the mutant population has shrunken significantly due to genetically modified plants designed to reduce mutant powers and the X-Men have disbanded. Logan, whose power to self-heal is dwindling, has surrendered himself to alcohol and now earns a living as a chauffeur. He takes care of the ailing old Professor X whom he keeps hidden away. One day, a female stranger asks Logan to drive a girl named Laura to the Canadian border. At first he refuses, but the Professor has been waiting for a long time for her to appear. Laura possesses an extraordinary fighting prowess and is in many ways like Wolverine. She is pursued by sinister figures working for a powerful corporation; this is because they made her, with Logan's DNA. A decrepit Logan is forced to ask himself if he can or even wants to put his remaining powers to good use. It would appear that in the near-future, the times in which they were able put the world to rights with razor sharp claws and telepathic powers are now over.\",\n",
    "                 \"An Americam army veteran grieves by the tombstones of his army company that died during World War I. Back home, he raises his sons in a pious setting and asks them to shun weapons. After a naughty fight turns awry, Desmond reads the Bible and vows not to harm another human in his life thereafter. Desmond then saves the life of a worker, experiencing a wholesome satisfaction in the process. In the hospital, he is smitten by a nurse, who he then dates. After the United States enters the Second World War, both sons enlist, adding to the ire of the father who despises his sons joining the Army. The rigorous regimen of training in the Army requires Desmond to clear his firearms training, but after a huge tiff with his seniors, his father, an old corporal, intervenes to save Desmond from being court-martialed and serve with the Army as a medic. They get posted to Hacksaw Ridge, Okinawa. A win there would ensure that the Empire of Japan surrenders to the Allied Forces. What happens thereon?\",\n",
    "                 \"In New York, the arrogant Dr. Stephen Strange is a talented neurosurgeon with a huge ego. After a car accident, Dr. Strange damages his fingers and loses control of his hands. The surgeon, Christine Palmer, who was his lover, tries to help him. But Dr. Strange unsuccessfully spends his savings searching for an experimental treatment for his fingers. When Dr. Strange learns that the paraplegic Jonathan Pangborn walked again, he seeks him out and is told he was healed in Kamar-Taj. Dr. Strange travels to Katmandu where he meets the sorcerer Mordo and is introduced to The Ancient One. She discloses the astral plan and other dimensions to him and explains that Earth is protected in the mystical plan by three Sanctums (in New York, London, and Hong Kong). However, her former protégé, Kaecilius, has contacted the powerful demon Dormammu in the Dark Dimension and wants to destroy the three Sanctums with his minions to let the Dark Dimension, where time does not exist and anyone can live forever, to rule the world. Will The Ancient One, Dr. Strange and Mordo save the world?\",\n",
    "                 \"In the Gulf of Mexico, 41 miles south-east of the Louisiana Coast, lies the Deepwater Horizon, a semi-submersible offshore oil drilling rig, which is free-floating over the Gulf floor and manned by 126 crew members on board. Among the personnel is Chief Electronics Technician Mike Williams and the seasoned rig supervisor Jimmy Harrell who are surprised to discover that the standard procedure regarding the cement foundation, the only thing between the rig and a blowout, has been bypassed by orders of BP's executives Donald Vidrine and Robert Kaluza. Without a clue about the stability of the well and whether the concrete's integrity has been compromised or not, but above all, with the intention to cut expenses, the greedy managers push to start pumping and before long, disaster strikes. Eventually, as the foundation fails utterly, an endless chain of malfunctions transforms the Deepwater Horizon into a blazing inferno leaving the men defenceless, while Williams and Harrell heroically struggle to rescue their shipmates in the worst oil disaster in the U.S. history that lasted 87 days.\",\n",
    "                 \"In the Kingdom of Arendelle, Princess Elsa has the power to create and freeze ice and snow, and her younger sister Anna loves to play with her. When Elsa accidentally hits Anna on the head with her powers and almost kills her, their parents take them to trolls that save Anna's life and make her forget her sister's ability. Elsa returns to the castle and stays reclusively in her room with fear of hurting Anna with her increasing power. Their parents die when their ship sinks into the ocean, and three years later Elsa's coronation forces her to open her castle gates to celebrate with the people. Anna meets Prince Hans at the party and immediately falls in love and decides to marry him. But Elsa doesn't approve, loses control of her powers, and freezes Arendelle. Elsa flees to the mountain and Anna teams up with the peasant Kristoff, his reindeer Sven, and the snowman Olaf to seek out Elsa. They find her in her icy castle and she accidentally hits Anna in the heart; now only true love can save her sister from death.\",\n",
    "                 \"Since a motorbike crushed into him, silver spoon William 'Wild Will' Traynor's glamour life as corporate raider turned into a nightmare of near-paralyzed wheelchair agony and bitter solitude. His rich but desperate parents, owners of British town's grand manor and medieval castle, hired perfect male nurse Nathan for all able medical assistance but are up to their fifth audition for a well-paid job as permanent companion. The only eligible candidate this time is airhead local Lou Clark, daughter of an unemployed laborer, who never holds a job more then a few days. This time however she neglects her jealous-made fiance Patrick, the jock local award gym entrepreneur, trying anything to bond with Will, who slowly starts caring for her company enough to live again, even publicly and abroad, and introduce her to society. However his incurable condition, extremely vulnerable to any infection, still dictates his determination to get legal euthanasia in Switzerland after the six months ample consideration he promised his parents.\",\n",
    "                 \"Four down-on-their-luck magicians are brought together by an anonymous person who gives them the blueprints to a great illusion. A year later they call themselves the Four Horsemen and the finale of their show is that they will rob a bank. The bank they choose to rob is in France, and they do it. The incident is brought to the attention of the FBI so they assign agent Dylan Rhodes to investigate. Alma Vargas, an Interpol agent comes to help Rhodes which he doesn't like. They turn to Thaddeus Bradley, a former magician, who exposes magic as simple trickery. Bradley shows them how they did it but still not enough to give Rhodes grounds to arrest them. So they follow them and they pull another stunt which makes Rhodes think that they're part of a plot to get back at certain people.\",\n",
    "                 \"For all past deaths made as entertainment, and for the insidious modification of Peeta, Katriss deems to strike out on her own to take down President Snow once and for all, but being the Mockingjay, the living symbol of the rebellion now headed by Alma Coin, has its drawbacks. Recognition, for one, and she finds herself saddled with a team of expert warriors (which surprisingly includes the ailing Peeta) aimed to penetrate the Capitol that has barricaded itself behind Hunger-Game-style death traps. As she closes in on carrying out her private agenda through more deaths and mayhem, President Snow himself makes her aware of another threat to peace for Panem equal to himself, leaving her to consider how to truly end the bloodshed.\",\n",
    "                 \"Filmmaker Roman Polanski, who as a boy growing up in Poland watched while the Nazis devastated his country during World War II, directed this downbeat drama based on the story of a privileged musician who spent five years struggling against the Nazi occupation of Warsaw. Wladyslaw Szpilman (Adrien Brody) is a gifted classical pianist born to a wealthy Jewish family in Poland. The Szpilmans have a large and comfortable flat in Warsaw which Wladyslaw shares with his mother and father (Maureen Lipman and Frank Finlay), his sisters Halina and Regina (Jessica Kate Meyer and Julia Rayner), and his brother, Henryk (Ed Stoppard). While Wladyslaw and his family are aware of the looming presence of German forces and Hitler's designs on Poland, they're convinced that the Nazis are a menace which will pass, and that England and France will step forward to aid Poland in the event of a real crisis. Wladyslaw's naivete is shattered when a German bomb rips through a radio studio while he performs a recital for broadcast. During the early stages of the Nazi occupation, as a respected artist, he still imagines himself above the danger, using his pull to obtain employment papers for his father and landing a supposedly safe job playing piano in a restaurant. But as the German grip tightens upon Poland, Wladyslaw and his family are selected for deportation to a Nazi concentration camp. Refusing to face a certain death, Wladyslaw goes into hiding in a comfortable apartment provided by a friend. However, when his benefactor goes missing, Wladyslaw is left to fend for himself and he spends the next several years dashing from one abandoned home to another, desperate to avoid capture by German occupation troops\",\n",
    "                 \"Some time after the Civil War, a stagecoach hurtles through the wintry Wyoming landscape. Bounty hunter John Ruth and his fugitive captive Daisy Domergue race towards the town of Red Rock, where Ruth will bring Daisy to justice. Along the road, they encounter Major Marquis Warren (an infamous bounty hunter) and Chris Mannix (a man who claims to be Red Rock's new sheriff). Lost in a blizzard, the bunch seeks refuge at Minnie's Haberdashery. When they arrive they are greeted by unfamiliar faces: Bob, who claims to be taking care of the place while Minnie is gone; Oswaldo Mobray, the hangman of Red Rock; Joe Gage, a cow puncher; and confederate general Sanford Smithers. As the storm overtakes the mountainside, the eight travelers come to learn that they might not make it to Red Rock after all...\",\n",
    "                 \"A retired 70-year-old widower, Ben (played by Robert De Niro), is bored with retired life. He applies to a be a senior intern at an online fashion retailer and gets the position. The founder of the company is Jules Ostin (Anne Hathaway), a tireless, driven, demanding, dynamic workaholic. Ben is made her intern, but this is a nominal role - she doesn't intend to give him work and it is just window dressing. However, Ben proves to be quite useful and, more than that, a source of support and wisdom.\"\n",
    "                ]\n",
    "    }"
   ]
  },
  {
   "cell_type": "code",
   "execution_count": 326,
   "metadata": {},
   "outputs": [],
   "source": [
    "df = pd.DataFrame(data=d)"
   ]
  },
  {
   "cell_type": "code",
   "execution_count": 327,
   "metadata": {},
   "outputs": [
    {
     "data": {
      "text/html": [
       "<div>\n",
       "<style scoped>\n",
       "    .dataframe tbody tr th:only-of-type {\n",
       "        vertical-align: middle;\n",
       "    }\n",
       "\n",
       "    .dataframe tbody tr th {\n",
       "        vertical-align: top;\n",
       "    }\n",
       "\n",
       "    .dataframe thead th {\n",
       "        text-align: right;\n",
       "    }\n",
       "</style>\n",
       "<table border=\"1\" class=\"dataframe\">\n",
       "  <thead>\n",
       "    <tr style=\"text-align: right;\">\n",
       "      <th></th>\n",
       "      <th>Movie title</th>\n",
       "      <th>Rating</th>\n",
       "      <th>Summary</th>\n",
       "    </tr>\n",
       "  </thead>\n",
       "  <tbody>\n",
       "    <tr>\n",
       "      <th>0</th>\n",
       "      <td>Deadpool 2</td>\n",
       "      <td>3.0</td>\n",
       "      <td>After successfully working as the mercenary De...</td>\n",
       "    </tr>\n",
       "    <tr>\n",
       "      <th>1</th>\n",
       "      <td>Fantastic beasts and where to find them</td>\n",
       "      <td>4.0</td>\n",
       "      <td>In 1926, British wizard and 'magizoologist' Ne...</td>\n",
       "    </tr>\n",
       "    <tr>\n",
       "      <th>2</th>\n",
       "      <td>Harry Potter and the goblet of fire</td>\n",
       "      <td>3.0</td>\n",
       "      <td>Harry Potter awakens from a nightmare wherein ...</td>\n",
       "    </tr>\n",
       "    <tr>\n",
       "      <th>3</th>\n",
       "      <td>The perks of being a wallflower</td>\n",
       "      <td>4.0</td>\n",
       "      <td>Set in 1992, the film is set against the backg...</td>\n",
       "    </tr>\n",
       "    <tr>\n",
       "      <th>4</th>\n",
       "      <td>American Animals</td>\n",
       "      <td>2.5</td>\n",
       "      <td>The storytelling frequently jumps between inte...</td>\n",
       "    </tr>\n",
       "    <tr>\n",
       "      <th>5</th>\n",
       "      <td>Imitation game</td>\n",
       "      <td>5.0</td>\n",
       "      <td>In 1951, two policemen, Nock and Staehl, inves...</td>\n",
       "    </tr>\n",
       "    <tr>\n",
       "      <th>6</th>\n",
       "      <td>Perfume the story of a murderer</td>\n",
       "      <td>1.0</td>\n",
       "      <td>The film begins with the sentencing of Jean-Ba...</td>\n",
       "    </tr>\n",
       "    <tr>\n",
       "      <th>7</th>\n",
       "      <td>The greatest showman</td>\n",
       "      <td>4.0</td>\n",
       "      <td>Orphaned, penniless but ambitious and with a m...</td>\n",
       "    </tr>\n",
       "    <tr>\n",
       "      <th>8</th>\n",
       "      <td>Pirates of the Caribbean:Dead men Tell no Tales</td>\n",
       "      <td>1.5</td>\n",
       "      <td>Jack's luck has run out. Captain Salazar has r...</td>\n",
       "    </tr>\n",
       "    <tr>\n",
       "      <th>9</th>\n",
       "      <td>Logan</td>\n",
       "      <td>2.5</td>\n",
       "      <td>In 2029 the mutant population has shrunken sig...</td>\n",
       "    </tr>\n",
       "    <tr>\n",
       "      <th>10</th>\n",
       "      <td>Hacksaw Ridge</td>\n",
       "      <td>4.5</td>\n",
       "      <td>An Americam army veteran grieves by the tombst...</td>\n",
       "    </tr>\n",
       "    <tr>\n",
       "      <th>11</th>\n",
       "      <td>Doctor Strange</td>\n",
       "      <td>4.0</td>\n",
       "      <td>In New York, the arrogant Dr. Stephen Strange ...</td>\n",
       "    </tr>\n",
       "    <tr>\n",
       "      <th>12</th>\n",
       "      <td>Deepwater Horizon</td>\n",
       "      <td>3.0</td>\n",
       "      <td>In the Gulf of Mexico, 41 miles south-east of ...</td>\n",
       "    </tr>\n",
       "    <tr>\n",
       "      <th>13</th>\n",
       "      <td>Frozen</td>\n",
       "      <td>4.5</td>\n",
       "      <td>In the Kingdom of Arendelle, Princess Elsa has...</td>\n",
       "    </tr>\n",
       "    <tr>\n",
       "      <th>14</th>\n",
       "      <td>Me before you</td>\n",
       "      <td>3.5</td>\n",
       "      <td>Since a motorbike crushed into him, silver spo...</td>\n",
       "    </tr>\n",
       "    <tr>\n",
       "      <th>15</th>\n",
       "      <td>Now you see me</td>\n",
       "      <td>3.5</td>\n",
       "      <td>Four down-on-their-luck magicians are brought ...</td>\n",
       "    </tr>\n",
       "    <tr>\n",
       "      <th>16</th>\n",
       "      <td>The hunger games:Mockingjay – Part 2</td>\n",
       "      <td>4.5</td>\n",
       "      <td>For all past deaths made as entertainment, and...</td>\n",
       "    </tr>\n",
       "    <tr>\n",
       "      <th>17</th>\n",
       "      <td>The pianist</td>\n",
       "      <td>2.0</td>\n",
       "      <td>Filmmaker Roman Polanski, who as a boy growing...</td>\n",
       "    </tr>\n",
       "    <tr>\n",
       "      <th>18</th>\n",
       "      <td>The Hateful 8</td>\n",
       "      <td>4.0</td>\n",
       "      <td>Some time after the Civil War, a stagecoach hu...</td>\n",
       "    </tr>\n",
       "    <tr>\n",
       "      <th>19</th>\n",
       "      <td>The intern</td>\n",
       "      <td>4.0</td>\n",
       "      <td>A retired 70-year-old widower, Ben (played by ...</td>\n",
       "    </tr>\n",
       "  </tbody>\n",
       "</table>\n",
       "</div>"
      ],
      "text/plain": [
       "                                        Movie title  Rating  \\\n",
       "0                                        Deadpool 2     3.0   \n",
       "1           Fantastic beasts and where to find them     4.0   \n",
       "2               Harry Potter and the goblet of fire     3.0   \n",
       "3                   The perks of being a wallflower     4.0   \n",
       "4                                  American Animals     2.5   \n",
       "5                                    Imitation game     5.0   \n",
       "6                   Perfume the story of a murderer     1.0   \n",
       "7                              The greatest showman     4.0   \n",
       "8   Pirates of the Caribbean:Dead men Tell no Tales     1.5   \n",
       "9                                             Logan     2.5   \n",
       "10                                    Hacksaw Ridge     4.5   \n",
       "11                                   Doctor Strange     4.0   \n",
       "12                                Deepwater Horizon     3.0   \n",
       "13                                           Frozen     4.5   \n",
       "14                                    Me before you     3.5   \n",
       "15                                   Now you see me     3.5   \n",
       "16             The hunger games:Mockingjay – Part 2     4.5   \n",
       "17                                      The pianist     2.0   \n",
       "18                                    The Hateful 8     4.0   \n",
       "19                                       The intern     4.0   \n",
       "\n",
       "                                              Summary  \n",
       "0   After successfully working as the mercenary De...  \n",
       "1   In 1926, British wizard and 'magizoologist' Ne...  \n",
       "2   Harry Potter awakens from a nightmare wherein ...  \n",
       "3   Set in 1992, the film is set against the backg...  \n",
       "4   The storytelling frequently jumps between inte...  \n",
       "5   In 1951, two policemen, Nock and Staehl, inves...  \n",
       "6   The film begins with the sentencing of Jean-Ba...  \n",
       "7   Orphaned, penniless but ambitious and with a m...  \n",
       "8   Jack's luck has run out. Captain Salazar has r...  \n",
       "9   In 2029 the mutant population has shrunken sig...  \n",
       "10  An Americam army veteran grieves by the tombst...  \n",
       "11  In New York, the arrogant Dr. Stephen Strange ...  \n",
       "12  In the Gulf of Mexico, 41 miles south-east of ...  \n",
       "13  In the Kingdom of Arendelle, Princess Elsa has...  \n",
       "14  Since a motorbike crushed into him, silver spo...  \n",
       "15  Four down-on-their-luck magicians are brought ...  \n",
       "16  For all past deaths made as entertainment, and...  \n",
       "17  Filmmaker Roman Polanski, who as a boy growing...  \n",
       "18  Some time after the Civil War, a stagecoach hu...  \n",
       "19  A retired 70-year-old widower, Ben (played by ...  "
      ]
     },
     "execution_count": 327,
     "metadata": {},
     "output_type": "execute_result"
    }
   ],
   "source": [
    "df"
   ]
  },
  {
   "cell_type": "markdown",
   "metadata": {},
   "source": [
    "Let's create an rdd for this user (Note: Dataframe.rdd does not work for some reason)"
   ]
  },
  {
   "cell_type": "code",
   "execution_count": 244,
   "metadata": {},
   "outputs": [],
   "source": [
    "movie_titles_list = sc.parallelize([\n",
    "        'Deadpool 2', \n",
    "        'Fantastic beasts and where to find them', \n",
    "        'Harry Potter and the goblet of fire',\n",
    "        'The perks of being a wallflower',\n",
    "        'American Animals',\n",
    "        'Imitation game',\n",
    "        'Perfume the story of a murderer',\n",
    "        'The greatest showman',\n",
    "        'Pirates of the Caribbean:Dead men Tell no Tales',\n",
    "        'Logan',\n",
    "        'Hacksaw Ridge',\n",
    "        'Doctor Strange',\n",
    "        'Deepwater Horizon',\n",
    "        'Frozen',\n",
    "        'Me before you',\n",
    "        'Now you see me',\n",
    "        'The hunger games:Mockingjay – Part 2',\n",
    "        'The pianist',\n",
    "        'The Hateful 8',\n",
    "        'The intern'], 4)"
   ]
  },
  {
   "cell_type": "code",
   "execution_count": 328,
   "metadata": {},
   "outputs": [],
   "source": [
    "ratings_list = sc.parallelize([3, 4, 3, 4, 2.5, 5, 1, 4, 1.5, 2.5, 4.5, 4, 3, 4.5, 3.5, 3.5, 4.5, 2, 4, 4], 4)"
   ]
  },
  {
   "cell_type": "code",
   "execution_count": 329,
   "metadata": {},
   "outputs": [],
   "source": [
    "summaries_list = sc.parallelize([\"After successfully working as the mercenary Deadpool for two years, Wade Wilson fails to kill one of his targets on his anniversary with his girlfriend Vanessa. That night, after the pair decides to start a family together, the target tracks them down and kills Vanessa. Wilson kills the man in revenge. He blames himself for her death and attempts to commit suicide six weeks later by blowing himself up. Wilson has a vision of Vanessa in the afterlife, but the pieces of his body remain alive and are put back together by Colossus. Wilson is left with only a Skee-Ball token, an anniversary gift, as a final memento of Vanessa.Recovering at the X-Mansion, Wilson agrees to join the X-Men as a form of healing. He, Colossus, and Negasonic Teenage Warhead respond to a standoff between authorities and the unstable young mutant Russell Collins Firefist at an orphanage, labeled a 'Mutant Reeducation Center'. Wilson realizes that Collins has been abused by the orphanage staff, and kills one of the staff members. Colossus stops him from killing anyone else, and both Wilson and Collins are arrested. Restrained with collars that suppress their powers, they are taken to the 'Ice Box', an isolated prison for mutant criminals. Meanwhile, a cybernetic soldier from the future, Cable, whose family is murdered by an older Collins, travels back in time to kill the boy before Collins ever becomes a killer.Cable breaks into the Ice Box and attacks Collins. Wilson, whose collar has broken in the melee, attempts to defend Collins. After Cable takes Vanessa's token, Wilson forces himself and Cable out of the prison, but not before Collins overhears Wilson deny that he cares for the young mutant. Near death again, Wilson has another vision of Vanessa in which she convinces him to help Collins. Wilson organizes a team called X-Force to break Collins out of a prison-transfer convoy and defend him from Cable. The team launches its assault on the convoy by parachuting from a plane, but all of the members die during the landing except for Wilson and the lucky Domino. While they fight Cable, Collins frees fellow inmate Juggernaut, who agrees to help Collins kill the abusive orphanage headmaster. Juggernaut destroys the convoy, allowing himself and Collins to escape.Cable offers to work with Wilson and Domino to stop Collins' first murder, which will lead to more, and agrees to give Wilson a chance to talk Collins down. At the orphanage they are overpowered by Juggernaut while Collins attacks the headmaster, until Colossus-who had at first refused to help Wilson due to Wilson's murderous ways-arrives to distract Juggernaut. When Wilson fails to talk down Collins, Cable shoots at the young mutant. Wilson leaps in front of the bullet while wearing the Ice Box collar and dies, reuniting with Vanessa in the afterlife. Seeing this sacrifice, Collins does not kill the headmaster; this changes the future so that Cable's family now survives. Cable uses the last charge on his time-traveling device, which he needed for returning to his family, to go back several minutes and strap Vanessa's token in front of Wilson's heart. Now when Wilson takes the bullet for Collins, it is stopped by the token and he survives. Collins still has his change of heart, and afterwards the headmaster is run over by Wilson's taxi-driver friend Dopinder.In a mid-credits sequence, Negasonic Teenage Warhead and her girlfriend Yukio repair Cable's time-traveling device for Wilson. He uses it to save the lives of Vanessa and X-Force member Peter; kill X-Men Origins: Wolverine's version of Deadpool; and kill actor Ryan Reynolds while he is considering starring in the film Green Lantern.\",\n",
    "                \"In 1926, British wizard and 'magizoologist' Newt Scamander arrives by ship to New York en route to Arizona. He encounters Mary Lou Barebone, a non-magical woman ('No-Maj' or 'Muggle') who heads the New Salem Philanthropic Society. As Newt listens to her speech about how witches and wizards are real and dangerous, a Niffler escapes from Newt's magically expanded suitcase, which houses various magical creatures. As Newt attempts to capture the Niffler, he meets No-Maj cannery worker and aspiring baker Jacob Kowalski, and they unwittingly swap suitcases. Demoted Auror (hunter of dark wizards) Tina Goldstein arrests Newt for the chaos caused by the Niffler and takes him to the Magical Congress of the United States of America (MACUSA) headquarters, hoping to regain her former position. However, as Jacob's suitcase contains only baked goods, Newt is released. At Jacob's tenement apartment, several creatures escape from Newt's suitcase.After Tina and Newt find Jacob and the suitcase, Tina takes them to her apartment and introduces them to Queenie, her Legilimens sister. Jacob and Queenie are mutually attracted, though American wizards are forbidden to marry or even meet No-Majs. Newt takes Jacob inside his magically expanded suitcase, where Jacob encounters a contained Obscurus, a parasite that develops inside magically gifted children if they suppress their magical abilities. Newt extracted it from a young girl who died, those afflicted rarely living past the age of ten. Newt persuades Jacob to help search for the missing creatures. After re-capturing two of the three escaped beasts, Tina returns the suitcase to MACUSA. Officials arrest them, believing one of Newt's beasts to be responsible for killing Senator Henry Shaw, Jr. Director of Magical Security Percival Graves accuses Newt of conspiring with the infamous dark wizard Gellert Grindelwald, and decides to destroy Newt's suitcase and erase Jacob's recent memories of magic. Newt and Tina are sentenced to immediate death in secret, but Queenie and Jacob rescue them, and they escape after retrieving Newt's suitcase. Following a tip from Tina's old goblin informant Gnarlack, the foursome find and re-capture the last of the escaped creatures.Meanwhile, Graves approaches Mary Lou's adopted son Credence and offers to free him from his abusive mother. In exchange, Graves wants Credence to find an Obscurus, which he believes has caused the mysterious destructive incidents around the city. Credence finds a wand under his adopted sister Modesty's bed. Mary Lou assumes it is Credence's wand, but Modesty says it is hers. When Modesty is about to be punished, the Obscurus kills Mary Lou and her eldest daughter Chastity. Graves arrives, and after Credence leads him to Modesty, whom he assumes is the Obscurus's host, he dismisses Credence as being a Squib and refuses to teach him magic. Credence reveals he is the real host, having lived longer than any other host due to the intensity of his magic. In a fit of rage, Credence transforms and attacks the city.Newt finds Credence hiding in a subway tunnel, but he is attacked by Graves. Tina, who knows Credence, arrives and attempts to calm him, while Graves tries to convince Credence to listen to him. As Credence begins to settle back into human form, Aurors arrive and apparently disintegrate him to protect the magical society; however, a tiny Obscurus fragment escapes. Graves admits to unleashing the Obscurus to expose the magical community to the No-Majs and framing Newt for it, and angrily claims that MACUSA protects the No-Majs more than themselves. As the president orders the aurors to apprehend Graves, he attacks and begins to defeat all of them. After being subdued by one of Newt's beasts, he is revealed as Grindelwald in disguise and is taken into custody.MACUSA fears their secret world has been exposed, but Newt releases his Thunderbird, Frank, to disperse a potion as rainfall over the city that erases all New Yorkers' recent memories as MACUSA wizards repair the destruction. Queenie kisses Jacob goodbye as the rain erases his memories. Newt departs for Europe, but promises to return and visit Tina when his book is finished; he also anonymously leaves Jacob a case of silver Occamy eggshells to fund his bakery. His breads and pastries are subconsciously inspired by Newt's creatures, and Queenie visits him in his shop.\",\n",
    "                \"Harry Potter awakens from a nightmare wherein a man named Frank Bryce is killed after overhearing Lord Voldemort conspiring with Peter Pettigrew and another man. While Harry attends the Quidditch World Cup between Ireland and Bulgaria with the Weasleys and Hermione Granger. Death Eaters terrorise the camp, and the man who appeared in Harry's dream summons the Dark Mark.At Hogwarts, Albus Dumbledore introduces ex-Auror Alastor 'Mad-Eye' Moody as the new Defense Against the Dark Arts teacher. He also announces that the school will host the legendary event known as the Triwizard Tournament, in which three magical schools compete across three dangerous challenges. The Goblet of Fire selects 'champions' to take part in the competition: Cedric Diggory of Hufflepuff representing Hogwarts, Viktor Krum representing the Durmstrang Institute from Central Europe, and Fleur Delacour representing Beauxbatons Academy of Magic from France. The Goblet then unexpectedly selects Harry as a fourth champion. Dumbledore is unable to pull the underage Harry out of the tournament, as Ministry official Barty Crouch Sr. insists that the champions are bound by a contract after being selected.For the first task, each champion must retrieve a golden egg guarded by the dragon they pick. Harry succeeds in retrieving the egg, which contains information about the second challenge. Shortly after, a formal dance event known as the Yule Ball takes place; Harry's crush Cho Chang attends with Cedric, and Hermione attends with Viktor, making Ron jealous. During the second task, the champions must dive underwater to rescue their mates. Harry finishes third, but is promoted to second behind Cedric due to his moral fibre, after saving Fleur's sister Gabrielle as well as Ron. Afterwards, Harry discovers the corpse of Crouch Sr. in the forest. Later, while waiting for Dumbledore in his office, Harry discovers a Pensieve, which holds Dumbledore's memories. Harry witnesses a trial in which Igor confesses to the Ministry of Magic names of other Death Eaters, after Voldemort's defeat. When he names Severus Snape as one, Dumbledore vouches for Snape's innocence; Snape turned spy against Voldemort before the latter's downfall. After Karkaroff names Barty Crouch Jr., a devastated Crouch Sr. imprisons his son in Azkaban. Exiting the Pensieve, Harry realizes that Crouch Jr. is the man he saw in his dream.For the final task, the champions must reach the Triwizard Cup, located in a hedge maze. Viktor, under the influence of the Imperius Curse, accidentally incapacitates Fleur. After Harry saves Cedric when the maze attacks him, the two claim a draw and together grab the cup, which turns out to be a Portkey and transports them to a graveyard where Pettigrew and Voldemort are waiting. Pettigrew kills Cedric with the Killing Curse, and performs a ritual that rejuvenates Voldemort, who then summons the Death Eaters. Voldemort releases Harry in order to beat him in a duel and prove he is the better wizard. Unable to defend himself, Harry tries the Expelliarmus charm at the same moment that Voldemort attempts the Killing Curse. The beams from their wands entwine, and Voldemort's wand disgorges the last spells it performed. The spirits of the people he murdered materialize in the graveyard, including Harry's parents and Cedric. This distracts Voldemort and his Death Eaters, allowing Harry to escape with Cedric's body by grabbing the Portkey.Harry tells Dumbledore that Voldemort returned and killed Cedric. Moody takes Harry back to his office to interrogate him about Voldemort, but inadvertently blows his cover by asking Harry whether there were 'others in the graveyard', despite Harry not mentioning a graveyard. Moody reveals that he submitted Harry's name to the Goblet of Fire and manipulated Harry throughout the tournament to ensure he would win. Moody attempts to attack Harry, but Dumbledore, Snape, and Minerva McGonagall intervene and subdue him. The teachers force Moody to drink Veritaserum, a truth-telling potion, and he reveals that the real Moody is imprisoned in a magical trunk. The impostor's Polyjuice Potion wears off, revealing him as Crouch Jr., who is then returned to Azkaban.Dumbledore reveals to the students that Voldemort killed Cedric, although the Ministry of Magic opposes the revelation. Later, Dumbledore visits Harry in his dormitory, apologizing to him for the dangers he endured. Harry reveals that he saw his parents in the graveyard; Dumbledore names this effect as 'Priori Incantatem'. Soon after Hogwarts, Durmstrang, and Beauxbatons bid farewell to each other.\",\n",
    "                \"Set in 1992, the film is set against the background of a young student, Charlie (Logan Lerman), who has been suffering from clinical depression from childhood setbacks and has recently been discharged from a mental health care institution to begin his adaptation to a normal lifestyle as a young high school student. Charlie is uneasy about beginning his freshman year of high school; he is shy and finds difficulty in making friends, but he connects with his English teacher, Mr. Anderson (Paul Rudd).When he sits with two seniors, Sam (Emma Watson) and her stepbrother Patrick (Ezra Miller), at a football game, they invite him to join them to several social activities. At a party, Charlie unwittingly eats a cannabis brownie, gets high and discloses to Sam that the year before, his best friend committed suicide. He also walks in on Patrick and Brad (Johnny Simmons), a popular athlete, kissing. Sam realizes that Charlie has no other friends so she and Patrick make a special effort to bring Charlie into their group. Sam needs to improve her SAT scores to be accepted to Pennsylvania State University, so Charlie offers to tutor her. On the way home from the party, when the three hear a song with which they are unfamiliar, Sam instructs Patrick to drive through a tunnel so she can stand up in the back of the pickup while the music blasts.At Christmas, Sam gives Charlie a vintage typewriter to help his aspirations of being a writer. The two discuss relationships, and Charlie reveals he has never been kissed. Sam, though already involved with someone else, tells Charlie she wants his first kiss to be from someone who loves him, and kisses him. Charlie, in love with Sam, begins to try to find ways to show her how he feels.At a regular Rocky Horror Picture Show performance, Charlie is asked to fill in for Sam's boyfriend Craig, who is unavailable. Their friend Mary Elizabeth (Mae Whitman) is impressed and asks Charlie to the Sadie Hawkins dance. The two enter into a desultory relationship. Finally, at a party, when Charlie is dared to kiss the most beautiful girl in the room, he chooses Sam, upsetting both her and Mary Elizabeth. Patrick recommends Charlie stay away from the group for a while, and the isolation causes him to sink back into depression. He experiences flashbacks of his Aunt Helen (Melanie Lynskey), who died in a car accident when he was seven years old.When Brad shows up at school with a black eye having been caught by his father having sex with Patrick, he lies, saying that he was jumped and beaten up. Brad distances himself from Patrick, calling him a faggot. Brad's friends begin beating Patrick, but Charlie forcefully intervenes, then blacks out. He recovers to find he has bruised knuckles and Brad's friends are on the floor, incapacitated. Charlie threatens, Touch my friends again, and I'll blind you, then leaves. Sam and Patrick express their gratitude to Charlie, and the three become friends again.Sam is accepted into Penn State, and breaks up with Craig on prom night after learning he has been cheating on her. The night before she departs, she brings Charlie to her room and asks him 'Why do I and everyone I love pick people who treat us like we are nothing to which he repeats advice he received from Mr. Anderson\",\n",
    "                \"The storytelling frequently jumps between interviews with the real people portrayed in the movie and the events themselves performed by actors.In 2003 in Lexington, Kentucky, Spencer Reinhard (Barry Keoghan) is an art student who feels his life has no meaning, that he needs something exciting, even if tragic, to happen in his life to inspire greater artistry. Warren Lipka (Evan Peters) is a rebellious student on an athletic scholarship, though he does not care much for sports and is only pursuing the education to please his family.After Spencer is given a tour of Transylvania University's library's rare book collection, the two friends begin to plan to steal an extremely valuable edition of John James Audubon's The Birds of America and other rare books. Warren travels to Amsterdam to meet some black market buyers who express interest in buying the books. Upon returning to the US, he informs Spencer that they could make millions of dollars, much to their excitement.Realizing that pulling off the heist will require more people, they enlist the help of childhood friends Erik Borsuk (Jared Abrahamson), who helps provide the logistics of the operation, and Chas Allen (Blake Jenner), who will be the getaway driver. They all take time to prepare, learning that the only person guarding the books is the special collections librarian, Betty Jean Gooch (Ann Dowd).On the day of the robbery, they disguise themselves as elderly businessmen, and enter the library. After noticing that there are too many people in the special collections library, they quickly abort the heist and retreat. Three of the conspirators want to end the attempt altogether, but Warren calls the library asking for a private appointment the next day.They decide to drop the elaborate old-age disguises. While Spencer acts as a lookout outside the building, Warren and Eric enter the library dressed as young businessmen. Warren clumsily tases the special collections librarian and makes Eric help tie her up and gag her. They take the rare books and blunder to an exit. In a panic, they drop and have to leave behind the biggest prizes, two enormous Audubon books comprising 'The Birds of America.' All four manage to escape with two of the rarer books.They take the books to Christie's auction house in New York to get the authentication of value that Warren had said the Dutch buyers required. Spencer is told he has to come back sometime the next day and leaves his cell phone number with an auction assistant. In the van outside, Chas berates everyone for their stupidity, and they return to Lexington with the books. Shortly after, Spencer realizes that the police will be able to trace them from emails they used in setting up the heist as well as his cell phone number.The thieves show signs of great stress as they try to lie low: Warren attempts to shoplift from a convenience store; Spencer gets into a car accident; and Eric starts a bar fight. Inevitably, the FBI raid all four of their homes and arrest them. Movie titles show they each serve over 7 years in federal prison.After prison, the real-life robbers express their regret for attempting the heist, noting how much pain they have put their families through. It is also revealed that Warren may have lied about going to Amsterdam, fabricating the story to get the others to agree to the heist. However, this is not confirmed.An epilogue describes their lives after prison. Eric lives in Los Angeles as a writer, and Chas has become a fitness coach in Southern California. Warren has re-enrolled in college and studies filmmaking in Philadelphia. Spencer still lives in Lexington making a living as an artist, specializing in birds. Betty Jean Gooch, the librarian, still works at Transylvania University as a special collections librarian.\",\n",
    "                \"In 1951, two policemen, Nock and Staehl, investigate the mathematician Alan Turing after an apparent break-in at his home. During his interrogation by Nock, Turing tells of his time working at Bletchley Park during the Second World War. In 1927, the young Turing is unhappy and bullied at boarding school. He develops a friendship with Christopher Morcom, who sparks his interest in cryptography. Turing develops romantic feelings for him, but Christopher soon dies from tuberculosis. When Britain declares war on Germany in 1939, Turing travels to Bletchley Park. Under the direction of Commander Alastair Denniston, he joins the cryptography team of Hugh Alexander, John Cairncross, Peter Hilton, Keith Furman and Charles Richards. The team are trying to decrypt the Enigma machine, which the Nazis use to send coded messages. Turing is difficult to work with, and considers his colleagues inferior; he works alone to design a machine to decipher Enigma. After Denniston refuses to fund construction of the machine, Turing writes to Prime Minister Winston Churchill, who puts Turing in charge of the team and funds the machine. Turing fires Furman and Richards and places a difficult crossword in newspapers to find replacements. Joan Clarke, a Cambridge graduate, passes Turing’s test but her parents will not allow her to work with the male cryptographers. Turing arranges for her to live and work with the female clerks who intercept the messages, and shares his plans with her. With Clarke's help, Turing warms to the other colleagues, who begin to respect him. Turing’s machine, which he names Christopher, is constructed, but cannot determine the Enigma settings before the Germans reset the Enigma encryption each day. Denniston orders it destroyed and Turing fired, but the other cryptographers threaten to leave if Turing goes. After Clarke plans to leave on the wishes of her parents, Turing proposes marriage, which she accepts. During their reception, Turing confirms his homosexuality to Cairncross, who warns him to keep it secret. After overhearing a conversation with a female clerk about messages she receives, Turing has an epiphany, realising he can program the machine to decode words he already knows exist in certain messages. After he recalibrates the machine, it quickly decodes a message and the cryptographers celebrate. Turing realises they cannot act on every decoded message or the Germans will realise Enigma has been broken. Turing discovers that Cairncross is a Soviet spy. When Turing confronts him, Cairncross argues that the Soviets are allies working for the same goals, and threatens to retaliate by disclosing Turing’s sexuality. When the MI6 agent Stewart Menzies appears to threaten Clarke, Turing reveals that Cairncross is a spy. Menzies reveals he knew this already and planted Cairncross to leak messages to the Soviets for British benefit. Fearing for her safety, Turing tells Clarke to leave Bletchley Park, revealing that he is gay. Heartbroken, Clarke states she always suspected but insists they would have been happy together anyway. After the war, Menzies tells the cryptographers to destroy their work and that they can never see one another again or share what they have done. In the 1950s, Turing is convicted of gross indecency and, in lieu of a jail sentence, undergoes chemical castration so he can continue his work. Clarke visits him in his home and witnesses his physical and mental deterioration. She comforts him by saying that his work saved millions of lives.\",\n",
    "                \"The film begins with the sentencing of Jean-Baptiste Grenouille (Ben Whishaw), a notorious murderer. Between the reading of the sentence and the execution, the story of his life is told in flashback, beginning with his abandonment at birth in a French fish market. Raised in an orphanage, Grenouille grows into a strangely detached boy with a superhuman sense of smell. After growing to maturity as a tanner's apprentice, he makes his first delivery to Paris, where he revels in all the new scents. He focuses on a redheaded girl (Karoline Herfurth) selling yellow plums, following her and repeatedly attempting to sniff her, but startles her with his behavior. To prevent her from crying out, he covers the girl's mouth and unintentionally suffocates her. After realizing that she is dead, he strips her body naked and smells her all over, becoming distraught when her scent fades. Afterwards, Grenouille is haunted by the desire to recreate the girl's aroma.After making a delivery to a perfume shop, Grenouille amazes the Italian owner, Giuseppe Baldini (Dustin Hoffman), with his ability to identify and create fragrances. He revitalizes the perfumer's career with new formulas, demanding only that Baldini teach him how to preserve scents. Baldini explains that all perfumes are harmonies of twelve individual scents, and may contain a theoretical thirteenth scent. Grenouille continues working for Baldini but is saddened when he learns that Baldini's method of distillation will not capture the scents of all objects. Baldini informs Grenouille of another method that can be learned in Grasse and agrees to help him by providing the journeyman papers he requires in exchange for 100 new perfume formulas. Right after Grenouille departs, Baldini dies when the shaky building, along with his studio, collapses. En route to Grasse, Grenouille decides to exile himself from society, taking refuge in a cave. During this time, he discovers that he lacks any personal scent himself, and believes this is why he is perceived as strange or disturbing by others. Deciding to continue his quest, he leaves his cave and continues to Grasse.Upon arrival in Grasse, Grenouille catches the scent of Laura Richis (Rachel Hurd-Wood), the beautiful, redheaded daughter of the wealthy Antoine Richis (Alan Rickman) and decides that she will be his 'thirteenth scent', the linchpin of his perfume. Grenouille finds a job in Grasse under Madame Arnulfi (Corinna Harfouch) and learns the method of enfleurage. He kills a young lavender picker and attempts to extract her scent using the method of hot enfleurage, which fails. After this, he attempts the method of cold enfleurage on a prostitute he hired, but she becomes alarmed and tries to throw him out. He murders her and successfully preserves the scent of the woman. Grenouille embarks on a killing spree, targeting beautiful young women and capturing their scents using his perfected method. He dumps the women's naked corpses around the city, creating panic. After preserving the first twelve scents, Grenouille plans his attack on Laura. During a church sermon denouncing and excommunicating the murderer, it is announced that a man has confessed to the murders. Richis remains unconvinced and secretly flees the city with his daughter, telling no one their destination. Grenouille tracks her scent to a roadside inn and sneaks into her room that night, murdering her.Soldiers capture Grenouille moments after he finishes preparing his perfume. On the day of his execution, he applies the perfume on himself, forcing the jailers to release him. The executioner and the crowd in attendance are speechless at the beauty of the perfume; they declare Grenouille innocent before falling into a massive orgy. Richis, still convinced of Grenouille's guilt, threatens him with his sword, but he is then overwhelmed by the scent and embraces Grenouille as his 'son'. Walking out of Grasse unscathed, Grenouille has enough perfume to rule the world, but has discovered that it will not allow him to love or be loved like a normal person. Disenchanted by his aimless quest, he returns to the Parisian fish market where he was born and pours the remaining perfume over his head. Overcome by the scent and in the belief that Grenouille is an angel, the nearby crowd devours him. The next morning, all that is left are his clothes and the empty bottle, from which one final drop of perfume falls.\", \n",
    "                 \"Orphaned, penniless but ambitious and with a mind crammed with imagination and fresh ideas, the American Phineas Taylor Barnum will always be remembered as the man with the gift to effortlessly blur the line between reality and fiction. Thirsty for innovation and hungry for success, the son of a tailor will manage to open a wax museum but will soon shift focus to the unique and peculiar, introducing extraordinary, never-seen-before live acts on the circus stage. Some will call Barnum's wide collection of oddities, a freak show; however, when the obsessed showman gambles everything on the opera singer Jenny Lind to appeal to a high-brow audience, he will somehow lose sight of the most important aspect of his life: his family. Will Barnum risk it all to be accepted?\", \n",
    "                 \"Jack's luck has run out. Captain Salazar has released the most deadly ghost pirates of the sea from the devil's Triangle. Captain Salazar is the oldest villain of Jack Sparrow. The ghost pirates hunt on every single pirate on sea, including Jack Sparrow. The only hope to survive this adventure is to collect the legendary Trident of Poseidon. This weapon is the most powerful weapon and the owner gets control of all seas. Is Jack going to collect this powerful weapon and can he ensure he is not going to get killed by Captain Salazar and his pirate ghosts?\",\n",
    "                 \"In 2029 the mutant population has shrunken significantly due to genetically modified plants designed to reduce mutant powers and the X-Men have disbanded. Logan, whose power to self-heal is dwindling, has surrendered himself to alcohol and now earns a living as a chauffeur. He takes care of the ailing old Professor X whom he keeps hidden away. One day, a female stranger asks Logan to drive a girl named Laura to the Canadian border. At first he refuses, but the Professor has been waiting for a long time for her to appear. Laura possesses an extraordinary fighting prowess and is in many ways like Wolverine. She is pursued by sinister figures working for a powerful corporation; this is because they made her, with Logan's DNA. A decrepit Logan is forced to ask himself if he can or even wants to put his remaining powers to good use. It would appear that in the near-future, the times in which they were able put the world to rights with razor sharp claws and telepathic powers are now over.\",\n",
    "                 \"An Americam army veteran grieves by the tombstones of his army company that died during World War I. Back home, he raises his sons in a pious setting and asks them to shun weapons. After a naughty fight turns awry, Desmond reads the Bible and vows not to harm another human in his life thereafter. Desmond then saves the life of a worker, experiencing a wholesome satisfaction in the process. In the hospital, he is smitten by a nurse, who he then dates. After the United States enters the Second World War, both sons enlist, adding to the ire of the father who despises his sons joining the Army. The rigorous regimen of training in the Army requires Desmond to clear his firearms training, but after a huge tiff with his seniors, his father, an old corporal, intervenes to save Desmond from being court-martialed and serve with the Army as a medic. They get posted to Hacksaw Ridge, Okinawa. A win there would ensure that the Empire of Japan surrenders to the Allied Forces. What happens thereon?\",\n",
    "                 \"In New York, the arrogant Dr. Stephen Strange is a talented neurosurgeon with a huge ego. After a car accident, Dr. Strange damages his fingers and loses control of his hands. The surgeon, Christine Palmer, who was his lover, tries to help him. But Dr. Strange unsuccessfully spends his savings searching for an experimental treatment for his fingers. When Dr. Strange learns that the paraplegic Jonathan Pangborn walked again, he seeks him out and is told he was healed in Kamar-Taj. Dr. Strange travels to Katmandu where he meets the sorcerer Mordo and is introduced to The Ancient One. She discloses the astral plan and other dimensions to him and explains that Earth is protected in the mystical plan by three Sanctums (in New York, London, and Hong Kong). However, her former protégé, Kaecilius, has contacted the powerful demon Dormammu in the Dark Dimension and wants to destroy the three Sanctums with his minions to let the Dark Dimension, where time does not exist and anyone can live forever, to rule the world. Will The Ancient One, Dr. Strange and Mordo save the world?\",\n",
    "                 \"In the Gulf of Mexico, 41 miles south-east of the Louisiana Coast, lies the Deepwater Horizon, a semi-submersible offshore oil drilling rig, which is free-floating over the Gulf floor and manned by 126 crew members on board. Among the personnel is Chief Electronics Technician Mike Williams and the seasoned rig supervisor Jimmy Harrell who are surprised to discover that the standard procedure regarding the cement foundation, the only thing between the rig and a blowout, has been bypassed by orders of BP's executives Donald Vidrine and Robert Kaluza. Without a clue about the stability of the well and whether the concrete's integrity has been compromised or not, but above all, with the intention to cut expenses, the greedy managers push to start pumping and before long, disaster strikes. Eventually, as the foundation fails utterly, an endless chain of malfunctions transforms the Deepwater Horizon into a blazing inferno leaving the men defenceless, while Williams and Harrell heroically struggle to rescue their shipmates in the worst oil disaster in the U.S. history that lasted 87 days.\",\n",
    "                 \"In the Kingdom of Arendelle, Princess Elsa has the power to create and freeze ice and snow, and her younger sister Anna loves to play with her. When Elsa accidentally hits Anna on the head with her powers and almost kills her, their parents take them to trolls that save Anna's life and make her forget her sister's ability. Elsa returns to the castle and stays reclusively in her room with fear of hurting Anna with her increasing power. Their parents die when their ship sinks into the ocean, and three years later Elsa's coronation forces her to open her castle gates to celebrate with the people. Anna meets Prince Hans at the party and immediately falls in love and decides to marry him. But Elsa doesn't approve, loses control of her powers, and freezes Arendelle. Elsa flees to the mountain and Anna teams up with the peasant Kristoff, his reindeer Sven, and the snowman Olaf to seek out Elsa. They find her in her icy castle and she accidentally hits Anna in the heart; now only true love can save her sister from death.\",\n",
    "                 \"Since a motorbike crushed into him, silver spoon William 'Wild Will' Traynor's glamour life as corporate raider turned into a nightmare of near-paralyzed wheelchair agony and bitter solitude. His rich but desperate parents, owners of British town's grand manor and medieval castle, hired perfect male nurse Nathan for all able medical assistance but are up to their fifth audition for a well-paid job as permanent companion. The only eligible candidate this time is airhead local Lou Clark, daughter of an unemployed laborer, who never holds a job more then a few days. This time however she neglects her jealous-made fiance Patrick, the jock local award gym entrepreneur, trying anything to bond with Will, who slowly starts caring for her company enough to live again, even publicly and abroad, and introduce her to society. However his incurable condition, extremely vulnerable to any infection, still dictates his determination to get legal euthanasia in Switzerland after the six months ample consideration he promised his parents.\",\n",
    "                 \"Four down-on-their-luck magicians are brought together by an anonymous person who gives them the blueprints to a great illusion. A year later they call themselves the Four Horsemen and the finale of their show is that they will rob a bank. The bank they choose to rob is in France, and they do it. The incident is brought to the attention of the FBI so they assign agent Dylan Rhodes to investigate. Alma Vargas, an Interpol agent comes to help Rhodes which he doesn't like. They turn to Thaddeus Bradley, a former magician, who exposes magic as simple trickery. Bradley shows them how they did it but still not enough to give Rhodes grounds to arrest them. So they follow them and they pull another stunt which makes Rhodes think that they're part of a plot to get back at certain people.\",\n",
    "                 \"For all past deaths made as entertainment, and for the insidious modification of Peeta, Katriss deems to strike out on her own to take down President Snow once and for all, but being the Mockingjay, the living symbol of the rebellion now headed by Alma Coin, has its drawbacks. Recognition, for one, and she finds herself saddled with a team of expert warriors (which surprisingly includes the ailing Peeta) aimed to penetrate the Capitol that has barricaded itself behind Hunger-Game-style death traps. As she closes in on carrying out her private agenda through more deaths and mayhem, President Snow himself makes her aware of another threat to peace for Panem equal to himself, leaving her to consider how to truly end the bloodshed.\",\n",
    "                 \"Filmmaker Roman Polanski, who as a boy growing up in Poland watched while the Nazis devastated his country during World War II, directed this downbeat drama based on the story of a privileged musician who spent five years struggling against the Nazi occupation of Warsaw. Wladyslaw Szpilman (Adrien Brody) is a gifted classical pianist born to a wealthy Jewish family in Poland. The Szpilmans have a large and comfortable flat in Warsaw which Wladyslaw shares with his mother and father (Maureen Lipman and Frank Finlay), his sisters Halina and Regina (Jessica Kate Meyer and Julia Rayner), and his brother, Henryk (Ed Stoppard). While Wladyslaw and his family are aware of the looming presence of German forces and Hitler's designs on Poland, they're convinced that the Nazis are a menace which will pass, and that England and France will step forward to aid Poland in the event of a real crisis. Wladyslaw's naivete is shattered when a German bomb rips through a radio studio while he performs a recital for broadcast. During the early stages of the Nazi occupation, as a respected artist, he still imagines himself above the danger, using his pull to obtain employment papers for his father and landing a supposedly safe job playing piano in a restaurant. But as the German grip tightens upon Poland, Wladyslaw and his family are selected for deportation to a Nazi concentration camp. Refusing to face a certain death, Wladyslaw goes into hiding in a comfortable apartment provided by a friend. However, when his benefactor goes missing, Wladyslaw is left to fend for himself and he spends the next several years dashing from one abandoned home to another, desperate to avoid capture by German occupation troops\",\n",
    "                 \"Some time after the Civil War, a stagecoach hurtles through the wintry Wyoming landscape. Bounty hunter John Ruth and his fugitive captive Daisy Domergue race towards the town of Red Rock, where Ruth will bring Daisy to justice. Along the road, they encounter Major Marquis Warren (an infamous bounty hunter) and Chris Mannix (a man who claims to be Red Rock's new sheriff). Lost in a blizzard, the bunch seeks refuge at Minnie's Haberdashery. When they arrive they are greeted by unfamiliar faces: Bob, who claims to be taking care of the place while Minnie is gone; Oswaldo Mobray, the hangman of Red Rock; Joe Gage, a cow puncher; and confederate general Sanford Smithers. As the storm overtakes the mountainside, the eight travelers come to learn that they might not make it to Red Rock after all...\",\n",
    "                 \"A retired 70-year-old widower, Ben (played by Robert De Niro), is bored with retired life. He applies to a be a senior intern at an online fashion retailer and gets the position. The founder of the company is Jules Ostin (Anne Hathaway), a tireless, driven, demanding, dynamic workaholic. Ben is made her intern, but this is a nominal role - she doesn't intend to give him work and it is just window dressing. However, Ben proves to be quite useful and, more than that, a source of support and wisdom.\"\n",
    "                ], 4)"
   ]
  },
  {
   "cell_type": "code",
   "execution_count": 330,
   "metadata": {},
   "outputs": [],
   "source": [
    "user_rdd = movie_titles_list.zip(ratings_list).zip(summaries_list)\\\n",
    "    .map(lambda elem: (elem[0][0], elem[0][1], elem[1]))"
   ]
  },
  {
   "cell_type": "code",
   "execution_count": 331,
   "metadata": {},
   "outputs": [
    {
     "data": {
      "text/plain": [
       "[('Deadpool 2',\n",
       "  3,\n",
       "  \"After successfully working as the mercenary Deadpool for two years, Wade Wilson fails to kill one of his targets on his anniversary with his girlfriend Vanessa. That night, after the pair decides to start a family together, the target tracks them down and kills Vanessa. Wilson kills the man in revenge. He blames himself for her death and attempts to commit suicide six weeks later by blowing himself up. Wilson has a vision of Vanessa in the afterlife, but the pieces of his body remain alive and are put back together by Colossus. Wilson is left with only a Skee-Ball token, an anniversary gift, as a final memento of Vanessa.Recovering at the X-Mansion, Wilson agrees to join the X-Men as a form of healing. He, Colossus, and Negasonic Teenage Warhead respond to a standoff between authorities and the unstable young mutant Russell Collins Firefist at an orphanage, labeled a 'Mutant Reeducation Center'. Wilson realizes that Collins has been abused by the orphanage staff, and kills one of the staff members. Colossus stops him from killing anyone else, and both Wilson and Collins are arrested. Restrained with collars that suppress their powers, they are taken to the 'Ice Box', an isolated prison for mutant criminals. Meanwhile, a cybernetic soldier from the future, Cable, whose family is murdered by an older Collins, travels back in time to kill the boy before Collins ever becomes a killer.Cable breaks into the Ice Box and attacks Collins. Wilson, whose collar has broken in the melee, attempts to defend Collins. After Cable takes Vanessa's token, Wilson forces himself and Cable out of the prison, but not before Collins overhears Wilson deny that he cares for the young mutant. Near death again, Wilson has another vision of Vanessa in which she convinces him to help Collins. Wilson organizes a team called X-Force to break Collins out of a prison-transfer convoy and defend him from Cable. The team launches its assault on the convoy by parachuting from a plane, but all of the members die during the landing except for Wilson and the lucky Domino. While they fight Cable, Collins frees fellow inmate Juggernaut, who agrees to help Collins kill the abusive orphanage headmaster. Juggernaut destroys the convoy, allowing himself and Collins to escape.Cable offers to work with Wilson and Domino to stop Collins' first murder, which will lead to more, and agrees to give Wilson a chance to talk Collins down. At the orphanage they are overpowered by Juggernaut while Collins attacks the headmaster, until Colossus-who had at first refused to help Wilson due to Wilson's murderous ways-arrives to distract Juggernaut. When Wilson fails to talk down Collins, Cable shoots at the young mutant. Wilson leaps in front of the bullet while wearing the Ice Box collar and dies, reuniting with Vanessa in the afterlife. Seeing this sacrifice, Collins does not kill the headmaster; this changes the future so that Cable's family now survives. Cable uses the last charge on his time-traveling device, which he needed for returning to his family, to go back several minutes and strap Vanessa's token in front of Wilson's heart. Now when Wilson takes the bullet for Collins, it is stopped by the token and he survives. Collins still has his change of heart, and afterwards the headmaster is run over by Wilson's taxi-driver friend Dopinder.In a mid-credits sequence, Negasonic Teenage Warhead and her girlfriend Yukio repair Cable's time-traveling device for Wilson. He uses it to save the lives of Vanessa and X-Force member Peter; kill X-Men Origins: Wolverine's version of Deadpool; and kill actor Ryan Reynolds while he is considering starring in the film Green Lantern.\")]"
      ]
     },
     "execution_count": 331,
     "metadata": {},
     "output_type": "execute_result"
    }
   ],
   "source": [
    "user_rdd.take(1)"
   ]
  },
  {
   "cell_type": "markdown",
   "metadata": {},
   "source": [
    "And let's generate the vectorised plot summaries of the new user: (Note: We initially tried to map from the user rdd to a new rdd that call the model.infer_vector function, but pyspark exits with unexpected error)"
   ]
  },
  {
   "cell_type": "code",
   "execution_count": 332,
   "metadata": {},
   "outputs": [],
   "source": [
    "temp = [\"After successfully working as the mercenary Deadpool for two years, Wade Wilson fails to kill one of his targets on his anniversary with his girlfriend Vanessa. That night, after the pair decides to start a family together, the target tracks them down and kills Vanessa. Wilson kills the man in revenge. He blames himself for her death and attempts to commit suicide six weeks later by blowing himself up. Wilson has a vision of Vanessa in the afterlife, but the pieces of his body remain alive and are put back together by Colossus. Wilson is left with only a Skee-Ball token, an anniversary gift, as a final memento of Vanessa.Recovering at the X-Mansion, Wilson agrees to join the X-Men as a form of healing. He, Colossus, and Negasonic Teenage Warhead respond to a standoff between authorities and the unstable young mutant Russell Collins Firefist at an orphanage, labeled a 'Mutant Reeducation Center'. Wilson realizes that Collins has been abused by the orphanage staff, and kills one of the staff members. Colossus stops him from killing anyone else, and both Wilson and Collins are arrested. Restrained with collars that suppress their powers, they are taken to the 'Ice Box', an isolated prison for mutant criminals. Meanwhile, a cybernetic soldier from the future, Cable, whose family is murdered by an older Collins, travels back in time to kill the boy before Collins ever becomes a killer.Cable breaks into the Ice Box and attacks Collins. Wilson, whose collar has broken in the melee, attempts to defend Collins. After Cable takes Vanessa's token, Wilson forces himself and Cable out of the prison, but not before Collins overhears Wilson deny that he cares for the young mutant. Near death again, Wilson has another vision of Vanessa in which she convinces him to help Collins. Wilson organizes a team called X-Force to break Collins out of a prison-transfer convoy and defend him from Cable. The team launches its assault on the convoy by parachuting from a plane, but all of the members die during the landing except for Wilson and the lucky Domino. While they fight Cable, Collins frees fellow inmate Juggernaut, who agrees to help Collins kill the abusive orphanage headmaster. Juggernaut destroys the convoy, allowing himself and Collins to escape.Cable offers to work with Wilson and Domino to stop Collins' first murder, which will lead to more, and agrees to give Wilson a chance to talk Collins down. At the orphanage they are overpowered by Juggernaut while Collins attacks the headmaster, until Colossus-who had at first refused to help Wilson due to Wilson's murderous ways-arrives to distract Juggernaut. When Wilson fails to talk down Collins, Cable shoots at the young mutant. Wilson leaps in front of the bullet while wearing the Ice Box collar and dies, reuniting with Vanessa in the afterlife. Seeing this sacrifice, Collins does not kill the headmaster; this changes the future so that Cable's family now survives. Cable uses the last charge on his time-traveling device, which he needed for returning to his family, to go back several minutes and strap Vanessa's token in front of Wilson's heart. Now when Wilson takes the bullet for Collins, it is stopped by the token and he survives. Collins still has his change of heart, and afterwards the headmaster is run over by Wilson's taxi-driver friend Dopinder.In a mid-credits sequence, Negasonic Teenage Warhead and her girlfriend Yukio repair Cable's time-traveling device for Wilson. He uses it to save the lives of Vanessa and X-Force member Peter; kill X-Men Origins: Wolverine's version of Deadpool; and kill actor Ryan Reynolds while he is considering starring in the film Green Lantern.\",\n",
    "                \"In 1926, British wizard and 'magizoologist' Newt Scamander arrives by ship to New York en route to Arizona. He encounters Mary Lou Barebone, a non-magical woman ('No-Maj' or 'Muggle') who heads the New Salem Philanthropic Society. As Newt listens to her speech about how witches and wizards are real and dangerous, a Niffler escapes from Newt's magically expanded suitcase, which houses various magical creatures. As Newt attempts to capture the Niffler, he meets No-Maj cannery worker and aspiring baker Jacob Kowalski, and they unwittingly swap suitcases. Demoted Auror (hunter of dark wizards) Tina Goldstein arrests Newt for the chaos caused by the Niffler and takes him to the Magical Congress of the United States of America (MACUSA) headquarters, hoping to regain her former position. However, as Jacob's suitcase contains only baked goods, Newt is released. At Jacob's tenement apartment, several creatures escape from Newt's suitcase.After Tina and Newt find Jacob and the suitcase, Tina takes them to her apartment and introduces them to Queenie, her Legilimens sister. Jacob and Queenie are mutually attracted, though American wizards are forbidden to marry or even meet No-Majs. Newt takes Jacob inside his magically expanded suitcase, where Jacob encounters a contained Obscurus, a parasite that develops inside magically gifted children if they suppress their magical abilities. Newt extracted it from a young girl who died, those afflicted rarely living past the age of ten. Newt persuades Jacob to help search for the missing creatures. After re-capturing two of the three escaped beasts, Tina returns the suitcase to MACUSA. Officials arrest them, believing one of Newt's beasts to be responsible for killing Senator Henry Shaw, Jr. Director of Magical Security Percival Graves accuses Newt of conspiring with the infamous dark wizard Gellert Grindelwald, and decides to destroy Newt's suitcase and erase Jacob's recent memories of magic. Newt and Tina are sentenced to immediate death in secret, but Queenie and Jacob rescue them, and they escape after retrieving Newt's suitcase. Following a tip from Tina's old goblin informant Gnarlack, the foursome find and re-capture the last of the escaped creatures.Meanwhile, Graves approaches Mary Lou's adopted son Credence and offers to free him from his abusive mother. In exchange, Graves wants Credence to find an Obscurus, which he believes has caused the mysterious destructive incidents around the city. Credence finds a wand under his adopted sister Modesty's bed. Mary Lou assumes it is Credence's wand, but Modesty says it is hers. When Modesty is about to be punished, the Obscurus kills Mary Lou and her eldest daughter Chastity. Graves arrives, and after Credence leads him to Modesty, whom he assumes is the Obscurus's host, he dismisses Credence as being a Squib and refuses to teach him magic. Credence reveals he is the real host, having lived longer than any other host due to the intensity of his magic. In a fit of rage, Credence transforms and attacks the city.Newt finds Credence hiding in a subway tunnel, but he is attacked by Graves. Tina, who knows Credence, arrives and attempts to calm him, while Graves tries to convince Credence to listen to him. As Credence begins to settle back into human form, Aurors arrive and apparently disintegrate him to protect the magical society; however, a tiny Obscurus fragment escapes. Graves admits to unleashing the Obscurus to expose the magical community to the No-Majs and framing Newt for it, and angrily claims that MACUSA protects the No-Majs more than themselves. As the president orders the aurors to apprehend Graves, he attacks and begins to defeat all of them. After being subdued by one of Newt's beasts, he is revealed as Grindelwald in disguise and is taken into custody.MACUSA fears their secret world has been exposed, but Newt releases his Thunderbird, Frank, to disperse a potion as rainfall over the city that erases all New Yorkers' recent memories as MACUSA wizards repair the destruction. Queenie kisses Jacob goodbye as the rain erases his memories. Newt departs for Europe, but promises to return and visit Tina when his book is finished; he also anonymously leaves Jacob a case of silver Occamy eggshells to fund his bakery. His breads and pastries are subconsciously inspired by Newt's creatures, and Queenie visits him in his shop.\",\n",
    "                \"Harry Potter awakens from a nightmare wherein a man named Frank Bryce is killed after overhearing Lord Voldemort conspiring with Peter Pettigrew and another man. While Harry attends the Quidditch World Cup between Ireland and Bulgaria with the Weasleys and Hermione Granger. Death Eaters terrorise the camp, and the man who appeared in Harry's dream summons the Dark Mark.At Hogwarts, Albus Dumbledore introduces ex-Auror Alastor 'Mad-Eye' Moody as the new Defense Against the Dark Arts teacher. He also announces that the school will host the legendary event known as the Triwizard Tournament, in which three magical schools compete across three dangerous challenges. The Goblet of Fire selects 'champions' to take part in the competition: Cedric Diggory of Hufflepuff representing Hogwarts, Viktor Krum representing the Durmstrang Institute from Central Europe, and Fleur Delacour representing Beauxbatons Academy of Magic from France. The Goblet then unexpectedly selects Harry as a fourth champion. Dumbledore is unable to pull the underage Harry out of the tournament, as Ministry official Barty Crouch Sr. insists that the champions are bound by a contract after being selected.For the first task, each champion must retrieve a golden egg guarded by the dragon they pick. Harry succeeds in retrieving the egg, which contains information about the second challenge. Shortly after, a formal dance event known as the Yule Ball takes place; Harry's crush Cho Chang attends with Cedric, and Hermione attends with Viktor, making Ron jealous. During the second task, the champions must dive underwater to rescue their mates. Harry finishes third, but is promoted to second behind Cedric due to his moral fibre, after saving Fleur's sister Gabrielle as well as Ron. Afterwards, Harry discovers the corpse of Crouch Sr. in the forest. Later, while waiting for Dumbledore in his office, Harry discovers a Pensieve, which holds Dumbledore's memories. Harry witnesses a trial in which Igor confesses to the Ministry of Magic names of other Death Eaters, after Voldemort's defeat. When he names Severus Snape as one, Dumbledore vouches for Snape's innocence; Snape turned spy against Voldemort before the latter's downfall. After Karkaroff names Barty Crouch Jr., a devastated Crouch Sr. imprisons his son in Azkaban. Exiting the Pensieve, Harry realizes that Crouch Jr. is the man he saw in his dream.For the final task, the champions must reach the Triwizard Cup, located in a hedge maze. Viktor, under the influence of the Imperius Curse, accidentally incapacitates Fleur. After Harry saves Cedric when the maze attacks him, the two claim a draw and together grab the cup, which turns out to be a Portkey and transports them to a graveyard where Pettigrew and Voldemort are waiting. Pettigrew kills Cedric with the Killing Curse, and performs a ritual that rejuvenates Voldemort, who then summons the Death Eaters. Voldemort releases Harry in order to beat him in a duel and prove he is the better wizard. Unable to defend himself, Harry tries the Expelliarmus charm at the same moment that Voldemort attempts the Killing Curse. The beams from their wands entwine, and Voldemort's wand disgorges the last spells it performed. The spirits of the people he murdered materialize in the graveyard, including Harry's parents and Cedric. This distracts Voldemort and his Death Eaters, allowing Harry to escape with Cedric's body by grabbing the Portkey.Harry tells Dumbledore that Voldemort returned and killed Cedric. Moody takes Harry back to his office to interrogate him about Voldemort, but inadvertently blows his cover by asking Harry whether there were 'others in the graveyard', despite Harry not mentioning a graveyard. Moody reveals that he submitted Harry's name to the Goblet of Fire and manipulated Harry throughout the tournament to ensure he would win. Moody attempts to attack Harry, but Dumbledore, Snape, and Minerva McGonagall intervene and subdue him. The teachers force Moody to drink Veritaserum, a truth-telling potion, and he reveals that the real Moody is imprisoned in a magical trunk. The impostor's Polyjuice Potion wears off, revealing him as Crouch Jr., who is then returned to Azkaban.Dumbledore reveals to the students that Voldemort killed Cedric, although the Ministry of Magic opposes the revelation. Later, Dumbledore visits Harry in his dormitory, apologizing to him for the dangers he endured. Harry reveals that he saw his parents in the graveyard; Dumbledore names this effect as 'Priori Incantatem'. Soon after Hogwarts, Durmstrang, and Beauxbatons bid farewell to each other.\",\n",
    "                \"Set in 1992, the film is set against the background of a young student, Charlie (Logan Lerman), who has been suffering from clinical depression from childhood setbacks and has recently been discharged from a mental health care institution to begin his adaptation to a normal lifestyle as a young high school student. Charlie is uneasy about beginning his freshman year of high school; he is shy and finds difficulty in making friends, but he connects with his English teacher, Mr. Anderson (Paul Rudd).When he sits with two seniors, Sam (Emma Watson) and her stepbrother Patrick (Ezra Miller), at a football game, they invite him to join them to several social activities. At a party, Charlie unwittingly eats a cannabis brownie, gets high and discloses to Sam that the year before, his best friend committed suicide. He also walks in on Patrick and Brad (Johnny Simmons), a popular athlete, kissing. Sam realizes that Charlie has no other friends so she and Patrick make a special effort to bring Charlie into their group. Sam needs to improve her SAT scores to be accepted to Pennsylvania State University, so Charlie offers to tutor her. On the way home from the party, when the three hear a song with which they are unfamiliar, Sam instructs Patrick to drive through a tunnel so she can stand up in the back of the pickup while the music blasts.At Christmas, Sam gives Charlie a vintage typewriter to help his aspirations of being a writer. The two discuss relationships, and Charlie reveals he has never been kissed. Sam, though already involved with someone else, tells Charlie she wants his first kiss to be from someone who loves him, and kisses him. Charlie, in love with Sam, begins to try to find ways to show her how he feels.At a regular Rocky Horror Picture Show performance, Charlie is asked to fill in for Sam's boyfriend Craig, who is unavailable. Their friend Mary Elizabeth (Mae Whitman) is impressed and asks Charlie to the Sadie Hawkins dance. The two enter into a desultory relationship. Finally, at a party, when Charlie is dared to kiss the most beautiful girl in the room, he chooses Sam, upsetting both her and Mary Elizabeth. Patrick recommends Charlie stay away from the group for a while, and the isolation causes him to sink back into depression. He experiences flashbacks of his Aunt Helen (Melanie Lynskey), who died in a car accident when he was seven years old.When Brad shows up at school with a black eye having been caught by his father having sex with Patrick, he lies, saying that he was jumped and beaten up. Brad distances himself from Patrick, calling him a faggot. Brad's friends begin beating Patrick, but Charlie forcefully intervenes, then blacks out. He recovers to find he has bruised knuckles and Brad's friends are on the floor, incapacitated. Charlie threatens, Touch my friends again, and I'll blind you, then leaves. Sam and Patrick express their gratitude to Charlie, and the three become friends again.Sam is accepted into Penn State, and breaks up with Craig on prom night after learning he has been cheating on her. The night before she departs, she brings Charlie to her room and asks him 'Why do I and everyone I love pick people who treat us like we are nothing to which he repeats advice he received from Mr. Anderson\",\n",
    "                \"The storytelling frequently jumps between interviews with the real people portrayed in the movie and the events themselves performed by actors.In 2003 in Lexington, Kentucky, Spencer Reinhard (Barry Keoghan) is an art student who feels his life has no meaning, that he needs something exciting, even if tragic, to happen in his life to inspire greater artistry. Warren Lipka (Evan Peters) is a rebellious student on an athletic scholarship, though he does not care much for sports and is only pursuing the education to please his family.After Spencer is given a tour of Transylvania University's library's rare book collection, the two friends begin to plan to steal an extremely valuable edition of John James Audubon's The Birds of America and other rare books. Warren travels to Amsterdam to meet some black market buyers who express interest in buying the books. Upon returning to the US, he informs Spencer that they could make millions of dollars, much to their excitement.Realizing that pulling off the heist will require more people, they enlist the help of childhood friends Erik Borsuk (Jared Abrahamson), who helps provide the logistics of the operation, and Chas Allen (Blake Jenner), who will be the getaway driver. They all take time to prepare, learning that the only person guarding the books is the special collections librarian, Betty Jean Gooch (Ann Dowd).On the day of the robbery, they disguise themselves as elderly businessmen, and enter the library. After noticing that there are too many people in the special collections library, they quickly abort the heist and retreat. Three of the conspirators want to end the attempt altogether, but Warren calls the library asking for a private appointment the next day.They decide to drop the elaborate old-age disguises. While Spencer acts as a lookout outside the building, Warren and Eric enter the library dressed as young businessmen. Warren clumsily tases the special collections librarian and makes Eric help tie her up and gag her. They take the rare books and blunder to an exit. In a panic, they drop and have to leave behind the biggest prizes, two enormous Audubon books comprising 'The Birds of America.' All four manage to escape with two of the rarer books.They take the books to Christie's auction house in New York to get the authentication of value that Warren had said the Dutch buyers required. Spencer is told he has to come back sometime the next day and leaves his cell phone number with an auction assistant. In the van outside, Chas berates everyone for their stupidity, and they return to Lexington with the books. Shortly after, Spencer realizes that the police will be able to trace them from emails they used in setting up the heist as well as his cell phone number.The thieves show signs of great stress as they try to lie low: Warren attempts to shoplift from a convenience store; Spencer gets into a car accident; and Eric starts a bar fight. Inevitably, the FBI raid all four of their homes and arrest them. Movie titles show they each serve over 7 years in federal prison.After prison, the real-life robbers express their regret for attempting the heist, noting how much pain they have put their families through. It is also revealed that Warren may have lied about going to Amsterdam, fabricating the story to get the others to agree to the heist. However, this is not confirmed.An epilogue describes their lives after prison. Eric lives in Los Angeles as a writer, and Chas has become a fitness coach in Southern California. Warren has re-enrolled in college and studies filmmaking in Philadelphia. Spencer still lives in Lexington making a living as an artist, specializing in birds. Betty Jean Gooch, the librarian, still works at Transylvania University as a special collections librarian.\",\n",
    "                \"In 1951, two policemen, Nock and Staehl, investigate the mathematician Alan Turing after an apparent break-in at his home. During his interrogation by Nock, Turing tells of his time working at Bletchley Park during the Second World War. In 1927, the young Turing is unhappy and bullied at boarding school. He develops a friendship with Christopher Morcom, who sparks his interest in cryptography. Turing develops romantic feelings for him, but Christopher soon dies from tuberculosis. When Britain declares war on Germany in 1939, Turing travels to Bletchley Park. Under the direction of Commander Alastair Denniston, he joins the cryptography team of Hugh Alexander, John Cairncross, Peter Hilton, Keith Furman and Charles Richards. The team are trying to decrypt the Enigma machine, which the Nazis use to send coded messages. Turing is difficult to work with, and considers his colleagues inferior; he works alone to design a machine to decipher Enigma. After Denniston refuses to fund construction of the machine, Turing writes to Prime Minister Winston Churchill, who puts Turing in charge of the team and funds the machine. Turing fires Furman and Richards and places a difficult crossword in newspapers to find replacements. Joan Clarke, a Cambridge graduate, passes Turing’s test but her parents will not allow her to work with the male cryptographers. Turing arranges for her to live and work with the female clerks who intercept the messages, and shares his plans with her. With Clarke's help, Turing warms to the other colleagues, who begin to respect him. Turing’s machine, which he names Christopher, is constructed, but cannot determine the Enigma settings before the Germans reset the Enigma encryption each day. Denniston orders it destroyed and Turing fired, but the other cryptographers threaten to leave if Turing goes. After Clarke plans to leave on the wishes of her parents, Turing proposes marriage, which she accepts. During their reception, Turing confirms his homosexuality to Cairncross, who warns him to keep it secret. After overhearing a conversation with a female clerk about messages she receives, Turing has an epiphany, realising he can program the machine to decode words he already knows exist in certain messages. After he recalibrates the machine, it quickly decodes a message and the cryptographers celebrate. Turing realises they cannot act on every decoded message or the Germans will realise Enigma has been broken. Turing discovers that Cairncross is a Soviet spy. When Turing confronts him, Cairncross argues that the Soviets are allies working for the same goals, and threatens to retaliate by disclosing Turing’s sexuality. When the MI6 agent Stewart Menzies appears to threaten Clarke, Turing reveals that Cairncross is a spy. Menzies reveals he knew this already and planted Cairncross to leak messages to the Soviets for British benefit. Fearing for her safety, Turing tells Clarke to leave Bletchley Park, revealing that he is gay. Heartbroken, Clarke states she always suspected but insists they would have been happy together anyway. After the war, Menzies tells the cryptographers to destroy their work and that they can never see one another again or share what they have done. In the 1950s, Turing is convicted of gross indecency and, in lieu of a jail sentence, undergoes chemical castration so he can continue his work. Clarke visits him in his home and witnesses his physical and mental deterioration. She comforts him by saying that his work saved millions of lives.\",\n",
    "                \"The film begins with the sentencing of Jean-Baptiste Grenouille (Ben Whishaw), a notorious murderer. Between the reading of the sentence and the execution, the story of his life is told in flashback, beginning with his abandonment at birth in a French fish market. Raised in an orphanage, Grenouille grows into a strangely detached boy with a superhuman sense of smell. After growing to maturity as a tanner's apprentice, he makes his first delivery to Paris, where he revels in all the new scents. He focuses on a redheaded girl (Karoline Herfurth) selling yellow plums, following her and repeatedly attempting to sniff her, but startles her with his behavior. To prevent her from crying out, he covers the girl's mouth and unintentionally suffocates her. After realizing that she is dead, he strips her body naked and smells her all over, becoming distraught when her scent fades. Afterwards, Grenouille is haunted by the desire to recreate the girl's aroma.After making a delivery to a perfume shop, Grenouille amazes the Italian owner, Giuseppe Baldini (Dustin Hoffman), with his ability to identify and create fragrances. He revitalizes the perfumer's career with new formulas, demanding only that Baldini teach him how to preserve scents. Baldini explains that all perfumes are harmonies of twelve individual scents, and may contain a theoretical thirteenth scent. Grenouille continues working for Baldini but is saddened when he learns that Baldini's method of distillation will not capture the scents of all objects. Baldini informs Grenouille of another method that can be learned in Grasse and agrees to help him by providing the journeyman papers he requires in exchange for 100 new perfume formulas. Right after Grenouille departs, Baldini dies when the shaky building, along with his studio, collapses. En route to Grasse, Grenouille decides to exile himself from society, taking refuge in a cave. During this time, he discovers that he lacks any personal scent himself, and believes this is why he is perceived as strange or disturbing by others. Deciding to continue his quest, he leaves his cave and continues to Grasse.Upon arrival in Grasse, Grenouille catches the scent of Laura Richis (Rachel Hurd-Wood), the beautiful, redheaded daughter of the wealthy Antoine Richis (Alan Rickman) and decides that she will be his 'thirteenth scent', the linchpin of his perfume. Grenouille finds a job in Grasse under Madame Arnulfi (Corinna Harfouch) and learns the method of enfleurage. He kills a young lavender picker and attempts to extract her scent using the method of hot enfleurage, which fails. After this, he attempts the method of cold enfleurage on a prostitute he hired, but she becomes alarmed and tries to throw him out. He murders her and successfully preserves the scent of the woman. Grenouille embarks on a killing spree, targeting beautiful young women and capturing their scents using his perfected method. He dumps the women's naked corpses around the city, creating panic. After preserving the first twelve scents, Grenouille plans his attack on Laura. During a church sermon denouncing and excommunicating the murderer, it is announced that a man has confessed to the murders. Richis remains unconvinced and secretly flees the city with his daughter, telling no one their destination. Grenouille tracks her scent to a roadside inn and sneaks into her room that night, murdering her.Soldiers capture Grenouille moments after he finishes preparing his perfume. On the day of his execution, he applies the perfume on himself, forcing the jailers to release him. The executioner and the crowd in attendance are speechless at the beauty of the perfume; they declare Grenouille innocent before falling into a massive orgy. Richis, still convinced of Grenouille's guilt, threatens him with his sword, but he is then overwhelmed by the scent and embraces Grenouille as his 'son'. Walking out of Grasse unscathed, Grenouille has enough perfume to rule the world, but has discovered that it will not allow him to love or be loved like a normal person. Disenchanted by his aimless quest, he returns to the Parisian fish market where he was born and pours the remaining perfume over his head. Overcome by the scent and in the belief that Grenouille is an angel, the nearby crowd devours him. The next morning, all that is left are his clothes and the empty bottle, from which one final drop of perfume falls.\", \n",
    "                 \"Orphaned, penniless but ambitious and with a mind crammed with imagination and fresh ideas, the American Phineas Taylor Barnum will always be remembered as the man with the gift to effortlessly blur the line between reality and fiction. Thirsty for innovation and hungry for success, the son of a tailor will manage to open a wax museum but will soon shift focus to the unique and peculiar, introducing extraordinary, never-seen-before live acts on the circus stage. Some will call Barnum's wide collection of oddities, a freak show; however, when the obsessed showman gambles everything on the opera singer Jenny Lind to appeal to a high-brow audience, he will somehow lose sight of the most important aspect of his life: his family. Will Barnum risk it all to be accepted?\", \n",
    "                 \"Jack's luck has run out. Captain Salazar has released the most deadly ghost pirates of the sea from the devil's Triangle. Captain Salazar is the oldest villain of Jack Sparrow. The ghost pirates hunt on every single pirate on sea, including Jack Sparrow. The only hope to survive this adventure is to collect the legendary Trident of Poseidon. This weapon is the most powerful weapon and the owner gets control of all seas. Is Jack going to collect this powerful weapon and can he ensure he is not going to get killed by Captain Salazar and his pirate ghosts?\",\n",
    "                 \"In 2029 the mutant population has shrunken significantly due to genetically modified plants designed to reduce mutant powers and the X-Men have disbanded. Logan, whose power to self-heal is dwindling, has surrendered himself to alcohol and now earns a living as a chauffeur. He takes care of the ailing old Professor X whom he keeps hidden away. One day, a female stranger asks Logan to drive a girl named Laura to the Canadian border. At first he refuses, but the Professor has been waiting for a long time for her to appear. Laura possesses an extraordinary fighting prowess and is in many ways like Wolverine. She is pursued by sinister figures working for a powerful corporation; this is because they made her, with Logan's DNA. A decrepit Logan is forced to ask himself if he can or even wants to put his remaining powers to good use. It would appear that in the near-future, the times in which they were able put the world to rights with razor sharp claws and telepathic powers are now over.\",\n",
    "                 \"An Americam army veteran grieves by the tombstones of his army company that died during World War I. Back home, he raises his sons in a pious setting and asks them to shun weapons. After a naughty fight turns awry, Desmond reads the Bible and vows not to harm another human in his life thereafter. Desmond then saves the life of a worker, experiencing a wholesome satisfaction in the process. In the hospital, he is smitten by a nurse, who he then dates. After the United States enters the Second World War, both sons enlist, adding to the ire of the father who despises his sons joining the Army. The rigorous regimen of training in the Army requires Desmond to clear his firearms training, but after a huge tiff with his seniors, his father, an old corporal, intervenes to save Desmond from being court-martialed and serve with the Army as a medic. They get posted to Hacksaw Ridge, Okinawa. A win there would ensure that the Empire of Japan surrenders to the Allied Forces. What happens thereon?\",\n",
    "                 \"In New York, the arrogant Dr. Stephen Strange is a talented neurosurgeon with a huge ego. After a car accident, Dr. Strange damages his fingers and loses control of his hands. The surgeon, Christine Palmer, who was his lover, tries to help him. But Dr. Strange unsuccessfully spends his savings searching for an experimental treatment for his fingers. When Dr. Strange learns that the paraplegic Jonathan Pangborn walked again, he seeks him out and is told he was healed in Kamar-Taj. Dr. Strange travels to Katmandu where he meets the sorcerer Mordo and is introduced to The Ancient One. She discloses the astral plan and other dimensions to him and explains that Earth is protected in the mystical plan by three Sanctums (in New York, London, and Hong Kong). However, her former protégé, Kaecilius, has contacted the powerful demon Dormammu in the Dark Dimension and wants to destroy the three Sanctums with his minions to let the Dark Dimension, where time does not exist and anyone can live forever, to rule the world. Will The Ancient One, Dr. Strange and Mordo save the world?\",\n",
    "                 \"In the Gulf of Mexico, 41 miles south-east of the Louisiana Coast, lies the Deepwater Horizon, a semi-submersible offshore oil drilling rig, which is free-floating over the Gulf floor and manned by 126 crew members on board. Among the personnel is Chief Electronics Technician Mike Williams and the seasoned rig supervisor Jimmy Harrell who are surprised to discover that the standard procedure regarding the cement foundation, the only thing between the rig and a blowout, has been bypassed by orders of BP's executives Donald Vidrine and Robert Kaluza. Without a clue about the stability of the well and whether the concrete's integrity has been compromised or not, but above all, with the intention to cut expenses, the greedy managers push to start pumping and before long, disaster strikes. Eventually, as the foundation fails utterly, an endless chain of malfunctions transforms the Deepwater Horizon into a blazing inferno leaving the men defenceless, while Williams and Harrell heroically struggle to rescue their shipmates in the worst oil disaster in the U.S. history that lasted 87 days.\",\n",
    "                 \"In the Kingdom of Arendelle, Princess Elsa has the power to create and freeze ice and snow, and her younger sister Anna loves to play with her. When Elsa accidentally hits Anna on the head with her powers and almost kills her, their parents take them to trolls that save Anna's life and make her forget her sister's ability. Elsa returns to the castle and stays reclusively in her room with fear of hurting Anna with her increasing power. Their parents die when their ship sinks into the ocean, and three years later Elsa's coronation forces her to open her castle gates to celebrate with the people. Anna meets Prince Hans at the party and immediately falls in love and decides to marry him. But Elsa doesn't approve, loses control of her powers, and freezes Arendelle. Elsa flees to the mountain and Anna teams up with the peasant Kristoff, his reindeer Sven, and the snowman Olaf to seek out Elsa. They find her in her icy castle and she accidentally hits Anna in the heart; now only true love can save her sister from death.\",\n",
    "                 \"Since a motorbike crushed into him, silver spoon William 'Wild Will' Traynor's glamour life as corporate raider turned into a nightmare of near-paralyzed wheelchair agony and bitter solitude. His rich but desperate parents, owners of British town's grand manor and medieval castle, hired perfect male nurse Nathan for all able medical assistance but are up to their fifth audition for a well-paid job as permanent companion. The only eligible candidate this time is airhead local Lou Clark, daughter of an unemployed laborer, who never holds a job more then a few days. This time however she neglects her jealous-made fiance Patrick, the jock local award gym entrepreneur, trying anything to bond with Will, who slowly starts caring for her company enough to live again, even publicly and abroad, and introduce her to society. However his incurable condition, extremely vulnerable to any infection, still dictates his determination to get legal euthanasia in Switzerland after the six months ample consideration he promised his parents.\",\n",
    "                 \"Four down-on-their-luck magicians are brought together by an anonymous person who gives them the blueprints to a great illusion. A year later they call themselves the Four Horsemen and the finale of their show is that they will rob a bank. The bank they choose to rob is in France, and they do it. The incident is brought to the attention of the FBI so they assign agent Dylan Rhodes to investigate. Alma Vargas, an Interpol agent comes to help Rhodes which he doesn't like. They turn to Thaddeus Bradley, a former magician, who exposes magic as simple trickery. Bradley shows them how they did it but still not enough to give Rhodes grounds to arrest them. So they follow them and they pull another stunt which makes Rhodes think that they're part of a plot to get back at certain people.\",\n",
    "                 \"For all past deaths made as entertainment, and for the insidious modification of Peeta, Katriss deems to strike out on her own to take down President Snow once and for all, but being the Mockingjay, the living symbol of the rebellion now headed by Alma Coin, has its drawbacks. Recognition, for one, and she finds herself saddled with a team of expert warriors (which surprisingly includes the ailing Peeta) aimed to penetrate the Capitol that has barricaded itself behind Hunger-Game-style death traps. As she closes in on carrying out her private agenda through more deaths and mayhem, President Snow himself makes her aware of another threat to peace for Panem equal to himself, leaving her to consider how to truly end the bloodshed.\",\n",
    "                 \"Filmmaker Roman Polanski, who as a boy growing up in Poland watched while the Nazis devastated his country during World War II, directed this downbeat drama based on the story of a privileged musician who spent five years struggling against the Nazi occupation of Warsaw. Wladyslaw Szpilman (Adrien Brody) is a gifted classical pianist born to a wealthy Jewish family in Poland. The Szpilmans have a large and comfortable flat in Warsaw which Wladyslaw shares with his mother and father (Maureen Lipman and Frank Finlay), his sisters Halina and Regina (Jessica Kate Meyer and Julia Rayner), and his brother, Henryk (Ed Stoppard). While Wladyslaw and his family are aware of the looming presence of German forces and Hitler's designs on Poland, they're convinced that the Nazis are a menace which will pass, and that England and France will step forward to aid Poland in the event of a real crisis. Wladyslaw's naivete is shattered when a German bomb rips through a radio studio while he performs a recital for broadcast. During the early stages of the Nazi occupation, as a respected artist, he still imagines himself above the danger, using his pull to obtain employment papers for his father and landing a supposedly safe job playing piano in a restaurant. But as the German grip tightens upon Poland, Wladyslaw and his family are selected for deportation to a Nazi concentration camp. Refusing to face a certain death, Wladyslaw goes into hiding in a comfortable apartment provided by a friend. However, when his benefactor goes missing, Wladyslaw is left to fend for himself and he spends the next several years dashing from one abandoned home to another, desperate to avoid capture by German occupation troops\",\n",
    "                 \"Some time after the Civil War, a stagecoach hurtles through the wintry Wyoming landscape. Bounty hunter John Ruth and his fugitive captive Daisy Domergue race towards the town of Red Rock, where Ruth will bring Daisy to justice. Along the road, they encounter Major Marquis Warren (an infamous bounty hunter) and Chris Mannix (a man who claims to be Red Rock's new sheriff). Lost in a blizzard, the bunch seeks refuge at Minnie's Haberdashery. When they arrive they are greeted by unfamiliar faces: Bob, who claims to be taking care of the place while Minnie is gone; Oswaldo Mobray, the hangman of Red Rock; Joe Gage, a cow puncher; and confederate general Sanford Smithers. As the storm overtakes the mountainside, the eight travelers come to learn that they might not make it to Red Rock after all...\",\n",
    "                 \"A retired 70-year-old widower, Ben (played by Robert De Niro), is bored with retired life. He applies to a be a senior intern at an online fashion retailer and gets the position. The founder of the company is Jules Ostin (Anne Hathaway), a tireless, driven, demanding, dynamic workaholic. Ben is made her intern, but this is a nominal role - she doesn't intend to give him work and it is just window dressing. However, Ben proves to be quite useful and, more than that, a source of support and wisdom.\"\n",
    "                ]"
   ]
  },
  {
   "cell_type": "code",
   "execution_count": 333,
   "metadata": {},
   "outputs": [],
   "source": [
    "vectorised_user_summaries = [model.infer_vector(summary) for summary in temp]"
   ]
  },
  {
   "cell_type": "code",
   "execution_count": 334,
   "metadata": {},
   "outputs": [],
   "source": [
    "vectorised_user_rdd = \\\n",
    "    user_rdd.zipWithIndex().map(lambda elem: (elem[0][0], elem[0][1], elem[0][2], vectorized_summaries[elem[1]])).cache()"
   ]
  },
  {
   "cell_type": "code",
   "execution_count": 335,
   "metadata": {},
   "outputs": [
    {
     "data": {
      "text/plain": [
       "20"
      ]
     },
     "execution_count": 335,
     "metadata": {},
     "output_type": "execute_result"
    }
   ],
   "source": [
    "vectorised_user_rdd.count()"
   ]
  },
  {
   "cell_type": "code",
   "execution_count": 336,
   "metadata": {},
   "outputs": [
    {
     "data": {
      "text/plain": [
       "[('Deadpool 2',\n",
       "  3,\n",
       "  \"After successfully working as the mercenary Deadpool for two years, Wade Wilson fails to kill one of his targets on his anniversary with his girlfriend Vanessa. That night, after the pair decides to start a family together, the target tracks them down and kills Vanessa. Wilson kills the man in revenge. He blames himself for her death and attempts to commit suicide six weeks later by blowing himself up. Wilson has a vision of Vanessa in the afterlife, but the pieces of his body remain alive and are put back together by Colossus. Wilson is left with only a Skee-Ball token, an anniversary gift, as a final memento of Vanessa.Recovering at the X-Mansion, Wilson agrees to join the X-Men as a form of healing. He, Colossus, and Negasonic Teenage Warhead respond to a standoff between authorities and the unstable young mutant Russell Collins Firefist at an orphanage, labeled a 'Mutant Reeducation Center'. Wilson realizes that Collins has been abused by the orphanage staff, and kills one of the staff members. Colossus stops him from killing anyone else, and both Wilson and Collins are arrested. Restrained with collars that suppress their powers, they are taken to the 'Ice Box', an isolated prison for mutant criminals. Meanwhile, a cybernetic soldier from the future, Cable, whose family is murdered by an older Collins, travels back in time to kill the boy before Collins ever becomes a killer.Cable breaks into the Ice Box and attacks Collins. Wilson, whose collar has broken in the melee, attempts to defend Collins. After Cable takes Vanessa's token, Wilson forces himself and Cable out of the prison, but not before Collins overhears Wilson deny that he cares for the young mutant. Near death again, Wilson has another vision of Vanessa in which she convinces him to help Collins. Wilson organizes a team called X-Force to break Collins out of a prison-transfer convoy and defend him from Cable. The team launches its assault on the convoy by parachuting from a plane, but all of the members die during the landing except for Wilson and the lucky Domino. While they fight Cable, Collins frees fellow inmate Juggernaut, who agrees to help Collins kill the abusive orphanage headmaster. Juggernaut destroys the convoy, allowing himself and Collins to escape.Cable offers to work with Wilson and Domino to stop Collins' first murder, which will lead to more, and agrees to give Wilson a chance to talk Collins down. At the orphanage they are overpowered by Juggernaut while Collins attacks the headmaster, until Colossus-who had at first refused to help Wilson due to Wilson's murderous ways-arrives to distract Juggernaut. When Wilson fails to talk down Collins, Cable shoots at the young mutant. Wilson leaps in front of the bullet while wearing the Ice Box collar and dies, reuniting with Vanessa in the afterlife. Seeing this sacrifice, Collins does not kill the headmaster; this changes the future so that Cable's family now survives. Cable uses the last charge on his time-traveling device, which he needed for returning to his family, to go back several minutes and strap Vanessa's token in front of Wilson's heart. Now when Wilson takes the bullet for Collins, it is stopped by the token and he survives. Collins still has his change of heart, and afterwards the headmaster is run over by Wilson's taxi-driver friend Dopinder.In a mid-credits sequence, Negasonic Teenage Warhead and her girlfriend Yukio repair Cable's time-traveling device for Wilson. He uses it to save the lives of Vanessa and X-Force member Peter; kill X-Men Origins: Wolverine's version of Deadpool; and kill actor Ryan Reynolds while he is considering starring in the film Green Lantern.\",\n",
       "  array([ 0.03493118,  0.0024255 , -0.07585545,  0.07593532,  0.00973486,\n",
       "         -0.02822236,  0.08688055, -0.04694621,  0.05601304, -0.02056799,\n",
       "         -0.03894438,  0.03195091,  0.01295165, -0.05155864, -0.08274098,\n",
       "          0.00179202,  0.01904204, -0.03623366,  0.01765041,  0.01788238,\n",
       "          0.19245096, -0.09034593,  0.06161799, -0.0306563 ,  0.17162104,\n",
       "         -0.0664319 ,  0.01949177, -0.01352419, -0.05622266,  0.05447122,\n",
       "         -0.09739755,  0.01105353, -0.02197399,  0.10928689, -0.05525309,\n",
       "         -0.15715018, -0.047334  ,  0.01255453, -0.04529143, -0.09322759,\n",
       "          0.02726479, -0.05156685,  0.10998905,  0.03636669,  0.02788997,\n",
       "         -0.05294462, -0.11772917,  0.07919305,  0.03753272, -0.03957717,\n",
       "         -0.03116622, -0.00937195,  0.01876195,  0.01345354,  0.02679248,\n",
       "         -0.09882563, -0.0272477 , -0.14847195, -0.00108018,  0.00384209,\n",
       "          0.08568077, -0.01574506, -0.0422837 , -0.02098795, -0.10470106,\n",
       "          0.02810247,  0.01008967, -0.02956106, -0.09585615,  0.00075066,\n",
       "         -0.02414826, -0.01211352, -0.03403334, -0.04803717, -0.03638   ,\n",
       "         -0.0461432 , -0.09014872, -0.04126376,  0.01189039,  0.03074446,\n",
       "         -0.08066149, -0.00611803, -0.03730403, -0.10696089,  0.08669177,\n",
       "         -0.00682956,  0.0129878 , -0.03960079,  0.09694098, -0.03032134,\n",
       "         -0.04275062,  0.08511019,  0.02255949,  0.06787299,  0.06986747,\n",
       "          0.06617267,  0.00804362,  0.01009324,  0.00269286, -0.01251494],\n",
       "        dtype=float32))]"
      ]
     },
     "execution_count": 336,
     "metadata": {},
     "output_type": "execute_result"
    }
   ],
   "source": [
    "vectorised_user_rdd.take(1)"
   ]
  },
  {
   "cell_type": "markdown",
   "metadata": {},
   "source": [
    "Now we need to group with the ratings assigned as keys and the vectors and counts assigned as values. We no longer need the plot summaries and the movie titles now that we have implemented the vector representation."
   ]
  },
  {
   "cell_type": "code",
   "execution_count": 337,
   "metadata": {},
   "outputs": [],
   "source": [
    "key_value_schema = vectorised_user_rdd.map(lambda elem: (elem[1], (elem[3], 1))).sortByKey()"
   ]
  },
  {
   "cell_type": "code",
   "execution_count": 338,
   "metadata": {},
   "outputs": [
    {
     "data": {
      "text/plain": [
       "20"
      ]
     },
     "execution_count": 338,
     "metadata": {},
     "output_type": "execute_result"
    }
   ],
   "source": [
    "key_value_schema.count()"
   ]
  },
  {
   "cell_type": "code",
   "execution_count": 339,
   "metadata": {},
   "outputs": [
    {
     "data": {
      "text/plain": [
       "[(1, (array([-0.00147226,  0.0044263 ,  0.02852533, -0.02649999, -0.00198322,\n",
       "           0.00405797,  0.02093723,  0.00856092,  0.06417085, -0.01114989,\n",
       "          -0.03373287,  0.01543447,  0.01961495, -0.03229797, -0.02667066,\n",
       "           0.01115356, -0.02959675,  0.03130432,  0.01620949, -0.00659307,\n",
       "           0.03190266, -0.04039969,  0.0154823 ,  0.00028935,  0.06419194,\n",
       "          -0.04052171,  0.02219417, -0.01093993,  0.02026901,  0.02843093,\n",
       "          -0.00774683,  0.02248913,  0.02035104,  0.00327248,  0.00630219,\n",
       "          -0.06199979, -0.01279147, -0.00671188,  0.00661001, -0.05016908,\n",
       "           0.01183395, -0.00273108,  0.01882027, -0.00063093,  0.00774934,\n",
       "          -0.01318485, -0.04498927,  0.00935748,  0.02960959,  0.02792278,\n",
       "          -0.03569188,  0.03322608,  0.01784803,  0.00651194,  0.01032926,\n",
       "          -0.03848039, -0.01366616, -0.064901  , -0.02363634,  0.01932326,\n",
       "           0.00458974,  0.01756637, -0.0229273 , -0.0441742 , -0.0498121 ,\n",
       "           0.01990092,  0.00975291, -0.03218946, -0.055395  , -0.01150162,\n",
       "          -0.00112432, -0.01352292, -0.00956423,  0.00982641, -0.02464325,\n",
       "          -0.01951923,  0.00347262, -0.04183416, -0.00189673, -0.00444713,\n",
       "          -0.05035784,  0.00679512, -0.00543953, -0.03112   , -0.0021125 ,\n",
       "          -0.00400812, -0.00197268,  0.00828228,  0.04732233,  0.00125781,\n",
       "           0.00803016,  0.04899924,  0.00551942, -0.00877627,  0.05434756,\n",
       "           0.01900605,  0.02958828,  0.02855622,  0.01192076, -0.00914627],\n",
       "         dtype=float32), 1))]"
      ]
     },
     "execution_count": 339,
     "metadata": {},
     "output_type": "execute_result"
    }
   ],
   "source": [
    "key_value_schema.take(1)"
   ]
  },
  {
   "cell_type": "markdown",
   "metadata": {},
   "source": [
    "We aggregate based on the value of the rating"
   ]
  },
  {
   "cell_type": "code",
   "execution_count": 340,
   "metadata": {},
   "outputs": [],
   "source": [
    "summed_rdd = key_value_schema.reduceByKey(lambda a, b: (a[0]+b[0], a[1] + b[1])).sortByKey()"
   ]
  },
  {
   "cell_type": "code",
   "execution_count": 341,
   "metadata": {},
   "outputs": [
    {
     "data": {
      "text/plain": [
       "9"
      ]
     },
     "execution_count": 341,
     "metadata": {},
     "output_type": "execute_result"
    }
   ],
   "source": [
    "summed_rdd.count()"
   ]
  },
  {
   "cell_type": "code",
   "execution_count": 342,
   "metadata": {},
   "outputs": [
    {
     "data": {
      "text/plain": [
       "[(1, (array([-0.00147226,  0.0044263 ,  0.02852533, -0.02649999, -0.00198322,\n",
       "           0.00405797,  0.02093723,  0.00856092,  0.06417085, -0.01114989,\n",
       "          -0.03373287,  0.01543447,  0.01961495, -0.03229797, -0.02667066,\n",
       "           0.01115356, -0.02959675,  0.03130432,  0.01620949, -0.00659307,\n",
       "           0.03190266, -0.04039969,  0.0154823 ,  0.00028935,  0.06419194,\n",
       "          -0.04052171,  0.02219417, -0.01093993,  0.02026901,  0.02843093,\n",
       "          -0.00774683,  0.02248913,  0.02035104,  0.00327248,  0.00630219,\n",
       "          -0.06199979, -0.01279147, -0.00671188,  0.00661001, -0.05016908,\n",
       "           0.01183395, -0.00273108,  0.01882027, -0.00063093,  0.00774934,\n",
       "          -0.01318485, -0.04498927,  0.00935748,  0.02960959,  0.02792278,\n",
       "          -0.03569188,  0.03322608,  0.01784803,  0.00651194,  0.01032926,\n",
       "          -0.03848039, -0.01366616, -0.064901  , -0.02363634,  0.01932326,\n",
       "           0.00458974,  0.01756637, -0.0229273 , -0.0441742 , -0.0498121 ,\n",
       "           0.01990092,  0.00975291, -0.03218946, -0.055395  , -0.01150162,\n",
       "          -0.00112432, -0.01352292, -0.00956423,  0.00982641, -0.02464325,\n",
       "          -0.01951923,  0.00347262, -0.04183416, -0.00189673, -0.00444713,\n",
       "          -0.05035784,  0.00679512, -0.00543953, -0.03112   , -0.0021125 ,\n",
       "          -0.00400812, -0.00197268,  0.00828228,  0.04732233,  0.00125781,\n",
       "           0.00803016,  0.04899924,  0.00551942, -0.00877627,  0.05434756,\n",
       "           0.01900605,  0.02958828,  0.02855622,  0.01192076, -0.00914627],\n",
       "         dtype=float32), 1)),\n",
       " (1.5,\n",
       "  (array([ 9.98644857e-04,  4.46289033e-03,  4.71537234e-03, -1.49438344e-02,\n",
       "          -6.05769921e-03,  9.82127618e-03,  6.10848563e-03, -3.45467357e-03,\n",
       "           3.12641300e-02,  2.74979480e-04, -1.03779521e-03,  7.60257361e-04,\n",
       "           1.35305151e-02, -4.78341884e-04, -1.29213165e-02, -2.35259021e-03,\n",
       "          -1.26575734e-02,  1.41922375e-02,  1.37337474e-02, -1.07241645e-02,\n",
       "           1.80377755e-02, -2.65929960e-02,  1.82285514e-02, -2.37833802e-03,\n",
       "           3.81574295e-02, -3.05710826e-02,  1.28678540e-02, -3.55124846e-03,\n",
       "           1.22836931e-02,  8.69757589e-03, -7.38270988e-04,  7.96455331e-03,\n",
       "          -3.86888813e-03, -7.99991714e-04,  5.47925150e-03, -2.43519992e-02,\n",
       "           8.18494475e-04, -5.26702870e-03,  1.71051584e-02, -1.67037342e-02,\n",
       "           6.50374102e-04,  3.51274939e-04,  2.06394866e-02, -5.26731228e-03,\n",
       "           3.24501493e-03, -7.09095411e-03, -3.36757340e-02,  1.92997176e-02,\n",
       "           1.93377659e-02,  5.89708751e-03, -1.26712881e-02,  1.08885216e-02,\n",
       "           9.79630556e-03,  7.11619714e-03,  1.77329909e-02, -1.87378395e-02,\n",
       "          -7.84095563e-03, -3.71165052e-02, -1.14638982e-02, -1.23027887e-03,\n",
       "           3.55200539e-03,  4.71763220e-03,  1.88536418e-03, -1.91809405e-02,\n",
       "          -2.56545879e-02,  1.36156017e-02,  5.71200904e-03, -7.79088028e-03,\n",
       "          -1.92509722e-02, -1.99564430e-03, -1.77662000e-02, -8.07265751e-03,\n",
       "          -1.51369022e-02, -2.28926120e-03, -1.48549117e-02, -8.05249531e-03,\n",
       "          -6.30583055e-03, -2.62050591e-02,  1.06296502e-05, -5.52082434e-04,\n",
       "          -2.64849495e-02,  1.46022504e-02, -9.65382811e-03, -9.29905754e-03,\n",
       "           7.77324056e-03,  9.96056478e-03,  8.19741469e-03,  1.11815082e-02,\n",
       "           2.14292798e-02,  1.70099305e-03, -5.40652126e-03,  2.50835065e-02,\n",
       "           9.02062561e-03, -3.44566070e-03,  2.18356680e-02,  1.89512633e-02,\n",
       "           1.19102411e-02,  3.22788511e-03,  9.46458138e-04, -6.91222493e-03],\n",
       "         dtype=float32), 1))]"
      ]
     },
     "execution_count": 342,
     "metadata": {},
     "output_type": "execute_result"
    }
   ],
   "source": [
    "summed_rdd.take(2)"
   ]
  },
  {
   "cell_type": "markdown",
   "metadata": {},
   "source": [
    "Different ratings should carry a different weight, since for ratings closer to 5 we should take into high account the contnt of the movie and for lower ratings we should almost not take the movie under consideration. We consider a rating value of 1 as an outlier, and we construct the following weight matrix."
   ]
  },
  {
   "cell_type": "code",
   "execution_count": 343,
   "metadata": {},
   "outputs": [],
   "source": [
    "summed_rdd = summed_rdd.filter(lambda elem: elem[0] != 1)"
   ]
  },
  {
   "cell_type": "code",
   "execution_count": 348,
   "metadata": {},
   "outputs": [],
   "source": [
    "weight_of_ratings = {\n",
    "    '1.5': 0.01, \n",
    "    '2': 0.04, \n",
    "    '2.5': 0.05, \n",
    "    '3': 0.8,\n",
    "    '3.5': 0.12, \n",
    "    '4': 0.18, \n",
    "    '4.5': 0.22,\n",
    "    '5': 0.3}"
   ]
  },
  {
   "cell_type": "markdown",
   "metadata": {},
   "source": [
    "By using these weights, we wish to average the user's preferences to a mean vector"
   ]
  },
  {
   "cell_type": "code",
   "execution_count": 349,
   "metadata": {},
   "outputs": [],
   "source": [
    "averaged_rdd = summed_rdd.\\\n",
    "    map(lambda elem: weight_of_ratings[str(elem[0])] * elem[1][0] / float(elem[1][1]))"
   ]
  },
  {
   "cell_type": "code",
   "execution_count": 350,
   "metadata": {},
   "outputs": [
    {
     "data": {
      "text/plain": [
       "8"
      ]
     },
     "execution_count": 350,
     "metadata": {},
     "output_type": "execute_result"
    }
   ],
   "source": [
    "averaged_rdd.count()"
   ]
  },
  {
   "cell_type": "markdown",
   "metadata": {},
   "source": [
    "It is easy to produce the mean vector from the averaged rdd:"
   ]
  },
  {
   "cell_type": "code",
   "execution_count": 351,
   "metadata": {},
   "outputs": [],
   "source": [
    "temp = averaged_rdd.collect()"
   ]
  },
  {
   "cell_type": "code",
   "execution_count": 352,
   "metadata": {},
   "outputs": [],
   "source": [
    "mean_user_vector = sum(temp) / len(temp)"
   ]
  },
  {
   "cell_type": "code",
   "execution_count": 353,
   "metadata": {},
   "outputs": [
    {
     "data": {
      "text/plain": [
       "array([ 1.87694596e-03, -3.59628175e-04,  2.74065160e-03, -7.84267951e-03,\n",
       "       -1.12424884e-03, -1.86142127e-03,  6.82537910e-03, -1.26392453e-03,\n",
       "        1.52220037e-02, -2.59213452e-03, -5.97395888e-03,  2.25893734e-03,\n",
       "        6.75213570e-03, -6.21612370e-03, -7.85925332e-03,  3.20965727e-03,\n",
       "       -3.40601453e-03,  2.82227225e-03,  5.57918521e-03, -4.17340314e-03,\n",
       "        1.28712729e-02, -1.49417389e-02,  6.64670020e-03, -3.35290330e-03,\n",
       "        2.13420279e-02, -1.53362080e-02,  3.11278901e-03, -1.38028467e-03,\n",
       "        2.99587171e-03,  2.77310028e-03, -3.36549478e-03,  3.73566081e-03,\n",
       "       -1.40112708e-03,  7.17792148e-03, -5.43137896e-04, -1.67864710e-02,\n",
       "       -6.42805686e-03, -4.87069832e-03,  8.06682685e-04, -1.46794282e-02,\n",
       "        3.70010408e-03, -4.22765687e-03,  1.19579341e-02,  2.10785796e-03,\n",
       "        8.32073041e-04, -5.68656111e-03, -1.95702370e-02,  8.54341034e-03,\n",
       "        8.51506647e-03, -2.21567228e-03, -4.07427782e-03,  6.04892662e-03,\n",
       "        3.12786014e-03,  3.55517631e-03,  5.54049201e-03, -7.90526718e-03,\n",
       "       -4.77833534e-03, -2.06308998e-02, -4.28932719e-03,  5.59131056e-03,\n",
       "        6.71587046e-03,  4.66173422e-03,  1.03739294e-04, -7.84191396e-03,\n",
       "       -1.48535520e-02,  4.40932903e-03,  2.67751073e-03, -6.84256107e-03,\n",
       "       -1.35867782e-02, -2.80295685e-03, -7.20895687e-03, -4.61010123e-03,\n",
       "       -4.84672096e-03, -3.57055775e-04, -7.61944149e-03, -3.58427456e-03,\n",
       "       -5.96691575e-03, -9.07730684e-03, -1.36438792e-03,  5.56979794e-05,\n",
       "       -1.57139897e-02,  4.53007314e-03, -4.13786713e-03, -1.31079359e-02,\n",
       "        6.75192708e-03, -5.06477372e-04,  3.12408141e-04,  1.95260555e-03,\n",
       "        1.44519284e-02,  8.52662080e-04, -7.44444551e-04,  1.38694346e-02,\n",
       "        5.21313911e-03,  2.81599583e-04,  1.40529303e-02,  6.25114143e-03,\n",
       "        6.54379418e-03,  2.57084845e-03, -2.94090435e-03, -4.66984324e-03],\n",
       "      dtype=float32)"
      ]
     },
     "execution_count": 353,
     "metadata": {},
     "output_type": "execute_result"
    }
   ],
   "source": [
    "mean_user_vector"
   ]
  },
  {
   "cell_type": "markdown",
   "metadata": {},
   "source": [
    "### Important note"
   ]
  },
  {
   "cell_type": "markdown",
   "metadata": {},
   "source": [
    "This weighted schema can only work because the weights assigned to the ratings sum up to 1.\n",
    "\n",
    "For this reason, we explicitly asked our reviewers to provide us with at least one rating varying in [1.5, 5] with a step of 0.5. As a future notice, and to adapt our model in a more realistic setting, we need to design an algorithm that is able to deal with spparsity in the reviews given by our users. \n",
    "\n",
    "As we stated earlier, our metric of similarity is the cosine similarity between two given vectors"
   ]
  },
  {
   "cell_type": "code",
   "execution_count": 358,
   "metadata": {},
   "outputs": [],
   "source": [
    "from gensim import matutils\n",
    "\n",
    "def cosine_similarity(doc_vec1, doc_vec2):\n",
    "    return np.dot(matutils.unitvec(doc_vec1), matutils.unitvec(doc_vec2))"
   ]
  },
  {
   "cell_type": "code",
   "execution_count": 373,
   "metadata": {},
   "outputs": [],
   "source": [
    "temp1 = np.array([1,2,3])\n",
    "temp2 = np.array([1,2,3])\n",
    "temp3 = np.array([0,0,0])"
   ]
  },
  {
   "cell_type": "code",
   "execution_count": 374,
   "metadata": {},
   "outputs": [
    {
     "data": {
      "text/plain": [
       "1.0"
      ]
     },
     "execution_count": 374,
     "metadata": {},
     "output_type": "execute_result"
    }
   ],
   "source": [
    "cosine_similarity(temp1, temp2)"
   ]
  },
  {
   "cell_type": "code",
   "execution_count": 375,
   "metadata": {},
   "outputs": [
    {
     "data": {
      "text/plain": [
       "0.0"
      ]
     },
     "execution_count": 375,
     "metadata": {},
     "output_type": "execute_result"
    }
   ],
   "source": [
    "cosine_similarity(temp1, temp3)"
   ]
  },
  {
   "cell_type": "markdown",
   "metadata": {},
   "source": [
    "#### Producing a new RDD with the cosine similarities of the user movies attached"
   ]
  },
  {
   "cell_type": "markdown",
   "metadata": {},
   "source": [
    "We face the same pyspark error when trying to map directly the original rdd to the mapped rdd. \n",
    "\n",
    "Instead, we use the following method:"
   ]
  },
  {
   "cell_type": "code",
   "execution_count": 404,
   "metadata": {},
   "outputs": [],
   "source": [
    "cosine_similarities = [cosine_similarity(doc_vec, mean_user_vector) for doc_vec in vectorized_summaries]"
   ]
  },
  {
   "cell_type": "code",
   "execution_count": 399,
   "metadata": {},
   "outputs": [
    {
     "data": {
      "text/plain": [
       "0.705326"
      ]
     },
     "execution_count": 399,
     "metadata": {},
     "output_type": "execute_result"
    }
   ],
   "source": [
    "cosine_similarities[20]"
   ]
  },
  {
   "cell_type": "code",
   "execution_count": 381,
   "metadata": {},
   "outputs": [
    {
     "data": {
      "text/plain": [
       "42207"
      ]
     },
     "execution_count": 381,
     "metadata": {},
     "output_type": "execute_result"
    }
   ],
   "source": [
    "len(cosine_similarities)"
   ]
  },
  {
   "cell_type": "code",
   "execution_count": 400,
   "metadata": {},
   "outputs": [],
   "source": [
    "cosine_similarities_rdd = titles_summaries_and_vectors.zipWithIndex().\\\n",
    "    map(lambda elem: (elem[0][0], elem[0][1], cosine_similarities[elem[1]])).cache()"
   ]
  },
  {
   "cell_type": "code",
   "execution_count": 401,
   "metadata": {},
   "outputs": [
    {
     "data": {
      "text/plain": [
       "42207"
      ]
     },
     "execution_count": 401,
     "metadata": {},
     "output_type": "execute_result"
    }
   ],
   "source": [
    "cosine_similarities_rdd.count()"
   ]
  },
  {
   "cell_type": "code",
   "execution_count": 402,
   "metadata": {},
   "outputs": [
    {
     "data": {
      "text/plain": [
       "[('Baby Boy',\n",
       "  'A young 20-year-old named Jody  lives with his mother Juanita ,{{amg movie}} in South Central Los Angeles. He spends most of his time with his unemployed best friend P , and does not seem interested in becoming a responsible adult. However, he is forced to mature as a result of an ex-con named Melvin , who moves into their home. Another factor is his children - a son with his girlfriend Yvette  and a daughter with a girl named Peanut, who also lives with her mother. At the beginning of the movie Yvette has an abortion that Jody forced her to have. Yvette constantly asks Jody if he will ever come live with her and their son, but Jody avoids the subject and comes and goes as he pleases. Jody also continues seeing and having sex with other women, including Peanut. This becomes an issue between him and Yvette as well, especially since Yvette and Peanut do not get along. When she discovers his cheating they get in a heated argument which results to Jody slapping Yvette in the face. After this, Yvette changes the locks on the door. This infuriates Jody and they get into an argument. Their son comes out of his room and runs to the door. Yvette grabs him and cradles him while he yells, \"I wanna see my daddy.\" Eventually, Yvette\\'s gangster ex-boyfriend Rodney  is released from San Quentin State Prison, and returns to the neighborhood to move in with Yvette, much to her dismay. Rodney doesn\\'t care for Yvette and Jody\\'s son and wants to impregnate Yvette himself. Rodney attempts to rape Yvette in front of her son. She tells him, \"So you\\'re really gonna rape me in front of my son\". Rodney pauses for a minute then pushes her son out of the way and walks out of the room. Jody Jr. aka JoJo then says, \"I want my daddy.\" Yvette then cradles her son and replies, \"I know baby, I do too.\" For the next couple of days Yvette lives in fear and disgust of Rodney being there and misses Jody. Rodney, who realizes this, steals the money from her wallet and takes off in her car to go and find Jody. Rodney tries to kill Jody in a drive-by shooting; however, he is unsuccessful with both efforts. After this Yvette kicks Rodney and his friends out of her apartment. While at Sweetpea\\'s house playing cards, Yvette and Sweetpea\\'s girlfriend Kim step outside. Yvette then goes and sits beside Jody. When Jody ignores her she throws the chair back and runs off. Jody goes after her. She then tells Jody about everything she has been going through, even about Rodney trying rape her. Jody then hugs Yvette and says that he\\'s been missing her. Jody and Sweetpea confront Rodney, and as he attempts to escape, Jody shoots him in the ankle. Sweetpea urges Jody to kill Rodney, but he refuses, at which point Sweetpea kills Rodney himself. Feeling guilty for Rodney\\'s death, Jody prepares to commit suicide by shooting himself in the head, but Melvin catches him and takes the gun. After reflecting on the death of Rodney and how he put Yvette and his son in danger by not being around consistently, Jody finally moves out of his mom\\'s house and in with Yvette. They move into a motel after the killing. Jody has now become a mature man, realizing that his mom\\'s relationship with Melvin is a stable one and that he has a family of his own that he needs to protect and take care of. Afterwards, Jody and Yvette get married and she becomes pregnant with Jody\\'s third child and her second child with him. Sweetpea decides to turn over a new life and gets baptized, putting his old life as a street thug behind him.',\n",
       "  0.82091373),\n",
       " ('Vandanam',\n",
       "  \"Professor Kurian Fernandez , a convict escapes from jail, along with Raghu , his cell mate. After a failed attempt to chase and nab the duo, the officials draws out several plans to capture both. Police authorities strongly feel that Fernandez will land up in Banglore and may try to meet up with his only daughter. Unnikrishnan  and K.Purushothaman Nair , two inspectors from Kerala police are sent to Bangalore to follow the activities of Gadha , daughter of Fernandez. Upon reaching Bangalore, Unnikrishnan meets Peter ([[Mukesh , his college mate, who is also now an inspector with Karnataka police. Unnikrishnan and Peter makes up a team and sidelines Purushothaman Nair, who struggles hard to cope up with Kannada language. The police team stays at a room just opposite to where Gadha stays as a paying guests. Gadha, working at an advertisement agency as a copy writer is staying along with Maggie Aunty , who is constantly in fight with her son . Unnikrishnan and Peter, who are born flirts, are more interested in drinking and playing cards than investigation. K.P.Nair tries to report this to the authorities, but fails in getting both in control. Unnikrishnan slowly develops a crush towards Gadha, which gets transformed into a full fledged passion, but Gadha never accepts it. Unni befriends with Maggie aunty and tries all ways to woo Gadha. Meanwhile Unni and Peter finds out that Fernandez is in the city and is constantly in touch with Gadha. The police commissioner  is in all efforts to nab Fernandez. Unnikrishnan decides to use Gadha to reach out Fernandez. Gadha reveals to Unni about the past of Fernandez, when he was a college professor, who was loved and cared by the students. The sincere professor questioned the college authorities on many administration malpractices, which made him a dust in their eyes. The son of the police commissioner was punished by professor, which led to serious fracas in college and authorities were forced to take action on him under severe protests from students. In retaliation, he attacked professor while traveling with a female student. The girl got raped and killed and professor was falsely convicted in the case. Now, professor is out of jail to avenge on it. Unnikrishnan tries to convince professor with the help of Gadha, but he fails to give up. Meanwhile, an old man, who is a client of the ad agency, where Gadha works, likes her and asks her to join him as his secretary abroad. Gadha, who had by then developed a soft feeling towards Unni lets him to bring his mother  to see her. At the same time, Professor succeeds in killing the son of the commissioner. He orders a shoot at sight at Fernandez. Professor goes berserk and looses mental stability and decides to plant a bomb at the city stadium, which might kill hundreds of civilians. Unnikrishnan asks Gadha to make him give up this heinous plan, but he refuses. That evening, Fernandez plants a bomb, but police team under Unnikrishnan corners him and takes him to the tower. Professor, despite repeated requests denies to explain how defuse the bomb. But Unnikrishnan successfully defuses the bomb, thereby saving the lives of hundreds. But Gadha, who actually wanted to join with Unni, couldn't join with him and decides to go with the old man to London. The film ends with both the cars with Gadha and Unni stopping at a junction, when the signal turns green, they move to opposite roads.\",\n",
       "  0.8237393),\n",
       " ('Daddy and Them',\n",
       "  \"Ruby and Claude Montgomery are a very insecure and jealous couple, who must help when Claude's Uncle Hazel is jailed for attempted murder. An Arkansan family reunites as they travel with Ruby's older sister Rose, with whom Claude had a previous relationship, and Ruby and Rose's mother Jewel, who continuously talks about Rose and Claude's past relationship, which irritates Ruby.\",\n",
       "  0.88988847),\n",
       " ('Rudo y Cursi',\n",
       "  \"In the fictional farming village of Tlachtlán, in the Cihuatlán Valley of Jalisco, Mexico, young men dream of escaping the drudgery of the banana plantations. Two of them, a pair of half-brothers, play in local soccer matches. Tato  is the star striker and Beto  is the eccentric goalkeeper. During one match they are spotted by a talent scout  and he offers one of them the opportunity to go to Mexico City with him and try out for one of the country's big teams. As the scout's roster is already full, he says he can only take one of the brothers and they decide to settle it on a penalty shot. Tato scores the penalty against his brother therefore earning the right to head to the capital. After a slow start Tato finally makes it big and earns the nickname 'Cursi' . His brother soon follows and joins a rival team where he is given the nickname 'Rudo' . Cursi becomes a national hero and starts dating Maya Vega , a famous model, whilst his brother struggles with life in the city and misses his family back home. Things start to go worse for the brothers. Tato loses both his woman and his goal scoring touch while his brother gets lured into a world of cocaine and gambling. It becomes clear that the drug cartels own everything. Their sister back home marries the local drug lord, Don Casimiro, whose far-reaching tentacles eventually affect the whole family. Everything finally depends upon one match as the two brothers come face to face. Cursi is threatened with demotion to Division 2 if he fails to score in this match; Rudo must throw the match in order to pay off his gambling debts or he will be killed. In the last minute Rudo saves a penalty from Tato and the match finishes goalless. Cursi quits football and returns home, and Rudo is shot, losing a leg and ending his career. They both end up back in Tlachtlán with their family where the simpler lifestyle seems to better suit them.\",\n",
       "  0.92047125),\n",
       " ('Kinjite: Forbidden Subjects',\n",
       "  'A Japanese businessman sees a woman being groped in a crowded Tokyo subway. He is interested to see how she would rather moan silently, involuntary orgasm than let people know she is being groped. When he is transferred to Los Angeles, the Japanese businessman tries to imitate what he saw by groping who happens to be Lt. Crowe \\'s daughter. But unlike in Japan, the American woman raises a commotion and makes him run away in embarrassment. Meanwhile, the daughter of the same Japanese businessman is kidnapped into a child prostitution ring led by the infamous \\'Pimp-King\\' Duke. Lt. Crowe, who claims the Japanese are in the process of buying Los Angeles, is recruited to find the daughter. Lt. Crowe and his partner indeed find the daughter, and Lt. Crowe changes his opinions about the Japanese when the Japanese businessman and his wife visit his house bearing gifts. Lt. Crowe\\'s daughter recognizes the Japanese businessman but says nothing. Back at home, the Japanese businessman\\'s daughter cannot cope with what happened to her back in the ring, and commits suicide by an overdose. Lt. Crowe and his partner thus go to find Duke by any means necessary. In the ensuing fight, Duke manages to kill Lt. Crowe\\'s partner, but &ndash; not knowing how to swim &ndash; almost drowns in the process of the fight. Lt. Crowe does answer his calls for help, but arranges for the small, long haired pimp to serve his prison sentence in a particularly harsh environment with multiple muscular, threatening inmates, all of whom make clear their desire to rape him. Lt. Crowe personally escorts the Duke to his cell, then walks away smiling. As Duke screams after him in petrified rage, Crowe looks back and says, \"Now that\\'s justice.\"',\n",
       "  0.9400523)]"
      ]
     },
     "execution_count": 402,
     "metadata": {},
     "output_type": "execute_result"
    }
   ],
   "source": [
    "cosine_similarities_rdd.take(5)"
   ]
  },
  {
   "cell_type": "markdown",
   "metadata": {},
   "source": [
    "Now we lastly need to re-arrange this RDD by using the cosine similarity as a key, amd sort in a descending order"
   ]
  },
  {
   "cell_type": "code",
   "execution_count": 406,
   "metadata": {},
   "outputs": [],
   "source": [
    "key_value_cosine_similarity = cosine_similarities_rdd.\\\n",
    "    map(lambda elem: (elem[2], (elem[0], elem[1]))).cache()"
   ]
  },
  {
   "cell_type": "code",
   "execution_count": 407,
   "metadata": {},
   "outputs": [
    {
     "data": {
      "text/plain": [
       "42207"
      ]
     },
     "execution_count": 407,
     "metadata": {},
     "output_type": "execute_result"
    }
   ],
   "source": [
    "key_value_cosine_similarity.count()"
   ]
  },
  {
   "cell_type": "code",
   "execution_count": 408,
   "metadata": {},
   "outputs": [
    {
     "data": {
      "text/plain": [
       "[(0.82091373,\n",
       "  ('Baby Boy',\n",
       "   'A young 20-year-old named Jody  lives with his mother Juanita ,{{amg movie}} in South Central Los Angeles. He spends most of his time with his unemployed best friend P , and does not seem interested in becoming a responsible adult. However, he is forced to mature as a result of an ex-con named Melvin , who moves into their home. Another factor is his children - a son with his girlfriend Yvette  and a daughter with a girl named Peanut, who also lives with her mother. At the beginning of the movie Yvette has an abortion that Jody forced her to have. Yvette constantly asks Jody if he will ever come live with her and their son, but Jody avoids the subject and comes and goes as he pleases. Jody also continues seeing and having sex with other women, including Peanut. This becomes an issue between him and Yvette as well, especially since Yvette and Peanut do not get along. When she discovers his cheating they get in a heated argument which results to Jody slapping Yvette in the face. After this, Yvette changes the locks on the door. This infuriates Jody and they get into an argument. Their son comes out of his room and runs to the door. Yvette grabs him and cradles him while he yells, \"I wanna see my daddy.\" Eventually, Yvette\\'s gangster ex-boyfriend Rodney  is released from San Quentin State Prison, and returns to the neighborhood to move in with Yvette, much to her dismay. Rodney doesn\\'t care for Yvette and Jody\\'s son and wants to impregnate Yvette himself. Rodney attempts to rape Yvette in front of her son. She tells him, \"So you\\'re really gonna rape me in front of my son\". Rodney pauses for a minute then pushes her son out of the way and walks out of the room. Jody Jr. aka JoJo then says, \"I want my daddy.\" Yvette then cradles her son and replies, \"I know baby, I do too.\" For the next couple of days Yvette lives in fear and disgust of Rodney being there and misses Jody. Rodney, who realizes this, steals the money from her wallet and takes off in her car to go and find Jody. Rodney tries to kill Jody in a drive-by shooting; however, he is unsuccessful with both efforts. After this Yvette kicks Rodney and his friends out of her apartment. While at Sweetpea\\'s house playing cards, Yvette and Sweetpea\\'s girlfriend Kim step outside. Yvette then goes and sits beside Jody. When Jody ignores her she throws the chair back and runs off. Jody goes after her. She then tells Jody about everything she has been going through, even about Rodney trying rape her. Jody then hugs Yvette and says that he\\'s been missing her. Jody and Sweetpea confront Rodney, and as he attempts to escape, Jody shoots him in the ankle. Sweetpea urges Jody to kill Rodney, but he refuses, at which point Sweetpea kills Rodney himself. Feeling guilty for Rodney\\'s death, Jody prepares to commit suicide by shooting himself in the head, but Melvin catches him and takes the gun. After reflecting on the death of Rodney and how he put Yvette and his son in danger by not being around consistently, Jody finally moves out of his mom\\'s house and in with Yvette. They move into a motel after the killing. Jody has now become a mature man, realizing that his mom\\'s relationship with Melvin is a stable one and that he has a family of his own that he needs to protect and take care of. Afterwards, Jody and Yvette get married and she becomes pregnant with Jody\\'s third child and her second child with him. Sweetpea decides to turn over a new life and gets baptized, putting his old life as a street thug behind him.')),\n",
       " (0.8237393,\n",
       "  ('Vandanam',\n",
       "   \"Professor Kurian Fernandez , a convict escapes from jail, along with Raghu , his cell mate. After a failed attempt to chase and nab the duo, the officials draws out several plans to capture both. Police authorities strongly feel that Fernandez will land up in Banglore and may try to meet up with his only daughter. Unnikrishnan  and K.Purushothaman Nair , two inspectors from Kerala police are sent to Bangalore to follow the activities of Gadha , daughter of Fernandez. Upon reaching Bangalore, Unnikrishnan meets Peter ([[Mukesh , his college mate, who is also now an inspector with Karnataka police. Unnikrishnan and Peter makes up a team and sidelines Purushothaman Nair, who struggles hard to cope up with Kannada language. The police team stays at a room just opposite to where Gadha stays as a paying guests. Gadha, working at an advertisement agency as a copy writer is staying along with Maggie Aunty , who is constantly in fight with her son . Unnikrishnan and Peter, who are born flirts, are more interested in drinking and playing cards than investigation. K.P.Nair tries to report this to the authorities, but fails in getting both in control. Unnikrishnan slowly develops a crush towards Gadha, which gets transformed into a full fledged passion, but Gadha never accepts it. Unni befriends with Maggie aunty and tries all ways to woo Gadha. Meanwhile Unni and Peter finds out that Fernandez is in the city and is constantly in touch with Gadha. The police commissioner  is in all efforts to nab Fernandez. Unnikrishnan decides to use Gadha to reach out Fernandez. Gadha reveals to Unni about the past of Fernandez, when he was a college professor, who was loved and cared by the students. The sincere professor questioned the college authorities on many administration malpractices, which made him a dust in their eyes. The son of the police commissioner was punished by professor, which led to serious fracas in college and authorities were forced to take action on him under severe protests from students. In retaliation, he attacked professor while traveling with a female student. The girl got raped and killed and professor was falsely convicted in the case. Now, professor is out of jail to avenge on it. Unnikrishnan tries to convince professor with the help of Gadha, but he fails to give up. Meanwhile, an old man, who is a client of the ad agency, where Gadha works, likes her and asks her to join him as his secretary abroad. Gadha, who had by then developed a soft feeling towards Unni lets him to bring his mother  to see her. At the same time, Professor succeeds in killing the son of the commissioner. He orders a shoot at sight at Fernandez. Professor goes berserk and looses mental stability and decides to plant a bomb at the city stadium, which might kill hundreds of civilians. Unnikrishnan asks Gadha to make him give up this heinous plan, but he refuses. That evening, Fernandez plants a bomb, but police team under Unnikrishnan corners him and takes him to the tower. Professor, despite repeated requests denies to explain how defuse the bomb. But Unnikrishnan successfully defuses the bomb, thereby saving the lives of hundreds. But Gadha, who actually wanted to join with Unni, couldn't join with him and decides to go with the old man to London. The film ends with both the cars with Gadha and Unni stopping at a junction, when the signal turns green, they move to opposite roads.\")),\n",
       " (0.88988847,\n",
       "  ('Daddy and Them',\n",
       "   \"Ruby and Claude Montgomery are a very insecure and jealous couple, who must help when Claude's Uncle Hazel is jailed for attempted murder. An Arkansan family reunites as they travel with Ruby's older sister Rose, with whom Claude had a previous relationship, and Ruby and Rose's mother Jewel, who continuously talks about Rose and Claude's past relationship, which irritates Ruby.\")),\n",
       " (0.92047125,\n",
       "  ('Rudo y Cursi',\n",
       "   \"In the fictional farming village of Tlachtlán, in the Cihuatlán Valley of Jalisco, Mexico, young men dream of escaping the drudgery of the banana plantations. Two of them, a pair of half-brothers, play in local soccer matches. Tato  is the star striker and Beto  is the eccentric goalkeeper. During one match they are spotted by a talent scout  and he offers one of them the opportunity to go to Mexico City with him and try out for one of the country's big teams. As the scout's roster is already full, he says he can only take one of the brothers and they decide to settle it on a penalty shot. Tato scores the penalty against his brother therefore earning the right to head to the capital. After a slow start Tato finally makes it big and earns the nickname 'Cursi' . His brother soon follows and joins a rival team where he is given the nickname 'Rudo' . Cursi becomes a national hero and starts dating Maya Vega , a famous model, whilst his brother struggles with life in the city and misses his family back home. Things start to go worse for the brothers. Tato loses both his woman and his goal scoring touch while his brother gets lured into a world of cocaine and gambling. It becomes clear that the drug cartels own everything. Their sister back home marries the local drug lord, Don Casimiro, whose far-reaching tentacles eventually affect the whole family. Everything finally depends upon one match as the two brothers come face to face. Cursi is threatened with demotion to Division 2 if he fails to score in this match; Rudo must throw the match in order to pay off his gambling debts or he will be killed. In the last minute Rudo saves a penalty from Tato and the match finishes goalless. Cursi quits football and returns home, and Rudo is shot, losing a leg and ending his career. They both end up back in Tlachtlán with their family where the simpler lifestyle seems to better suit them.\")),\n",
       " (0.9400523,\n",
       "  ('Kinjite: Forbidden Subjects',\n",
       "   'A Japanese businessman sees a woman being groped in a crowded Tokyo subway. He is interested to see how she would rather moan silently, involuntary orgasm than let people know she is being groped. When he is transferred to Los Angeles, the Japanese businessman tries to imitate what he saw by groping who happens to be Lt. Crowe \\'s daughter. But unlike in Japan, the American woman raises a commotion and makes him run away in embarrassment. Meanwhile, the daughter of the same Japanese businessman is kidnapped into a child prostitution ring led by the infamous \\'Pimp-King\\' Duke. Lt. Crowe, who claims the Japanese are in the process of buying Los Angeles, is recruited to find the daughter. Lt. Crowe and his partner indeed find the daughter, and Lt. Crowe changes his opinions about the Japanese when the Japanese businessman and his wife visit his house bearing gifts. Lt. Crowe\\'s daughter recognizes the Japanese businessman but says nothing. Back at home, the Japanese businessman\\'s daughter cannot cope with what happened to her back in the ring, and commits suicide by an overdose. Lt. Crowe and his partner thus go to find Duke by any means necessary. In the ensuing fight, Duke manages to kill Lt. Crowe\\'s partner, but &ndash; not knowing how to swim &ndash; almost drowns in the process of the fight. Lt. Crowe does answer his calls for help, but arranges for the small, long haired pimp to serve his prison sentence in a particularly harsh environment with multiple muscular, threatening inmates, all of whom make clear their desire to rape him. Lt. Crowe personally escorts the Duke to his cell, then walks away smiling. As Duke screams after him in petrified rage, Crowe looks back and says, \"Now that\\'s justice.\"'))]"
      ]
     },
     "execution_count": 408,
     "metadata": {},
     "output_type": "execute_result"
    }
   ],
   "source": [
    "key_value_cosine_similarity.take(5)"
   ]
  },
  {
   "cell_type": "markdown",
   "metadata": {},
   "source": [
    "Let's sort in a descending order"
   ]
  },
  {
   "cell_type": "code",
   "execution_count": 409,
   "metadata": {},
   "outputs": [],
   "source": [
    "key_value_cosine_similarity_sorted= key_value_cosine_similarity.sortByKey(ascending=False).cache()"
   ]
  },
  {
   "cell_type": "code",
   "execution_count": 411,
   "metadata": {},
   "outputs": [
    {
     "data": {
      "text/plain": [
       "42207"
      ]
     },
     "execution_count": 411,
     "metadata": {},
     "output_type": "execute_result"
    }
   ],
   "source": [
    "key_value_cosine_similarity_sorted.count()"
   ]
  },
  {
   "cell_type": "code",
   "execution_count": 413,
   "metadata": {},
   "outputs": [
    {
     "data": {
      "text/plain": [
       "[(0.96951896,\n",
       "  ('The Big Clock',\n",
       "   'The story is told in flashback. When it begins, George Stroud , editor-in-chief of Crimeways magazine, is shown hiding from building security behind the \"big clock\" ― the largest and most sophisticated one ever built, which dominates the lobby of the giant publishing company where he works, Janoth Publications in New York City. Stroud is eager to spend more time with his wife  and plans a long-postponed vacation from his job. He sticks to those plans despite being fired for it by his tyrannical publishing boss, Earl Janoth . Instead of meeting his wife at the train station as planned, however, Stroud finds himself preoccupied with the attention being shown him by Janoth\\'s glamorous mistress, Pauline York , who proposes a blackmail plan against Janoth. When Stroud misses their scheduled train, his wife angrily leaves without him, so he begins drinking and spends the evening out on the town with York. Later that night, Janoth spots a man leaving York\\'s apartment, but does not get a clear enough look at him to see that it is Stroud. Although Stroud\\'s evening with York had ended platonically, Janoth assumes otherwise, leading to a quarrel which ends when he murders her. Janoth determines to locate the man he had seen leaving the apartment and then frame that man for the crime. Ironically, Janoth re-hires Stroud to lead the effort to find the man. Stroud then must balance the tasks of outwardly appearing to diligently lead Janoth\\'s investigation and, at the same time, trying to prevent that investigation from uncovering the fact that it is he who is the very target of it. Meanwhile, he must also secretly carry out his own investigation to gather the evidence necessary to prove who the real murderer is.')),\n",
       " (0.96862507,\n",
       "  ('The Hungry Bachelors Club',\n",
       "   \"Delmar Youngblood is a single mother with a passion for cooking; she dreams of opening her own restaurant called Food for the Heart, but in reality has a low-paid job as an insurance adjuster. Her best friend and roommate Hortense believes she would be a perfect wife for lawyer Stanley Diggers, though he wishes to advance his career before making a commitment. With their culinary talents and gift for hospitality, the two women host regular dinner parties for an assortment of family and friends. These include Jethro, Delmar's brother, who is a Mayan anthropology professor with an obsession for vintage Cadillacs, and his best friend Marlon, a freelance writer. There is also their pianist mother, Hannibal Youngblood, and her boyfiend, Mr. Ringold. When a friend of Hannibal's unexpectedly dies on one of these gatherings, her estranged daughter Missy Bainbridge comes to collect the body, and strikes up a relationship with Jethro. While searching through a junkyard to rescue a doomed Cadillac, Jethro and Marlon meet and befriend Moses Grady, a former convict who joins the gang and finds new purpose when he becomes attached to Delmar and her dream. Things get serious when Stanley makes Delmar an offer: he wants her to become a surrogate mother on behalf of his bigoted boss Mr. Spinner, whose wife is unable to conceive. This arrangement would provide Delmar with the money she needs to open her restauarant, make Stanley a partner in his law firm, and give Hortense the engagement ring she craves. Delmar accepts, and opens her restaurant in partnership with Moses, but in the third trimester she decides to keep the baby.\")),\n",
       " (0.9672545,\n",
       "  ('Baywatch the Movie: Forbidden Paradise',\n",
       "   \"Baywatch lifeguards Mitch, Stephanie, C.J., Matt, Caroline and Logan travel to Oahu, Hawaii for a vacation and get caught up in a series of misadventures. Stephanie teamed up with a local lifeguard. Logan became obsessed with competing in a surfing competition which left no time for his girlfriend and fellow lifeguard Caroline. C.J. was called back to Baywatch, while Mitch and Matt took a boat trip to a remote part of Kauai where they were stranded after Matt was stung by a poisonous scorpion fish, and then they were captured in a remote village of local Hawaiians who had gone native. It also serves as David Charvet's last Baywatch appearance, spelling an end to his popular character Matt Brody.\")),\n",
       " (0.96722764,\n",
       "  ('They All Laughed',\n",
       "   \"A romantic comedy, They All Laughed is set in New York City, largely filmed outdoors on the streets, and tells the story of three private detectives investigating two beautiful women for infidelity. The detectives eventually wind up romantically pursuing the women, who turn the tables on them. They All Laughed is an updating of La Ronde, both in tone and theme. Detective John Russo  attempts to cheat on his girlfriend, country singer Christy Miller , with a blonde taxi driver , with the connivance of his colleague Arthur Brodsky . He has met the taxi driver en route from a meeting in which he's been assigned to follow Angela Niotes , wife of a European tycoon. Detective Charles Rutledge  falls in love with Dolores Martin , whose husband has also hired him to spy on her. Rutledge is cautioned against this infatuation by his buddy Arthur. Feeling slighted by Russo's infidelity, Christy Miller throws herself at Rutledge but she ultimately falls in love with Dolores Martin's extramarital paramour Jose . Russo's pursuit of Angela leads him to fall in love with her.\")),\n",
       " (0.96685284,\n",
       "  ('We Married Margo',\n",
       "   'Margo  is a woman from New Jersey who marries a fellow New Jersey native Jake . After it becomes evident that their marriage will not last, the two are divorced and Margo is remarried, this time to Rock ([[William Dozier , a California surfer. However, this marriage does not last long either and they are quickly divorced. Jake and Rock were previously introduced to each other by Margo and, after they are both divorced from her, they form a friendship and live as roommates. The two have very little in common except for the fact that they married and divorced the same woman. They become best friends, even though they constantly irritate each other, and they decide to write a film based on their experience of being married to Margo. During their work on the project, they meet many more people just like them whose lives were impacted by Margo.'))]"
      ]
     },
     "execution_count": 413,
     "metadata": {},
     "output_type": "execute_result"
    }
   ],
   "source": [
    "key_value_cosine_similarity_sorted.take(5)"
   ]
  },
  {
   "cell_type": "markdown",
   "metadata": {},
   "source": [
    "Now let's generate the top 5 recommendations for our user"
   ]
  },
  {
   "cell_type": "code",
   "execution_count": 419,
   "metadata": {},
   "outputs": [],
   "source": [
    "def generate_top_n_recommendations(cos_sim_rdd, topn = 5):\n",
    "    \"\"\"\n",
    "    Produces the top N (default 5) suggestions for a user based on her interests.\n",
    "    \"\"\"\n",
    "    \n",
    "    top_n_recommendations = cos_sim_rdd.take(topn)\n",
    "    \n",
    "    for index, elem in enumerate(top_n_recommendations):\n",
    "    \n",
    "        print('---------------------------')\n",
    "        print(f'Recommendation no.{index+1}:')\n",
    "        print()\n",
    "        print(f'Title: {elem[1][0]}')\n",
    "        print()\n",
    "        print(f'Summary:\\n{elem[1][1]}')"
   ]
  },
  {
   "cell_type": "code",
   "execution_count": 420,
   "metadata": {},
   "outputs": [
    {
     "name": "stdout",
     "output_type": "stream",
     "text": [
      "---------------------------\n",
      "Recommendation no.1:\n",
      "\n",
      "Title: The Big Clock\n",
      "\n",
      "Summary:\n",
      "The story is told in flashback. When it begins, George Stroud , editor-in-chief of Crimeways magazine, is shown hiding from building security behind the \"big clock\" ― the largest and most sophisticated one ever built, which dominates the lobby of the giant publishing company where he works, Janoth Publications in New York City. Stroud is eager to spend more time with his wife  and plans a long-postponed vacation from his job. He sticks to those plans despite being fired for it by his tyrannical publishing boss, Earl Janoth . Instead of meeting his wife at the train station as planned, however, Stroud finds himself preoccupied with the attention being shown him by Janoth's glamorous mistress, Pauline York , who proposes a blackmail plan against Janoth. When Stroud misses their scheduled train, his wife angrily leaves without him, so he begins drinking and spends the evening out on the town with York. Later that night, Janoth spots a man leaving York's apartment, but does not get a clear enough look at him to see that it is Stroud. Although Stroud's evening with York had ended platonically, Janoth assumes otherwise, leading to a quarrel which ends when he murders her. Janoth determines to locate the man he had seen leaving the apartment and then frame that man for the crime. Ironically, Janoth re-hires Stroud to lead the effort to find the man. Stroud then must balance the tasks of outwardly appearing to diligently lead Janoth's investigation and, at the same time, trying to prevent that investigation from uncovering the fact that it is he who is the very target of it. Meanwhile, he must also secretly carry out his own investigation to gather the evidence necessary to prove who the real murderer is.\n",
      "---------------------------\n",
      "Recommendation no.2:\n",
      "\n",
      "Title: The Hungry Bachelors Club\n",
      "\n",
      "Summary:\n",
      "Delmar Youngblood is a single mother with a passion for cooking; she dreams of opening her own restaurant called Food for the Heart, but in reality has a low-paid job as an insurance adjuster. Her best friend and roommate Hortense believes she would be a perfect wife for lawyer Stanley Diggers, though he wishes to advance his career before making a commitment. With their culinary talents and gift for hospitality, the two women host regular dinner parties for an assortment of family and friends. These include Jethro, Delmar's brother, who is a Mayan anthropology professor with an obsession for vintage Cadillacs, and his best friend Marlon, a freelance writer. There is also their pianist mother, Hannibal Youngblood, and her boyfiend, Mr. Ringold. When a friend of Hannibal's unexpectedly dies on one of these gatherings, her estranged daughter Missy Bainbridge comes to collect the body, and strikes up a relationship with Jethro. While searching through a junkyard to rescue a doomed Cadillac, Jethro and Marlon meet and befriend Moses Grady, a former convict who joins the gang and finds new purpose when he becomes attached to Delmar and her dream. Things get serious when Stanley makes Delmar an offer: he wants her to become a surrogate mother on behalf of his bigoted boss Mr. Spinner, whose wife is unable to conceive. This arrangement would provide Delmar with the money she needs to open her restauarant, make Stanley a partner in his law firm, and give Hortense the engagement ring she craves. Delmar accepts, and opens her restaurant in partnership with Moses, but in the third trimester she decides to keep the baby.\n",
      "---------------------------\n",
      "Recommendation no.3:\n",
      "\n",
      "Title: Baywatch the Movie: Forbidden Paradise\n",
      "\n",
      "Summary:\n",
      "Baywatch lifeguards Mitch, Stephanie, C.J., Matt, Caroline and Logan travel to Oahu, Hawaii for a vacation and get caught up in a series of misadventures. Stephanie teamed up with a local lifeguard. Logan became obsessed with competing in a surfing competition which left no time for his girlfriend and fellow lifeguard Caroline. C.J. was called back to Baywatch, while Mitch and Matt took a boat trip to a remote part of Kauai where they were stranded after Matt was stung by a poisonous scorpion fish, and then they were captured in a remote village of local Hawaiians who had gone native. It also serves as David Charvet's last Baywatch appearance, spelling an end to his popular character Matt Brody.\n",
      "---------------------------\n",
      "Recommendation no.4:\n",
      "\n",
      "Title: They All Laughed\n",
      "\n",
      "Summary:\n",
      "A romantic comedy, They All Laughed is set in New York City, largely filmed outdoors on the streets, and tells the story of three private detectives investigating two beautiful women for infidelity. The detectives eventually wind up romantically pursuing the women, who turn the tables on them. They All Laughed is an updating of La Ronde, both in tone and theme. Detective John Russo  attempts to cheat on his girlfriend, country singer Christy Miller , with a blonde taxi driver , with the connivance of his colleague Arthur Brodsky . He has met the taxi driver en route from a meeting in which he's been assigned to follow Angela Niotes , wife of a European tycoon. Detective Charles Rutledge  falls in love with Dolores Martin , whose husband has also hired him to spy on her. Rutledge is cautioned against this infatuation by his buddy Arthur. Feeling slighted by Russo's infidelity, Christy Miller throws herself at Rutledge but she ultimately falls in love with Dolores Martin's extramarital paramour Jose . Russo's pursuit of Angela leads him to fall in love with her.\n",
      "---------------------------\n",
      "Recommendation no.5:\n",
      "\n",
      "Title: We Married Margo\n",
      "\n",
      "Summary:\n",
      "Margo  is a woman from New Jersey who marries a fellow New Jersey native Jake . After it becomes evident that their marriage will not last, the two are divorced and Margo is remarried, this time to Rock ([[William Dozier , a California surfer. However, this marriage does not last long either and they are quickly divorced. Jake and Rock were previously introduced to each other by Margo and, after they are both divorced from her, they form a friendship and live as roommates. The two have very little in common except for the fact that they married and divorced the same woman. They become best friends, even though they constantly irritate each other, and they decide to write a film based on their experience of being married to Margo. During their work on the project, they meet many more people just like them whose lives were impacted by Margo.\n"
     ]
    }
   ],
   "source": [
    "generate_top_n_recommendations(key_value_cosine_similarity_sorted)"
   ]
  },
  {
   "cell_type": "code",
   "execution_count": 421,
   "metadata": {},
   "outputs": [
    {
     "name": "stdout",
     "output_type": "stream",
     "text": [
      "---------------------------\n",
      "Recommendation no.1:\n",
      "\n",
      "Title: The Big Clock\n",
      "\n",
      "Summary:\n",
      "The story is told in flashback. When it begins, George Stroud , editor-in-chief of Crimeways magazine, is shown hiding from building security behind the \"big clock\" ― the largest and most sophisticated one ever built, which dominates the lobby of the giant publishing company where he works, Janoth Publications in New York City. Stroud is eager to spend more time with his wife  and plans a long-postponed vacation from his job. He sticks to those plans despite being fired for it by his tyrannical publishing boss, Earl Janoth . Instead of meeting his wife at the train station as planned, however, Stroud finds himself preoccupied with the attention being shown him by Janoth's glamorous mistress, Pauline York , who proposes a blackmail plan against Janoth. When Stroud misses their scheduled train, his wife angrily leaves without him, so he begins drinking and spends the evening out on the town with York. Later that night, Janoth spots a man leaving York's apartment, but does not get a clear enough look at him to see that it is Stroud. Although Stroud's evening with York had ended platonically, Janoth assumes otherwise, leading to a quarrel which ends when he murders her. Janoth determines to locate the man he had seen leaving the apartment and then frame that man for the crime. Ironically, Janoth re-hires Stroud to lead the effort to find the man. Stroud then must balance the tasks of outwardly appearing to diligently lead Janoth's investigation and, at the same time, trying to prevent that investigation from uncovering the fact that it is he who is the very target of it. Meanwhile, he must also secretly carry out his own investigation to gather the evidence necessary to prove who the real murderer is.\n",
      "---------------------------\n",
      "Recommendation no.2:\n",
      "\n",
      "Title: The Hungry Bachelors Club\n",
      "\n",
      "Summary:\n",
      "Delmar Youngblood is a single mother with a passion for cooking; she dreams of opening her own restaurant called Food for the Heart, but in reality has a low-paid job as an insurance adjuster. Her best friend and roommate Hortense believes she would be a perfect wife for lawyer Stanley Diggers, though he wishes to advance his career before making a commitment. With their culinary talents and gift for hospitality, the two women host regular dinner parties for an assortment of family and friends. These include Jethro, Delmar's brother, who is a Mayan anthropology professor with an obsession for vintage Cadillacs, and his best friend Marlon, a freelance writer. There is also their pianist mother, Hannibal Youngblood, and her boyfiend, Mr. Ringold. When a friend of Hannibal's unexpectedly dies on one of these gatherings, her estranged daughter Missy Bainbridge comes to collect the body, and strikes up a relationship with Jethro. While searching through a junkyard to rescue a doomed Cadillac, Jethro and Marlon meet and befriend Moses Grady, a former convict who joins the gang and finds new purpose when he becomes attached to Delmar and her dream. Things get serious when Stanley makes Delmar an offer: he wants her to become a surrogate mother on behalf of his bigoted boss Mr. Spinner, whose wife is unable to conceive. This arrangement would provide Delmar with the money she needs to open her restauarant, make Stanley a partner in his law firm, and give Hortense the engagement ring she craves. Delmar accepts, and opens her restaurant in partnership with Moses, but in the third trimester she decides to keep the baby.\n",
      "---------------------------\n",
      "Recommendation no.3:\n",
      "\n",
      "Title: Baywatch the Movie: Forbidden Paradise\n",
      "\n",
      "Summary:\n",
      "Baywatch lifeguards Mitch, Stephanie, C.J., Matt, Caroline and Logan travel to Oahu, Hawaii for a vacation and get caught up in a series of misadventures. Stephanie teamed up with a local lifeguard. Logan became obsessed with competing in a surfing competition which left no time for his girlfriend and fellow lifeguard Caroline. C.J. was called back to Baywatch, while Mitch and Matt took a boat trip to a remote part of Kauai where they were stranded after Matt was stung by a poisonous scorpion fish, and then they were captured in a remote village of local Hawaiians who had gone native. It also serves as David Charvet's last Baywatch appearance, spelling an end to his popular character Matt Brody.\n",
      "---------------------------\n",
      "Recommendation no.4:\n",
      "\n",
      "Title: They All Laughed\n",
      "\n",
      "Summary:\n",
      "A romantic comedy, They All Laughed is set in New York City, largely filmed outdoors on the streets, and tells the story of three private detectives investigating two beautiful women for infidelity. The detectives eventually wind up romantically pursuing the women, who turn the tables on them. They All Laughed is an updating of La Ronde, both in tone and theme. Detective John Russo  attempts to cheat on his girlfriend, country singer Christy Miller , with a blonde taxi driver , with the connivance of his colleague Arthur Brodsky . He has met the taxi driver en route from a meeting in which he's been assigned to follow Angela Niotes , wife of a European tycoon. Detective Charles Rutledge  falls in love with Dolores Martin , whose husband has also hired him to spy on her. Rutledge is cautioned against this infatuation by his buddy Arthur. Feeling slighted by Russo's infidelity, Christy Miller throws herself at Rutledge but she ultimately falls in love with Dolores Martin's extramarital paramour Jose . Russo's pursuit of Angela leads him to fall in love with her.\n",
      "---------------------------\n",
      "Recommendation no.5:\n",
      "\n",
      "Title: We Married Margo\n",
      "\n",
      "Summary:\n",
      "Margo  is a woman from New Jersey who marries a fellow New Jersey native Jake . After it becomes evident that their marriage will not last, the two are divorced and Margo is remarried, this time to Rock ([[William Dozier , a California surfer. However, this marriage does not last long either and they are quickly divorced. Jake and Rock were previously introduced to each other by Margo and, after they are both divorced from her, they form a friendship and live as roommates. The two have very little in common except for the fact that they married and divorced the same woman. They become best friends, even though they constantly irritate each other, and they decide to write a film based on their experience of being married to Margo. During their work on the project, they meet many more people just like them whose lives were impacted by Margo.\n",
      "---------------------------\n",
      "Recommendation no.6:\n",
      "\n",
      "Title: The Great Northfield Minnesota Raid\n",
      "\n",
      "Summary:\n",
      "In the mid-1870s, outlaws Jesse James, Cole Younger and their brothers are granted amnesty by the Missouri legislature, sympathetic to the troubles created for all citizens by the Civil War. The bankers victimized by the James and Younger gangs are vehemently opposed to this action and hire a Pinkerton agent to follow the outlaws' every move. Younger has put aside plans to rob a bank in Northfield, Minnesota, said to be the largest west of the Mississippi River. The job appeals, however, to Jesse and Frank James, who have no intention of changing the way they make a living. Cole is ambushed by the Pinkerton's agent men, who use a prostitute as bait. And when the bankers succeed in overturning the amnesty by bribing the politicians, Cole travels by train to Minnesota to check out the bank. Once there, Cole discovers that townspeople are unwilling to risk placing their money in the bank due to concerns over its safety from thieves. Jesse, Frank, and their men arrive on horseback and, together with Cole, persuade the locals that a gold shipment is on its way, being delivered to the bank because it is supposed to be the safest possible place for it. Once the citizens begin banking their money, the robbery commences. Many things go wrong though, including one outlaw being locked inside a vault. Younger and his men flee to a nearby farm, but a posse tracks and apprehends them. The James brothers get away. But, when Jesse mentions to Frank his intention to permit Bob Ford to join the gang back in Missouri, his fate is sealed.\n",
      "---------------------------\n",
      "Recommendation no.7:\n",
      "\n",
      "Title: Once in a Lifetime\n",
      "\n",
      "Summary:\n",
      "Daphne Fields is a world famous novelist from New York City who one night is hit by a car. She falls into a coma and her memory flashes back to eight years earlier, when she was happily married to Jeffrey and had a loving daughter, Aimee. Her perfect life had subsequently fallen into pieces when she suddenly loses her husband and daughter in a fire. Nine months later, she gives birth to a son, Andrew, who turns out to be deaf. Daphne decides to learn sign language and is tutored by Dr. Matthew Dane, an educator for the deaf. Inspired by her loss, she starts writing a novel called Autumn Years. Daphne grows to be an overprotective mother. Unwilling to enroll her son in a New York public school, she enters him in a special boarding school for deaf children, headed by Matthew Dane and located in New Hampshire. Able to focus on her freelance writing career, she makes her literary debut with a bestseller and hires her best friend Barbara as her assistant. She refuses to do any promotion or tours, though, so that she will be free to visit her son at any time. She often visits his school and grows close to its principal. She keeps herself from becoming involved with him, though, feeling that she should remain faithful to Jeffrey. Meanwhile, she learns that the rights of her second novel Apache have been sold and that it will be turned into a movie. She reluctantly heads to Hollywood, where she falls in love with Justin Wakefield, who is starring in the film adaption. After one romantic night, he tells her that he is in love with her. She loves him also, but soon notices that he takes little interest in her home life and is not enthusiastic about meeting Andrew. Nevertheless, she accepts his marriage proposal and considers locating to Los Angeles with her son. Upset over Justin's lifestyle, coming and going when he feels like it and refusing to be a traditional husband, Daphne breaks off the engagement. She returns home to declare her love to Matthew, but sees him with another woman and misinterprets their relationship. The flashbacks end and the movie forwards to the present. Matthew rushes to the hospital to see Daphne, who still is in a coma. As she awakens, he admits that he is in love with her, and they get engaged.\n",
      "---------------------------\n",
      "Recommendation no.8:\n",
      "\n",
      "Title: I Love Melvin\n",
      "\n",
      "Summary:\n",
      "Small-time actress Judy Schneider dreams of becoming a Hollywood star even as she struggles along playing a human football in a kitschy Broadway musical. One day in Central Park she bumps into Melvin, the bumbling assistant to a Look magazine photographer. Melvin is smitten with Judy and endures disapproval from her father who wants her to marry Harry Flack, the boring heir to a paper box company. He exaggerates his importance at the magazine in order to impress Judy and her family and promises to get her on the cover, using the photo shoots as an excuse to spend time with her. His charade is exposed when her picture doesn't appear on the cover and she discovers that he is just a lowly assistant. Too ashamed to face her, Melvin abandons his job and disappears into Central Park. While hiding in the Park he sees Judy's picture on the cover of Look and discovers that the editor made her a cover girl so he would see it and come out of hiding.\n",
      "---------------------------\n",
      "Recommendation no.9:\n",
      "\n",
      "Title: Beau James\n",
      "\n",
      "Summary:\n",
      "In 1925, New York's governor, Al Smith, persuades state senator James J. \"Jimmy\" Walker that the Democratic Party needs him to run for mayor of New York City. A concern on Jimmy's part is his estrangement from wife Allie, but he discovers that she is willing to go along with his political aims. Under the guidance of Chris Nolan, his political mentor, Jimmy wins the election in a landslide. He later learns, though, that Allie has no intention of renewing their relationship. She is simply satisfied to be the great city's first lady. A drunken Jimmy is found on a park bench by Betty Compton, who takes him home, not knowing who he is. She scolds him for his behavior upon learning Jimmy is the mayor, and a mutual attraction develops. He uses his political connections to help find her a job. Such favors and graft become a focal point in 1929's reelection campaign, when opponent Fiorello LaGuardia mocks the mayor publicly and questions the current administration's integrity. Jimmy also goes bankrupt due to the stock market's crash, and Betty grows despondent over his inability or unwillingness to get Allie to consent to a divorce. Still popular with the public, Jimmy is reelected. He tries to bring Betty to his victory party, but it is against his colleagues' wishes. Tired of being hidden, Betty attempts suicide. She is hustled out of the country by Chris and impulsively marries a man who has been courting her. The charges against Jimmy lead fellow Democrats to believe he could hurt Franklin D. Roosevelt's presidential hopes for 1932. Jimmy admits to having accepted bribes and favors, claiming all successful politicians do. His popularity erodes. Spectators at a Yankee Stadium baseball game boo him for the first time. Jimmy offers his resignation as mayor in a speech from the field. He decides to leave New York forever, whereupon Betty, after a quick divorce, intends to join him, married or not.\n",
      "---------------------------\n",
      "Recommendation no.10:\n",
      "\n",
      "Title: My Geisha\n",
      "\n",
      "Summary:\n",
      "Paul Robaix , a famous director, wants to shoot a film in Japan inspired by Madama Butterfly. His wife, an actress named Lucy Dell , has been the leading lady in all of his greatest films, and she is more famous. He feels that she overshadows him and he would like to achieve success independent of her. By choosing to film Madame Butterfly, he can select a different leading lady without hurting her feelings, because she, as a blue eyed, red headed woman, would not be suitable to play a Japanese woman. As a surprise, she visits him in Japan while he's searching for a leading lady. To surprise him further, she disguises herself as a geisha at a dinner party, planning to unveil her identity during the meal. But she is delighted to discover that everyone at the dinner party, including her husband, believes her to be a Japanese woman. When she learns that the studio has decided to only give her husband enough funds to film the movie in black and white because there are no big stars in the film, she decides that she will audition for the role of Butterfly, without telling her husband, but that the studio will know and therefore give him the budget he needs to make the film he wants. She gets the part and is wonderful. Through the course of the film Lucy Dell begins to become concerned that Yoko will steal her husbands affections. Though he never did develop feelings for \"Yoko\". When viewing the film's negatives, with the colors reversed, he figures out her duplicity and, thinking she is doing it to steal credit from him so that once again he will not get the artistic praise he deserves, he becomes furious. To retaliate, he decides to proposition Yoko. Greatly distressed, she flees. Paul then entertains the idea of divorce for what he sees as him being betrayed by his wife. Their \"reunion\" before the premiere is cold, Paul believing she will expose her identity there for betraying him, and Lucy believing that Paul was trying to sleep with Yoko. Her original plan was, at the end of the premiere, to reveal Yoko's true identity, which will astound Hollywood and practically guarantee her an Oscar. Instead, her then trusted friend, Kazumi, gives her a present of a fan that was owned by a very popular geisha. The fan was inscribed with the saying: \"No one before you, my husband, not even I.\" So, she takes off her geisha makeup, appears as herself, tells everyone that Yoko went into a convent and will no longer be performing, and keeps her identity secret. She and her husband reconcile when he informs Lucy that he knew she was Yoko.\n"
     ]
    }
   ],
   "source": [
    "generate_top_n_recommendations(key_value_cosine_similarity_sorted, topn=10)"
   ]
  }
 ],
 "metadata": {
  "kernelspec": {
   "display_name": "Python 3",
   "language": "python",
   "name": "python3"
  },
  "language_info": {
   "codemirror_mode": {
    "name": "ipython",
    "version": 3
   },
   "file_extension": ".py",
   "mimetype": "text/x-python",
   "name": "python",
   "nbconvert_exporter": "python",
   "pygments_lexer": "ipython3",
   "version": "3.7.0"
  }
 },
 "nbformat": 4,
 "nbformat_minor": 2
}
