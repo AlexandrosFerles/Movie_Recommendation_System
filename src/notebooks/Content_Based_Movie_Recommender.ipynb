{
 "cells": [
  {
   "cell_type": "markdown",
   "metadata": {},
   "source": [
    "## Content Based Movie Recommendation System\n",
    "\n",
    "This notebook includes a Movie Recommendation system based on the Movie Summary Corpus Dataset."
   ]
  },
  {
   "cell_type": "markdown",
   "metadata": {},
   "source": [
    "#### Imports "
   ]
  },
  {
   "cell_type": "code",
   "execution_count": 1,
   "metadata": {},
   "outputs": [],
   "source": [
    "import os"
   ]
  },
  {
   "cell_type": "markdown",
   "metadata": {},
   "source": [
    "#### Load the dataset"
   ]
  },
  {
   "cell_type": "code",
   "execution_count": 2,
   "metadata": {},
   "outputs": [],
   "source": [
    "movie_summary_path = './../../Datasets/Movie_summary'"
   ]
  },
  {
   "cell_type": "code",
   "execution_count": 3,
   "metadata": {},
   "outputs": [
    {
     "name": "stdout",
     "output_type": "stream",
     "text": [
      "README.MD              movie.metadata.tsv     tvtropes.clusters.txt\r\n",
      "README.txt             name.clusters.txt\r\n",
      "character.metadata.tsv plot_summaries.txt\r\n"
     ]
    }
   ],
   "source": [
    "!ls ./../../Datasets/Movie_summary"
   ]
  },
  {
   "cell_type": "code",
   "execution_count": 4,
   "metadata": {},
   "outputs": [],
   "source": [
    "movies = sc.textFile(os.path.join(movie_summary_path, 'movie.metadata.tsv'))"
   ]
  },
  {
   "cell_type": "code",
   "execution_count": 5,
   "metadata": {},
   "outputs": [
    {
     "name": "stdout",
     "output_type": "stream",
     "text": [
      "There are 81741 in the Movie Summary dataset\n"
     ]
    }
   ],
   "source": [
    "print(f\"There are {movies.count()} in the Movie Summary dataset\")"
   ]
  },
  {
   "cell_type": "code",
   "execution_count": 6,
   "metadata": {},
   "outputs": [
    {
     "data": {
      "text/plain": [
       "['975900\\t/m/03vyhn\\tGhosts of Mars\\t2001-08-24\\t14010832\\t98.0\\t{\"/m/02h40lc\": \"English Language\"}\\t{\"/m/09c7w0\": \"United States of America\"}\\t{\"/m/01jfsb\": \"Thriller\", \"/m/06n90\": \"Science Fiction\", \"/m/03npn\": \"Horror\", \"/m/03k9fj\": \"Adventure\", \"/m/0fdjb\": \"Supernatural\", \"/m/02kdv5l\": \"Action\", \"/m/09zvmj\": \"Space western\"}',\n",
       " '3196793\\t/m/08yl5d\\tGetting Away with Murder: The JonBenét Ramsey Mystery\\t2000-02-16\\t\\t95.0\\t{\"/m/02h40lc\": \"English Language\"}\\t{\"/m/09c7w0\": \"United States of America\"}\\t{\"/m/02n4kr\": \"Mystery\", \"/m/03bxz7\": \"Biographical film\", \"/m/07s9rl0\": \"Drama\", \"/m/0hj3n01\": \"Crime Drama\"}',\n",
       " '28463795\\t/m/0crgdbh\\tBrun bitter\\t1988\\t\\t83.0\\t{\"/m/05f_3\": \"Norwegian Language\"}\\t{\"/m/05b4w\": \"Norway\"}\\t{\"/m/0lsxr\": \"Crime Fiction\", \"/m/07s9rl0\": \"Drama\"}',\n",
       " '9363483\\t/m/0285_cd\\tWhite Of The Eye\\t1987\\t\\t110.0\\t{\"/m/02h40lc\": \"English Language\"}\\t{\"/m/07ssc\": \"United Kingdom\"}\\t{\"/m/01jfsb\": \"Thriller\", \"/m/0glj9q\": \"Erotic thriller\", \"/m/09blyk\": \"Psychological thriller\"}',\n",
       " '261236\\t/m/01mrr1\\tA Woman in Flames\\t1983\\t\\t106.0\\t{\"/m/04306rv\": \"German Language\"}\\t{\"/m/0345h\": \"Germany\"}\\t{\"/m/07s9rl0\": \"Drama\"}']"
      ]
     },
     "execution_count": 6,
     "metadata": {},
     "output_type": "execute_result"
    }
   ],
   "source": [
    "movies.take(5)"
   ]
  },
  {
   "cell_type": "code",
   "execution_count": 7,
   "metadata": {},
   "outputs": [],
   "source": [
    "summaries = sc.textFile(os.path.join(movie_summary_path, 'plot_summaries.txt'))"
   ]
  },
  {
   "cell_type": "code",
   "execution_count": 8,
   "metadata": {},
   "outputs": [
    {
     "name": "stdout",
     "output_type": "stream",
     "text": [
      "There are 42306 summaries avaiable in the Movie Summary dataset\n"
     ]
    }
   ],
   "source": [
    "print(f\"There are {summaries.count()} summaries avaiable in the Movie Summary dataset\")"
   ]
  },
  {
   "cell_type": "code",
   "execution_count": 9,
   "metadata": {},
   "outputs": [
    {
     "data": {
      "text/plain": [
       "[\"23890098\\tShlykov, a hard-working taxi driver and Lyosha, a saxophonist, develop a bizarre love-hate relationship, and despite their prejudices, realize they aren't so different after all.\",\n",
       " '31186339\\tThe nation of Panem consists of a wealthy Capitol and twelve poorer districts. As punishment for a past rebellion, each district must provide a boy and girl  between the ages of 12 and 18 selected by lottery  for the annual Hunger Games. The tributes must fight to the death in an arena; the sole survivor is rewarded with fame and wealth. In her first Reaping, 12-year-old Primrose Everdeen is chosen from District 12. Her older sister Katniss volunteers to take her place. Peeta Mellark, a baker\\'s son who once gave Katniss bread when she was starving, is the other District 12 tribute. Katniss and Peeta are taken to the Capitol, accompanied by their frequently drunk mentor, past victor Haymitch Abernathy. He warns them about the \"Career\" tributes who train intensively at special academies and almost always win. During a TV interview with Caesar Flickerman, Peeta unexpectedly reveals his love for Katniss. She is outraged, believing it to be a ploy to gain audience support, as \"sponsors\" may provide in-Games gifts of food, medicine, and tools. However, she discovers Peeta meant what he said. The televised Games begin with half of the tributes killed in the first few minutes; Katniss barely survives ignoring Haymitch\\'s advice to run away from the melee over the tempting supplies and weapons strewn in front of a structure called the Cornucopia. Peeta forms an uneasy alliance with the four Careers. They later find Katniss and corner her up a tree. Rue, hiding in a nearby tree, draws her attention to a poisonous tracker jacker nest hanging from a branch. Katniss drops it on her sleeping besiegers. They all scatter, except for Glimmer, who is killed by the insects. Hallucinating due to tracker jacker venom, Katniss is warned to run away by Peeta. Rue cares for Katniss for a couple of days until she recovers. Meanwhile, the alliance has gathered all the supplies into a pile. Katniss has Rue draw them off, then destroys the stockpile by setting off the mines planted around it. Furious, Cato kills the boy assigned to guard it. As Katniss runs from the scene, she hears Rue calling her name. She finds Rue trapped and releases her. Marvel, a tribute from District 1, throws a spear at Katniss, but she dodges the spear, causing it to stab Rue in the stomach instead. Katniss shoots him dead with an arrow. She then comforts the dying Rue with a song. Afterward, she gathers and arranges flowers around Rue\\'s body. When this is televised, it sparks a riot in Rue\\'s District 11. President Snow summons Seneca Crane, the Gamemaker, to express his displeasure at the way the Games are turning out. Since Katniss and Peeta have been presented to the public as \"star-crossed lovers\", Haymitch is able to convince Crane to make a rule change to avoid inciting further riots. It is announced that tributes from the same district can win as a pair. Upon hearing this, Katniss searches for Peeta and finds him with an infected sword wound in the leg. She portrays herself as deeply in love with him and gains a sponsor\\'s gift of soup. An announcer proclaims a feast, where the thing each survivor needs most will be provided. Peeta begs her not to risk getting him medicine. Katniss promises not to go, but after he falls asleep, she heads to the feast. Clove ambushes her and pins her down. As Clove gloats, Thresh, the other District 11 tribute, kills Clove after overhearing her tormenting Katniss about killing Rue. He spares Katniss \"just this time...for Rue\". The medicine works, keeping Peeta mobile. Foxface, the girl from District 5, dies from eating nightlock berries she stole from Peeta; neither knew they are highly poisonous. Crane changes the time of day in the arena to late at night and unleashes a pack of hound-like creatures to speed things up. They kill Thresh and force Katniss and Peeta to flee to the roof of the Cornucopia, where they encounter Cato. After a battle, Katniss wounds Cato with an arrow and Peeta hurls him to the creatures below. Katniss shoots Cato to spare him a prolonged death. With Peeta and Katniss apparently victorious, the rule change allowing two winners is suddenly revoked. Peeta tells Katniss to shoot him. Instead, she gives him half of the nightlock. However, before they can commit suicide, they are hastily proclaimed the victors of the 74th Hunger Games. Haymitch warns Katniss that she has made powerful enemies after her display of defiance. She and Peeta return to District 12, while Crane is locked in a room with a bowl of nightlock berries, and President Snow considers the situation.',\n",
       " \"20663735\\tPoovalli Induchoodan  is sentenced for six years prison life for murdering his classmate. Induchoodan, the only son of Justice Maranchery Karunakara Menon  was framed in the case by Manapally Madhavan Nambiar  and his crony DYSP Sankaranarayanan  to take revenge on idealist judge Menon who had earlier given jail sentence to Manapally in a corruption case. Induchoodan, who had achieved top rank in Indian Civil Service loses the post and Manapally Sudheeran ([[Saikumar  enters the list of civil service trainees. We learn in flashback that it was Ramakrishnan  the son of Moopil Nair , who had actually killed his classmate. Six years passes by and Manapally Madhavan Nambiar, now a former state minister, is dead and Induchoodan, who is all rage at the gross injustice meted out to him - thus destroying his promising life, is released from prison. Induchoodan thwarts Manapally Pavithran  from performing the funeral rituals of Nambiar at Bharathapuzha. Many confrontations between Induchoodan and Manapally's henchmen follow. Induchoodan also falls in love with Anuradha ([[Aishwarya , the strong-willed and independent-minded daughter of Mooppil Nair. Justice Menon and his wife returns back to Kerala to stay with Induchoodan. There is an appearance of a girl named Indulekha ([[Kanaka , who claims to be the daughter of Justice Menon. Menon flatly refuses the claim and banishes her. Forced by circumstances and at the instigation and help of Manapally Pavithran, she reluctantly come out open with the claim. Induchoodan at first thrashes the protesters. But upon knowing the truth from Chandrabhanu his uncle, he accepts the task of her protection in the capacity as elder brother. Induchoodan decides to marry off Indulekha to his good friend Jayakrishnan . Induchoodan has a confrontation with his father and prods him to accept mistake and acknowledge the parentage of Indulekha. Menon ultimately regrets and goes on to confess to his daughter. The very next day, when Induchoodan returns to Poovally, Indulekha is found dead and Menon is accused of murdering her. The whole act was planned by Pavithran, who after killing Indulekha, forces Raman Nair  to testify against Menon in court. In court, Nandagopal Maarar , a close friend of Induchoodan and a famous supreme court lawyer, appears for Menon and manages to lay bare the murder plot and hidden intentions of other party . Menon is judged innocent of the crime by court. After confronting Pavithran and promising just retribution to the crime of killing Indulekha, Induchoodan returns to his father, who now shows remorse for all his actions including not believing in the innocence of his son. But while speaking to Induchoodan, Menon suffers a heart stroke and passes away. At Menon's funeral, Manapally Pavithran arrives to poke fun at Induchoodan and he also tries to carry out the postponed last rituals of his own father. Induchoodan interrupts the ritual and avenges for the death of his sister and father by severely injuring Pavithran. On his way back to peaceful life, Induchoodan accepts Anuradha as his life partner.\",\n",
       " '2231378\\tThe Lemon Drop Kid , a New York City swindler, is illegally touting horses at a Florida racetrack. After several successful hustles, the Kid comes across a beautiful, but gullible, woman intending to bet a lot of money. The Kid convinces her to switch her bet, employing a prefabricated con. Unfortunately for the Kid, the woman \"belongs\" to notorious gangster Moose Moran , as does the money. The Kid\\'s choice finishes dead last and a furious Moran demands the Kid provide him with $10,000  by Christmas Eve, or the Kid \"won\\'t make it to New Year\\'s.\" The Kid decides to return to New York to try to come up with the money. He first tries his on-again, off-again girlfriend Brainy Baxter . However, when talk of long-term commitment arises, the Kid quickly makes an escape. He next visits local crime boss \"Oxford\" Charley , with whom he has had past dealings. This falls through as Charley is in serious tax trouble and does not particularly care for the Kid anyway. As he leaves Charley\\'s establishment and is about to give up hope, the Kid notices a cornerside Santa Claus and his kettle. Thinking quickly, the Kid fashions himself a Santa suit and begins collecting donations. This fails as he is recognized by a passing policeman, who remembers his previous underhanded activity well. The Kid lands in court, where he is convicted of collecting for a charity without a license and sentenced to ten days in jail . However, while in court, the Kid learns where his scheme went wrong. After a short stay, Brainy arrives to bail him out. He then sets about restarting his Santa operation, this time with legitimate backing. To this end, he needs a charity to represent and a city license. The kid receives key inspiration when he remembers that Nellie Thursday , a kindly neighborhood resident, has been denied entry to a retirement home because of her jailed husband\\'s criminal past as a safecracker. Organizing other small-time New York swindlers and Brainy, who is both surprised and charmed at the Kid\\'s apparent goodwill, the Kid converts an abandoned casino  into the \"Nellie Thursday Home For Old Dolls\". A small group of elderly women and makeshift amenities complete the project. The Kid is able to receive the all-important city license. Now free to collect, the Kid and his compatriots dress as Santa Claus and position themselves throughout Manhattan. The others are unaware that the Kid plans to keep the money for himself to pay off Moran. The scheme is a huge success, netting $2,000 in only a few days. An overjoyed Brainy decides to leave her job as a dancer and look after the \"home\" full-time until after Christmas. Coincidentally, her employer is none other than \"Oxford\" Charley, whom Brainy cheerfully informs of the effort. Seeing a potential gold mine, Charley decides to muscle in on the operation. Reasoning that the Nellie Thursday home is \"wherever Nellie Thursday is\", Charley and his crew kidnap the home\\'s inhabitants  and move them to Charley\\'s mansion in Nyack. The Kid learns of this when he returns to the home after a late night to find the home deserted and money  gone. Clued in by oversized Oxford footprints in the snow, the Kid and his friends pay Charley a visit. Here, Charley reveals the true nature of the Kid\\'s scheme through a phone conversation with Moose Moran. The Kid\\'s accomplices are angry and move to confront him, but the Kid manages to slip away. However, Brainy tracks him down outside and voices her disgust at his actions. After a few days of stewing in self-pity , the Kid is surprised to meet Nellie, who has escaped Charley\\'s compound. He decides to recover the money, sneaking into Charley\\'s home in the guise of an elderly woman. He finds that Charley and his crew are again moving the women, this time to a more secure location. Using the heightened activity to his advantage, the Kid enters Charley\\'s office and confronts him. After a brief struggle, the Kid overpowers Charley and makes off with the money, narrowly avoiding the thugs Charley has sent after him. The ensuing chaos allows Brainy and the others to escape. Later that night, the Kid returns to the original Nellie Thursday home to meet with Moose Moran . The deal appears to be in jeopardy as Moran arrives with Charley. Charley demands that the Kid reimburse him, which would leave too little for Moran. However, the Kid turns the tables by hitting a switch, revealing hidden casino tables. All are occupied, mainly by the escaped old dolls. The Kid and his still-loyal friends hold off the gangsters as the police initiate a raid. Moran and Charley are arrested while the judge who sentenced the Kid earlier warns that he will be \"keeping an eye on him\". The Kid assures him that will not be necessary and his attention will lie on the home, which is going to become a reality. The night\\'s main event begins as Nellie\\'s husband Henry, free on parole, joyously reunites with his wife.',\n",
       " '595909\\tSeventh-day Adventist Church pastor Michael Chamberlain, his wife Lindy, their two sons, and their nine-week-old daughter Azaria are on a camping holiday in the Outback. With the baby sleeping in their tent, the family is enjoying a barbecue with their fellow campers when a cry is heard. Lindy returns to the tent to check on Azaria and is certain she sees a dingo with something in its mouth running off as she approaches. When she discovers the infant is missing, everyone joins forces to search for her, without success. It is assumed what Lindy saw was the animal carrying off the child, and a subsequent inquest rules her account of events is true. The tide of public opinion soon turns against the Chamberlains. For many, Lindy seems too stoic, too cold-hearted, and too accepting of the disaster that has befallen her. Gossip about her begins to swell and soon is accepted as statements of fact. The couple\\'s beliefs are not widely practised in the country, and when the media report a rumour that the name Azaria means \"sacrifice in the wilderness\" , the public is quick to believe they decapitated their baby with a pair of scissors as part of a bizarre religious rite. Law-enforcement officials find new witnesses, forensics experts, and a lot of circumstantial evidence—including a small wooden coffin Michael uses as a receptacle for his parishioners\\' packs of un-smoked cigarettes—and reopen the investigation, and eventually Lindy is charged with murder. Seven months pregnant, she ignores her attorneys\\' advice to play on the jury\\'s sympathy and appears emotionless on the stand, convincing onlookers she is guilty of the crime of which she is accused. As the trial progresses, Michael\\'s faith in his religion and his belief in his wife disintegrate, and he stumbles through his testimony, suggesting he is concealing the truth. In October 1982, Lindy is found guilty and sentenced to life imprisonment with hard labour, while Michael is found guilty as an accessory and given an 18-month suspended sentence. More than three years later, while searching for the body of an English tourist who fell from Uluru, police discover a small item of clothing that is identified as the jacket Lindy had insisted Azaria was wearing over her jumpsuit, which had been recovered early in the investigation. She is immediately released from prison, the case reopened and all convictions against the Chamberlains overturned.']"
      ]
     },
     "execution_count": 9,
     "metadata": {},
     "output_type": "execute_result"
    }
   ],
   "source": [
    "summaries.take(5)"
   ]
  },
  {
   "cell_type": "markdown",
   "metadata": {},
   "source": [
    "#### Spark transformations"
   ]
  },
  {
   "cell_type": "markdown",
   "metadata": {},
   "source": [
    "Extract movie ids and titles"
   ]
  },
  {
   "cell_type": "code",
   "execution_count": 10,
   "metadata": {},
   "outputs": [],
   "source": [
    "movie_ids_and_titles = movies.map(lambda elem: elem.split(\"\\t\")).map(lambda movie: (movie[0], movie[2]))"
   ]
  },
  {
   "cell_type": "code",
   "execution_count": 11,
   "metadata": {},
   "outputs": [
    {
     "data": {
      "text/plain": [
       "[('975900', 'Ghosts of Mars'),\n",
       " ('3196793', 'Getting Away with Murder: The JonBenét Ramsey Mystery'),\n",
       " ('28463795', 'Brun bitter'),\n",
       " ('9363483', 'White Of The Eye'),\n",
       " ('261236', 'A Woman in Flames')]"
      ]
     },
     "execution_count": 11,
     "metadata": {},
     "output_type": "execute_result"
    }
   ],
   "source": [
    "movie_ids_and_titles.take(5)"
   ]
  },
  {
   "cell_type": "markdown",
   "metadata": {},
   "source": [
    "Extract the movie ids and summaries"
   ]
  },
  {
   "cell_type": "code",
   "execution_count": 12,
   "metadata": {},
   "outputs": [],
   "source": [
    "ids_and_summaries = summaries.map(lambda elem: elem.split('\\t')).map(lambda summary: (summary[0], summary[1]))"
   ]
  },
  {
   "cell_type": "code",
   "execution_count": 13,
   "metadata": {},
   "outputs": [
    {
     "data": {
      "text/plain": [
       "[('23890098',\n",
       "  \"Shlykov, a hard-working taxi driver and Lyosha, a saxophonist, develop a bizarre love-hate relationship, and despite their prejudices, realize they aren't so different after all.\"),\n",
       " ('31186339',\n",
       "  'The nation of Panem consists of a wealthy Capitol and twelve poorer districts. As punishment for a past rebellion, each district must provide a boy and girl  between the ages of 12 and 18 selected by lottery  for the annual Hunger Games. The tributes must fight to the death in an arena; the sole survivor is rewarded with fame and wealth. In her first Reaping, 12-year-old Primrose Everdeen is chosen from District 12. Her older sister Katniss volunteers to take her place. Peeta Mellark, a baker\\'s son who once gave Katniss bread when she was starving, is the other District 12 tribute. Katniss and Peeta are taken to the Capitol, accompanied by their frequently drunk mentor, past victor Haymitch Abernathy. He warns them about the \"Career\" tributes who train intensively at special academies and almost always win. During a TV interview with Caesar Flickerman, Peeta unexpectedly reveals his love for Katniss. She is outraged, believing it to be a ploy to gain audience support, as \"sponsors\" may provide in-Games gifts of food, medicine, and tools. However, she discovers Peeta meant what he said. The televised Games begin with half of the tributes killed in the first few minutes; Katniss barely survives ignoring Haymitch\\'s advice to run away from the melee over the tempting supplies and weapons strewn in front of a structure called the Cornucopia. Peeta forms an uneasy alliance with the four Careers. They later find Katniss and corner her up a tree. Rue, hiding in a nearby tree, draws her attention to a poisonous tracker jacker nest hanging from a branch. Katniss drops it on her sleeping besiegers. They all scatter, except for Glimmer, who is killed by the insects. Hallucinating due to tracker jacker venom, Katniss is warned to run away by Peeta. Rue cares for Katniss for a couple of days until she recovers. Meanwhile, the alliance has gathered all the supplies into a pile. Katniss has Rue draw them off, then destroys the stockpile by setting off the mines planted around it. Furious, Cato kills the boy assigned to guard it. As Katniss runs from the scene, she hears Rue calling her name. She finds Rue trapped and releases her. Marvel, a tribute from District 1, throws a spear at Katniss, but she dodges the spear, causing it to stab Rue in the stomach instead. Katniss shoots him dead with an arrow. She then comforts the dying Rue with a song. Afterward, she gathers and arranges flowers around Rue\\'s body. When this is televised, it sparks a riot in Rue\\'s District 11. President Snow summons Seneca Crane, the Gamemaker, to express his displeasure at the way the Games are turning out. Since Katniss and Peeta have been presented to the public as \"star-crossed lovers\", Haymitch is able to convince Crane to make a rule change to avoid inciting further riots. It is announced that tributes from the same district can win as a pair. Upon hearing this, Katniss searches for Peeta and finds him with an infected sword wound in the leg. She portrays herself as deeply in love with him and gains a sponsor\\'s gift of soup. An announcer proclaims a feast, where the thing each survivor needs most will be provided. Peeta begs her not to risk getting him medicine. Katniss promises not to go, but after he falls asleep, she heads to the feast. Clove ambushes her and pins her down. As Clove gloats, Thresh, the other District 11 tribute, kills Clove after overhearing her tormenting Katniss about killing Rue. He spares Katniss \"just this time...for Rue\". The medicine works, keeping Peeta mobile. Foxface, the girl from District 5, dies from eating nightlock berries she stole from Peeta; neither knew they are highly poisonous. Crane changes the time of day in the arena to late at night and unleashes a pack of hound-like creatures to speed things up. They kill Thresh and force Katniss and Peeta to flee to the roof of the Cornucopia, where they encounter Cato. After a battle, Katniss wounds Cato with an arrow and Peeta hurls him to the creatures below. Katniss shoots Cato to spare him a prolonged death. With Peeta and Katniss apparently victorious, the rule change allowing two winners is suddenly revoked. Peeta tells Katniss to shoot him. Instead, she gives him half of the nightlock. However, before they can commit suicide, they are hastily proclaimed the victors of the 74th Hunger Games. Haymitch warns Katniss that she has made powerful enemies after her display of defiance. She and Peeta return to District 12, while Crane is locked in a room with a bowl of nightlock berries, and President Snow considers the situation.'),\n",
       " ('20663735',\n",
       "  \"Poovalli Induchoodan  is sentenced for six years prison life for murdering his classmate. Induchoodan, the only son of Justice Maranchery Karunakara Menon  was framed in the case by Manapally Madhavan Nambiar  and his crony DYSP Sankaranarayanan  to take revenge on idealist judge Menon who had earlier given jail sentence to Manapally in a corruption case. Induchoodan, who had achieved top rank in Indian Civil Service loses the post and Manapally Sudheeran ([[Saikumar  enters the list of civil service trainees. We learn in flashback that it was Ramakrishnan  the son of Moopil Nair , who had actually killed his classmate. Six years passes by and Manapally Madhavan Nambiar, now a former state minister, is dead and Induchoodan, who is all rage at the gross injustice meted out to him - thus destroying his promising life, is released from prison. Induchoodan thwarts Manapally Pavithran  from performing the funeral rituals of Nambiar at Bharathapuzha. Many confrontations between Induchoodan and Manapally's henchmen follow. Induchoodan also falls in love with Anuradha ([[Aishwarya , the strong-willed and independent-minded daughter of Mooppil Nair. Justice Menon and his wife returns back to Kerala to stay with Induchoodan. There is an appearance of a girl named Indulekha ([[Kanaka , who claims to be the daughter of Justice Menon. Menon flatly refuses the claim and banishes her. Forced by circumstances and at the instigation and help of Manapally Pavithran, she reluctantly come out open with the claim. Induchoodan at first thrashes the protesters. But upon knowing the truth from Chandrabhanu his uncle, he accepts the task of her protection in the capacity as elder brother. Induchoodan decides to marry off Indulekha to his good friend Jayakrishnan . Induchoodan has a confrontation with his father and prods him to accept mistake and acknowledge the parentage of Indulekha. Menon ultimately regrets and goes on to confess to his daughter. The very next day, when Induchoodan returns to Poovally, Indulekha is found dead and Menon is accused of murdering her. The whole act was planned by Pavithran, who after killing Indulekha, forces Raman Nair  to testify against Menon in court. In court, Nandagopal Maarar , a close friend of Induchoodan and a famous supreme court lawyer, appears for Menon and manages to lay bare the murder plot and hidden intentions of other party . Menon is judged innocent of the crime by court. After confronting Pavithran and promising just retribution to the crime of killing Indulekha, Induchoodan returns to his father, who now shows remorse for all his actions including not believing in the innocence of his son. But while speaking to Induchoodan, Menon suffers a heart stroke and passes away. At Menon's funeral, Manapally Pavithran arrives to poke fun at Induchoodan and he also tries to carry out the postponed last rituals of his own father. Induchoodan interrupts the ritual and avenges for the death of his sister and father by severely injuring Pavithran. On his way back to peaceful life, Induchoodan accepts Anuradha as his life partner.\"),\n",
       " ('2231378',\n",
       "  'The Lemon Drop Kid , a New York City swindler, is illegally touting horses at a Florida racetrack. After several successful hustles, the Kid comes across a beautiful, but gullible, woman intending to bet a lot of money. The Kid convinces her to switch her bet, employing a prefabricated con. Unfortunately for the Kid, the woman \"belongs\" to notorious gangster Moose Moran , as does the money. The Kid\\'s choice finishes dead last and a furious Moran demands the Kid provide him with $10,000  by Christmas Eve, or the Kid \"won\\'t make it to New Year\\'s.\" The Kid decides to return to New York to try to come up with the money. He first tries his on-again, off-again girlfriend Brainy Baxter . However, when talk of long-term commitment arises, the Kid quickly makes an escape. He next visits local crime boss \"Oxford\" Charley , with whom he has had past dealings. This falls through as Charley is in serious tax trouble and does not particularly care for the Kid anyway. As he leaves Charley\\'s establishment and is about to give up hope, the Kid notices a cornerside Santa Claus and his kettle. Thinking quickly, the Kid fashions himself a Santa suit and begins collecting donations. This fails as he is recognized by a passing policeman, who remembers his previous underhanded activity well. The Kid lands in court, where he is convicted of collecting for a charity without a license and sentenced to ten days in jail . However, while in court, the Kid learns where his scheme went wrong. After a short stay, Brainy arrives to bail him out. He then sets about restarting his Santa operation, this time with legitimate backing. To this end, he needs a charity to represent and a city license. The kid receives key inspiration when he remembers that Nellie Thursday , a kindly neighborhood resident, has been denied entry to a retirement home because of her jailed husband\\'s criminal past as a safecracker. Organizing other small-time New York swindlers and Brainy, who is both surprised and charmed at the Kid\\'s apparent goodwill, the Kid converts an abandoned casino  into the \"Nellie Thursday Home For Old Dolls\". A small group of elderly women and makeshift amenities complete the project. The Kid is able to receive the all-important city license. Now free to collect, the Kid and his compatriots dress as Santa Claus and position themselves throughout Manhattan. The others are unaware that the Kid plans to keep the money for himself to pay off Moran. The scheme is a huge success, netting $2,000 in only a few days. An overjoyed Brainy decides to leave her job as a dancer and look after the \"home\" full-time until after Christmas. Coincidentally, her employer is none other than \"Oxford\" Charley, whom Brainy cheerfully informs of the effort. Seeing a potential gold mine, Charley decides to muscle in on the operation. Reasoning that the Nellie Thursday home is \"wherever Nellie Thursday is\", Charley and his crew kidnap the home\\'s inhabitants  and move them to Charley\\'s mansion in Nyack. The Kid learns of this when he returns to the home after a late night to find the home deserted and money  gone. Clued in by oversized Oxford footprints in the snow, the Kid and his friends pay Charley a visit. Here, Charley reveals the true nature of the Kid\\'s scheme through a phone conversation with Moose Moran. The Kid\\'s accomplices are angry and move to confront him, but the Kid manages to slip away. However, Brainy tracks him down outside and voices her disgust at his actions. After a few days of stewing in self-pity , the Kid is surprised to meet Nellie, who has escaped Charley\\'s compound. He decides to recover the money, sneaking into Charley\\'s home in the guise of an elderly woman. He finds that Charley and his crew are again moving the women, this time to a more secure location. Using the heightened activity to his advantage, the Kid enters Charley\\'s office and confronts him. After a brief struggle, the Kid overpowers Charley and makes off with the money, narrowly avoiding the thugs Charley has sent after him. The ensuing chaos allows Brainy and the others to escape. Later that night, the Kid returns to the original Nellie Thursday home to meet with Moose Moran . The deal appears to be in jeopardy as Moran arrives with Charley. Charley demands that the Kid reimburse him, which would leave too little for Moran. However, the Kid turns the tables by hitting a switch, revealing hidden casino tables. All are occupied, mainly by the escaped old dolls. The Kid and his still-loyal friends hold off the gangsters as the police initiate a raid. Moran and Charley are arrested while the judge who sentenced the Kid earlier warns that he will be \"keeping an eye on him\". The Kid assures him that will not be necessary and his attention will lie on the home, which is going to become a reality. The night\\'s main event begins as Nellie\\'s husband Henry, free on parole, joyously reunites with his wife.'),\n",
       " ('595909',\n",
       "  'Seventh-day Adventist Church pastor Michael Chamberlain, his wife Lindy, their two sons, and their nine-week-old daughter Azaria are on a camping holiday in the Outback. With the baby sleeping in their tent, the family is enjoying a barbecue with their fellow campers when a cry is heard. Lindy returns to the tent to check on Azaria and is certain she sees a dingo with something in its mouth running off as she approaches. When she discovers the infant is missing, everyone joins forces to search for her, without success. It is assumed what Lindy saw was the animal carrying off the child, and a subsequent inquest rules her account of events is true. The tide of public opinion soon turns against the Chamberlains. For many, Lindy seems too stoic, too cold-hearted, and too accepting of the disaster that has befallen her. Gossip about her begins to swell and soon is accepted as statements of fact. The couple\\'s beliefs are not widely practised in the country, and when the media report a rumour that the name Azaria means \"sacrifice in the wilderness\" , the public is quick to believe they decapitated their baby with a pair of scissors as part of a bizarre religious rite. Law-enforcement officials find new witnesses, forensics experts, and a lot of circumstantial evidence—including a small wooden coffin Michael uses as a receptacle for his parishioners\\' packs of un-smoked cigarettes—and reopen the investigation, and eventually Lindy is charged with murder. Seven months pregnant, she ignores her attorneys\\' advice to play on the jury\\'s sympathy and appears emotionless on the stand, convincing onlookers she is guilty of the crime of which she is accused. As the trial progresses, Michael\\'s faith in his religion and his belief in his wife disintegrate, and he stumbles through his testimony, suggesting he is concealing the truth. In October 1982, Lindy is found guilty and sentenced to life imprisonment with hard labour, while Michael is found guilty as an accessory and given an 18-month suspended sentence. More than three years later, while searching for the body of an English tourist who fell from Uluru, police discover a small item of clothing that is identified as the jacket Lindy had insisted Azaria was wearing over her jumpsuit, which had been recovered early in the investigation. She is immediately released from prison, the case reopened and all convictions against the Chamberlains overturned.')]"
      ]
     },
     "execution_count": 13,
     "metadata": {},
     "output_type": "execute_result"
    }
   ],
   "source": [
    "ids_and_summaries.take(5)"
   ]
  },
  {
   "cell_type": "markdown",
   "metadata": {},
   "source": [
    "Get only the ids of summaries"
   ]
  },
  {
   "cell_type": "code",
   "execution_count": 14,
   "metadata": {},
   "outputs": [],
   "source": [
    "ids_of_summaries = ids_and_summaries.map(lambda elem: elem[0]).collect()"
   ]
  },
  {
   "cell_type": "code",
   "execution_count": 15,
   "metadata": {},
   "outputs": [
    {
     "data": {
      "text/plain": [
       "['23890098', '31186339', '20663735', '2231378', '595909']"
      ]
     },
     "execution_count": 15,
     "metadata": {},
     "output_type": "execute_result"
    }
   ],
   "source": [
    "ids_of_summaries[:5]"
   ]
  },
  {
   "cell_type": "markdown",
   "metadata": {},
   "source": [
    "Keep only the movies for which you have summaries"
   ]
  },
  {
   "cell_type": "code",
   "execution_count": 16,
   "metadata": {},
   "outputs": [],
   "source": [
    "kept_movies = movie_ids_and_titles.filter(lambda elem: elem[0] in ids_of_summaries)"
   ]
  },
  {
   "cell_type": "code",
   "execution_count": 17,
   "metadata": {},
   "outputs": [
    {
     "data": {
      "text/plain": [
       "42207"
      ]
     },
     "execution_count": 17,
     "metadata": {},
     "output_type": "execute_result"
    }
   ],
   "source": [
    "kept_movies.count()"
   ]
  },
  {
   "cell_type": "markdown",
   "metadata": {},
   "source": [
    "We found that some summaries where not available, but we can proceed with the 42207 movies."
   ]
  },
  {
   "cell_type": "code",
   "execution_count": 18,
   "metadata": {},
   "outputs": [
    {
     "data": {
      "text/plain": [
       "[('975900', 'Ghosts of Mars'),\n",
       " ('9363483', 'White Of The Eye'),\n",
       " ('261236', 'A Woman in Flames'),\n",
       " ('18998739', \"The Sorcerer's Apprentice\"),\n",
       " ('6631279', 'Little city')]"
      ]
     },
     "execution_count": 18,
     "metadata": {},
     "output_type": "execute_result"
    }
   ],
   "source": [
    "kept_movies.take(5)"
   ]
  },
  {
   "cell_type": "markdown",
   "metadata": {},
   "source": [
    "Now we need to join the movie titles with their summaries"
   ]
  },
  {
   "cell_type": "code",
   "execution_count": 19,
   "metadata": {},
   "outputs": [],
   "source": [
    "joint_rdd = kept_movies.join(ids_and_summaries).cache()"
   ]
  },
  {
   "cell_type": "code",
   "execution_count": 20,
   "metadata": {},
   "outputs": [
    {
     "data": {
      "text/plain": [
       "42207"
      ]
     },
     "execution_count": 20,
     "metadata": {},
     "output_type": "execute_result"
    }
   ],
   "source": [
    "joint_rdd.count()"
   ]
  },
  {
   "cell_type": "code",
   "execution_count": 21,
   "metadata": {},
   "outputs": [
    {
     "data": {
      "text/plain": [
       "[('156558',\n",
       "  ('Baby Boy',\n",
       "   'A young 20-year-old named Jody  lives with his mother Juanita ,{{amg movie}} in South Central Los Angeles. He spends most of his time with his unemployed best friend P , and does not seem interested in becoming a responsible adult. However, he is forced to mature as a result of an ex-con named Melvin , who moves into their home. Another factor is his children - a son with his girlfriend Yvette  and a daughter with a girl named Peanut, who also lives with her mother. At the beginning of the movie Yvette has an abortion that Jody forced her to have. Yvette constantly asks Jody if he will ever come live with her and their son, but Jody avoids the subject and comes and goes as he pleases. Jody also continues seeing and having sex with other women, including Peanut. This becomes an issue between him and Yvette as well, especially since Yvette and Peanut do not get along. When she discovers his cheating they get in a heated argument which results to Jody slapping Yvette in the face. After this, Yvette changes the locks on the door. This infuriates Jody and they get into an argument. Their son comes out of his room and runs to the door. Yvette grabs him and cradles him while he yells, \"I wanna see my daddy.\" Eventually, Yvette\\'s gangster ex-boyfriend Rodney  is released from San Quentin State Prison, and returns to the neighborhood to move in with Yvette, much to her dismay. Rodney doesn\\'t care for Yvette and Jody\\'s son and wants to impregnate Yvette himself. Rodney attempts to rape Yvette in front of her son. She tells him, \"So you\\'re really gonna rape me in front of my son\". Rodney pauses for a minute then pushes her son out of the way and walks out of the room. Jody Jr. aka JoJo then says, \"I want my daddy.\" Yvette then cradles her son and replies, \"I know baby, I do too.\" For the next couple of days Yvette lives in fear and disgust of Rodney being there and misses Jody. Rodney, who realizes this, steals the money from her wallet and takes off in her car to go and find Jody. Rodney tries to kill Jody in a drive-by shooting; however, he is unsuccessful with both efforts. After this Yvette kicks Rodney and his friends out of her apartment. While at Sweetpea\\'s house playing cards, Yvette and Sweetpea\\'s girlfriend Kim step outside. Yvette then goes and sits beside Jody. When Jody ignores her she throws the chair back and runs off. Jody goes after her. She then tells Jody about everything she has been going through, even about Rodney trying rape her. Jody then hugs Yvette and says that he\\'s been missing her. Jody and Sweetpea confront Rodney, and as he attempts to escape, Jody shoots him in the ankle. Sweetpea urges Jody to kill Rodney, but he refuses, at which point Sweetpea kills Rodney himself. Feeling guilty for Rodney\\'s death, Jody prepares to commit suicide by shooting himself in the head, but Melvin catches him and takes the gun. After reflecting on the death of Rodney and how he put Yvette and his son in danger by not being around consistently, Jody finally moves out of his mom\\'s house and in with Yvette. They move into a motel after the killing. Jody has now become a mature man, realizing that his mom\\'s relationship with Melvin is a stable one and that he has a family of his own that he needs to protect and take care of. Afterwards, Jody and Yvette get married and she becomes pregnant with Jody\\'s third child and her second child with him. Sweetpea decides to turn over a new life and gets baptized, putting his old life as a street thug behind him.')),\n",
       " ('9633533',\n",
       "  ('Vandanam',\n",
       "   \"Professor Kurian Fernandez , a convict escapes from jail, along with Raghu , his cell mate. After a failed attempt to chase and nab the duo, the officials draws out several plans to capture both. Police authorities strongly feel that Fernandez will land up in Banglore and may try to meet up with his only daughter. Unnikrishnan  and K.Purushothaman Nair , two inspectors from Kerala police are sent to Bangalore to follow the activities of Gadha , daughter of Fernandez. Upon reaching Bangalore, Unnikrishnan meets Peter ([[Mukesh , his college mate, who is also now an inspector with Karnataka police. Unnikrishnan and Peter makes up a team and sidelines Purushothaman Nair, who struggles hard to cope up with Kannada language. The police team stays at a room just opposite to where Gadha stays as a paying guests. Gadha, working at an advertisement agency as a copy writer is staying along with Maggie Aunty , who is constantly in fight with her son . Unnikrishnan and Peter, who are born flirts, are more interested in drinking and playing cards than investigation. K.P.Nair tries to report this to the authorities, but fails in getting both in control. Unnikrishnan slowly develops a crush towards Gadha, which gets transformed into a full fledged passion, but Gadha never accepts it. Unni befriends with Maggie aunty and tries all ways to woo Gadha. Meanwhile Unni and Peter finds out that Fernandez is in the city and is constantly in touch with Gadha. The police commissioner  is in all efforts to nab Fernandez. Unnikrishnan decides to use Gadha to reach out Fernandez. Gadha reveals to Unni about the past of Fernandez, when he was a college professor, who was loved and cared by the students. The sincere professor questioned the college authorities on many administration malpractices, which made him a dust in their eyes. The son of the police commissioner was punished by professor, which led to serious fracas in college and authorities were forced to take action on him under severe protests from students. In retaliation, he attacked professor while traveling with a female student. The girl got raped and killed and professor was falsely convicted in the case. Now, professor is out of jail to avenge on it. Unnikrishnan tries to convince professor with the help of Gadha, but he fails to give up. Meanwhile, an old man, who is a client of the ad agency, where Gadha works, likes her and asks her to join him as his secretary abroad. Gadha, who had by then developed a soft feeling towards Unni lets him to bring his mother  to see her. At the same time, Professor succeeds in killing the son of the commissioner. He orders a shoot at sight at Fernandez. Professor goes berserk and looses mental stability and decides to plant a bomb at the city stadium, which might kill hundreds of civilians. Unnikrishnan asks Gadha to make him give up this heinous plan, but he refuses. That evening, Fernandez plants a bomb, but police team under Unnikrishnan corners him and takes him to the tower. Professor, despite repeated requests denies to explain how defuse the bomb. But Unnikrishnan successfully defuses the bomb, thereby saving the lives of hundreds. But Gadha, who actually wanted to join with Unni, couldn't join with him and decides to go with the old man to London. The film ends with both the cars with Gadha and Unni stopping at a junction, when the signal turns green, they move to opposite roads.\")),\n",
       " ('25960460',\n",
       "  ('Daddy and Them',\n",
       "   \"Ruby and Claude Montgomery are a very insecure and jealous couple, who must help when Claude's Uncle Hazel is jailed for attempted murder. An Arkansan family reunites as they travel with Ruby's older sister Rose, with whom Claude had a previous relationship, and Ruby and Rose's mother Jewel, who continuously talks about Rose and Claude's past relationship, which irritates Ruby.\")),\n",
       " ('12008535',\n",
       "  ('Rudo y Cursi',\n",
       "   \"In the fictional farming village of Tlachtlán, in the Cihuatlán Valley of Jalisco, Mexico, young men dream of escaping the drudgery of the banana plantations. Two of them, a pair of half-brothers, play in local soccer matches. Tato  is the star striker and Beto  is the eccentric goalkeeper. During one match they are spotted by a talent scout  and he offers one of them the opportunity to go to Mexico City with him and try out for one of the country's big teams. As the scout's roster is already full, he says he can only take one of the brothers and they decide to settle it on a penalty shot. Tato scores the penalty against his brother therefore earning the right to head to the capital. After a slow start Tato finally makes it big and earns the nickname 'Cursi' . His brother soon follows and joins a rival team where he is given the nickname 'Rudo' . Cursi becomes a national hero and starts dating Maya Vega , a famous model, whilst his brother struggles with life in the city and misses his family back home. Things start to go worse for the brothers. Tato loses both his woman and his goal scoring touch while his brother gets lured into a world of cocaine and gambling. It becomes clear that the drug cartels own everything. Their sister back home marries the local drug lord, Don Casimiro, whose far-reaching tentacles eventually affect the whole family. Everything finally depends upon one match as the two brothers come face to face. Cursi is threatened with demotion to Division 2 if he fails to score in this match; Rudo must throw the match in order to pay off his gambling debts or he will be killed. In the last minute Rudo saves a penalty from Tato and the match finishes goalless. Cursi quits football and returns home, and Rudo is shot, losing a leg and ending his career. They both end up back in Tlachtlán with their family where the simpler lifestyle seems to better suit them.\")),\n",
       " ('4951456',\n",
       "  ('Kinjite: Forbidden Subjects',\n",
       "   'A Japanese businessman sees a woman being groped in a crowded Tokyo subway. He is interested to see how she would rather moan silently, involuntary orgasm than let people know she is being groped. When he is transferred to Los Angeles, the Japanese businessman tries to imitate what he saw by groping who happens to be Lt. Crowe \\'s daughter. But unlike in Japan, the American woman raises a commotion and makes him run away in embarrassment. Meanwhile, the daughter of the same Japanese businessman is kidnapped into a child prostitution ring led by the infamous \\'Pimp-King\\' Duke. Lt. Crowe, who claims the Japanese are in the process of buying Los Angeles, is recruited to find the daughter. Lt. Crowe and his partner indeed find the daughter, and Lt. Crowe changes his opinions about the Japanese when the Japanese businessman and his wife visit his house bearing gifts. Lt. Crowe\\'s daughter recognizes the Japanese businessman but says nothing. Back at home, the Japanese businessman\\'s daughter cannot cope with what happened to her back in the ring, and commits suicide by an overdose. Lt. Crowe and his partner thus go to find Duke by any means necessary. In the ensuing fight, Duke manages to kill Lt. Crowe\\'s partner, but &ndash; not knowing how to swim &ndash; almost drowns in the process of the fight. Lt. Crowe does answer his calls for help, but arranges for the small, long haired pimp to serve his prison sentence in a particularly harsh environment with multiple muscular, threatening inmates, all of whom make clear their desire to rape him. Lt. Crowe personally escorts the Duke to his cell, then walks away smiling. As Duke screams after him in petrified rage, Crowe looks back and says, \"Now that\\'s justice.\"'))]"
      ]
     },
     "execution_count": 21,
     "metadata": {},
     "output_type": "execute_result"
    }
   ],
   "source": [
    "joint_rdd.take(5)"
   ]
  },
  {
   "cell_type": "markdown",
   "metadata": {},
   "source": [
    "## Using a doc2vec model on the available data"
   ]
  },
  {
   "cell_type": "markdown",
   "metadata": {},
   "source": [
    "Based on the idea found on this [this link](http://sujitpal.blogspot.com/2016/04/predicting-movie-tags-from-plots-using.html) we wish to use a document_2_vector model so that we can vectorize the content of the summaries to vectors, and that we can use them in order to find movies similar to the interest of a user based on the cosine similarity of the extracted documents."
   ]
  },
  {
   "cell_type": "code",
   "execution_count": 53,
   "metadata": {},
   "outputs": [],
   "source": [
    "from gensim.models.doc2vec import TaggedDocument\n",
    "from gensim.models import Doc2Vec\n",
    "from random import shuffle\n",
    "from sklearn.model_selection import train_test_split\n",
    "import nltk\n",
    "import numpy as np"
   ]
  },
  {
   "cell_type": "code",
   "execution_count": 48,
   "metadata": {},
   "outputs": [
    {
     "name": "stdout",
     "output_type": "stream",
     "text": [
      "[nltk_data] Downloading package punkt to\n",
      "[nltk_data]     /Users/alexandros.ferles/nltk_data...\n",
      "[nltk_data]   Unzipping tokenizers/punkt.zip.\n"
     ]
    },
    {
     "data": {
      "text/plain": [
       "True"
      ]
     },
     "execution_count": 48,
     "metadata": {},
     "output_type": "execute_result"
    }
   ],
   "source": [
    "nltk.download('punkt')"
   ]
  },
  {
   "cell_type": "code",
   "execution_count": 23,
   "metadata": {},
   "outputs": [],
   "source": [
    "model = Doc2Vec(dm=0, vector_size=100, negative=5, hs=0, min_count=2)"
   ]
  },
  {
   "cell_type": "code",
   "execution_count": 45,
   "metadata": {},
   "outputs": [],
   "source": [
    "only_summaries = joint_rdd.map(lambda elem: elem[1][1]).collect()"
   ]
  },
  {
   "cell_type": "code",
   "execution_count": 61,
   "metadata": {},
   "outputs": [],
   "source": [
    "sentences = [TaggedDocument(doc, [i]) for i, doc in enumerate(only_summaries)]"
   ]
  },
  {
   "cell_type": "code",
   "execution_count": 74,
   "metadata": {},
   "outputs": [],
   "source": [
    "model = Doc2Vec(documents, vector_size=100, negative=5, hs=0, min_count=2)"
   ]
  },
  {
   "cell_type": "markdown",
   "metadata": {},
   "source": [
    "Train the doc2Vec model"
   ]
  },
  {
   "cell_type": "code",
   "execution_count": 82,
   "metadata": {},
   "outputs": [],
   "source": [
    "from tqdm import tqdm"
   ]
  },
  {
   "cell_type": "code",
   "execution_count": 83,
   "metadata": {},
   "outputs": [
    {
     "name": "stderr",
     "output_type": "stream",
     "text": [
      "100%|██████████| 20/20 [04:23<00:00, 12.98s/it]\n"
     ]
    }
   ],
   "source": [
    "alpha = 0.025\n",
    "min_alpha = 0.001\n",
    "num_epochs = 20\n",
    "alpha_delta = (alpha - min_alpha) / num_epochs\n",
    "\n",
    "for epoch in tqdm(range(num_epochs)):\n",
    "    shuffle(sentences)\n",
    "    model.alpha = alpha\n",
    "    model.min_alpha = alpha\n",
    "    model.train(sentences, total_examples=model.corpus_count, epochs=1)\n",
    "    alpha -= alpha_delta"
   ]
  },
  {
   "cell_type": "code",
   "execution_count": 84,
   "metadata": {},
   "outputs": [
    {
     "data": {
      "text/plain": [
       "<gensim.models.doc2vec.Doc2Vec at 0x11ed9a780>"
      ]
     },
     "execution_count": 84,
     "metadata": {},
     "output_type": "execute_result"
    }
   ],
   "source": [
    "We can see that the trained model"
   ]
  },
  {
   "cell_type": "code",
   "execution_count": 86,
   "metadata": {},
   "outputs": [
    {
     "data": {
      "text/plain": [
       "array([ 3.35745700e-02,  6.84581045e-03, -8.33332837e-02,  5.95750324e-02,\n",
       "        2.94893458e-02, -4.44047116e-02,  9.32905525e-02, -6.17083684e-02,\n",
       "        9.08117965e-02, -2.30221674e-02, -4.95272763e-02,  2.69503519e-03,\n",
       "        2.32944768e-02, -4.41004559e-02, -1.17280625e-01, -3.69116594e-03,\n",
       "        6.42675674e-03, -2.95317061e-02,  6.27793670e-02, -9.50667355e-03,\n",
       "        1.71459317e-01, -9.37651172e-02,  4.02137451e-02, -2.54107174e-03,\n",
       "        1.86351165e-01, -8.39546844e-02,  1.42284231e-02, -2.95529608e-02,\n",
       "       -4.00071740e-02,  5.61882891e-02, -5.88813685e-02,  3.18345875e-02,\n",
       "       -4.92487708e-03,  9.68242437e-02, -6.64590523e-02, -1.77101403e-01,\n",
       "       -3.58027667e-02,  6.84229238e-03, -3.82050276e-02, -1.06377356e-01,\n",
       "        5.75787723e-02, -4.21793684e-02,  1.21596217e-01,  4.07193415e-02,\n",
       "       -5.78942103e-03, -2.61177234e-02, -1.15547791e-01,  9.75271910e-02,\n",
       "        2.47938503e-02, -4.07442264e-02, -3.79833542e-02, -2.93961391e-02,\n",
       "        2.84741689e-02, -5.28286211e-03,  4.92030829e-02, -1.09722838e-01,\n",
       "       -4.24966812e-02, -1.38351411e-01, -7.38756498e-05,  2.37428583e-02,\n",
       "        5.28419502e-02, -2.90737804e-02, -4.26949076e-02, -5.16210757e-02,\n",
       "       -9.95184705e-02,  6.79818029e-03,  2.52160919e-03, -3.71106118e-02,\n",
       "       -1.26429960e-01,  2.20195763e-02, -4.08501327e-02, -2.78081056e-02,\n",
       "       -3.95794958e-02, -3.29566933e-02, -3.18852589e-02, -5.34014814e-02,\n",
       "       -1.04824819e-01, -3.82606797e-02,  4.81809415e-02,  2.10902374e-02,\n",
       "       -1.18360341e-01, -1.38596222e-02, -6.22109585e-02, -1.15120552e-01,\n",
       "        7.95555487e-02, -9.32253897e-03,  3.48407105e-02, -3.77022885e-02,\n",
       "        9.99932140e-02, -4.53096814e-03, -5.59669994e-02,  9.13612768e-02,\n",
       "        4.07281220e-02,  4.38889079e-02,  1.08932398e-01,  7.80802295e-02,\n",
       "        8.84780847e-03,  2.29861997e-02, -4.86917852e-04, -1.84179544e-02],\n",
       "      dtype=float32)"
      ]
     },
     "execution_count": 86,
     "metadata": {},
     "output_type": "execute_result"
    }
   ],
   "source": [
    "model.infer_vector(only_summaries[0])"
   ]
  },
  {
   "cell_type": "code",
   "execution_count": null,
   "metadata": {},
   "outputs": [],
   "source": []
  }
 ],
 "metadata": {
  "kernelspec": {
   "display_name": "Python 3",
   "language": "python",
   "name": "python3"
  },
  "language_info": {
   "codemirror_mode": {
    "name": "ipython",
    "version": 3
   },
   "file_extension": ".py",
   "mimetype": "text/x-python",
   "name": "python",
   "nbconvert_exporter": "python",
   "pygments_lexer": "ipython3",
   "version": "3.7.0"
  }
 },
 "nbformat": 4,
 "nbformat_minor": 2
}
